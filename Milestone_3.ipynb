{
  "nbformat": 4,
  "nbformat_minor": 0,
  "metadata": {
    "colab": {
      "provenance": [],
      "toc_visible": true
    },
    "kernelspec": {
      "name": "python3",
      "display_name": "Python 3"
    },
    "language_info": {
      "name": "python"
    }
  },
  "cells": [
    {
      "cell_type": "markdown",
      "source": [
        "**Our data story and the interactive plots are [here](https://germouche.github.io/stuckoverflow/).**"
      ],
      "metadata": {
        "id": "ZZuPnu4N-Kl6"
      }
    },
    {
      "cell_type": "code",
      "source": [
        "import pandas as pd\n",
        "import numpy as np\n",
        "import string\n",
        "from tqdm import tqdm\n",
        "import time\n",
        "import gc\n",
        "import plotly.express as px\n",
        "import os \n",
        "import networkx as nx\n",
        "import pickle\n",
        "import plotly.graph_objects as go\n",
        "from datetime import datetime\n",
        "from sknetwork.visualization import svg_graph, svg_bigraph\n",
        "from IPython.display import SVG,display\n",
        "from sknetwork.data import from_edge_list\n",
        "from cairosvg import svg2png\n",
        "from math import sqrt\n",
        "from scipy.stats import bootstrap"
      ],
      "metadata": {
        "id": "k6B94-WbArw2"
      },
      "execution_count": null,
      "outputs": []
    },
    {
      "cell_type": "code",
      "source": [
        "categories = ['Sports',\n",
        " 'People & Blogs',\n",
        " 'Howto & Style',\n",
        " 'News & Politics',\n",
        " 'Autos & Vehicles',\n",
        " 'Travel & Events',\n",
        " 'Film & Animation',\n",
        " 'Entertainment',\n",
        " 'Music',\n",
        " 'Nonprofits & Activism',\n",
        " 'Pets & Animals',\n",
        " 'Science & Technology',\n",
        " 'Comedy',\n",
        " 'Gaming',\n",
        " 'Education']"
      ],
      "metadata": {
        "id": "RdmX3X9TBcD-"
      },
      "execution_count": null,
      "outputs": []
    },
    {
      "cell_type": "markdown",
      "source": [
        "Given the size of the dataset. We saved the data in two formats that are useful and will be used throught this notebook. \n",
        "- We first saved the data into chunks, extracted only the relevant columns and also turned \"tags\" column from string to set.\n",
        "- We also saved the network version of the dataset for each month and category.\n",
        "This files helped us save a lot of time while doing the analysis."
      ],
      "metadata": {
        "id": "XWaXWQEsiDAh"
      }
    },
    {
      "cell_type": "code",
      "source": [
        "def tags_to_set(row):\n",
        "  if row!=\"\":\n",
        "    return set([s.translate(str.maketrans('', '', string.punctuation)) for s in row.lower().split(\",\")]) \n",
        "  else:\n",
        "    return {}"
      ],
      "metadata": {
        "id": "qQEOaEXDsByb"
      },
      "execution_count": null,
      "outputs": []
    },
    {
      "cell_type": "code",
      "source": [
        "import gc\n",
        "categories = [\"Entertainment\",\"Gaming\",\"News & Politics\",\"Music\"]\n",
        "for category in categories:\n",
        "  df_category = pd.DataFrame()\n",
        "  category_path1 = f\"./category_data/{category}_with_id_title_1.json\"\n",
        "  category_path2 = f\"./category_data/{category}_with_id_title_2.json\"\n",
        "\n",
        "  # Read each processed chunk, create edge dictionaries \n",
        "  print(category)\n",
        "  idx = 0\n",
        "  for json_file in tqdm.tqdm([fname for fname in os.listdir(\"data_chunks/\") if fname.endswith('.json') and fname.startswith(\"data_title\")]):\n",
        "    df_json = pd.read_json(os.path.join(\"data_chunks\",json_file), compression=\"infer\")\n",
        "    df_json = df_json[df_json[\"categories\"] == category]\n",
        "    df_json = df_json.drop(columns=[\"categories\"])\n",
        "    df_category = pd.concat([df_category,df_json])\n",
        "    idx += 1\n",
        "    if idx==73:\n",
        "      df_category.to_json(category_path1) \n",
        "      del df_category\n",
        "      gc.collect()\n",
        "      df_category = pd.DataFrame()\n",
        "  df_category.to_json(category_path2) "
      ],
      "metadata": {
        "id": "wG8bb28AsC9r"
      },
      "execution_count": null,
      "outputs": []
    },
    {
      "cell_type": "code",
      "source": [
        "categories = ['Sports',\n",
        " 'People & Blogs',\n",
        " 'Howto & Style',\n",
        " 'Autos & Vehicles',\n",
        " 'Travel & Events',\n",
        " 'Film & Animation',\n",
        " 'Nonprofits & Activism',\n",
        " 'Pets & Animals',\n",
        " 'Science & Technology',\n",
        " 'Comedy',\n",
        " 'Education']\n",
        " \n",
        "for category in categories:\n",
        "  df_category = pd.DataFrame()\n",
        "  category_path = f\"./category_data/{category}_with_id_title.json\"\n",
        "\n",
        "  print(category)\n",
        "  idx = 0\n",
        "  for json_file in tqdm.tqdm([fname for fname in os.listdir(\"data_chunks/\") if fname.endswith('.json') and fname.startswith(\"data_title\")]):\n",
        "    df_json = pd.read_json(os.path.join(\"data_chunks\",json_file), compression=\"infer\")\n",
        "    df_json = df_json[df_json[\"categories\"] == category]\n",
        "    df_json = df_json.drop(columns=[\"categories\"])\n",
        "    df_category = pd.concat([df_category,df_json])\n",
        "  df_category.to_json(category_path) "
      ],
      "metadata": {
        "id": "eSAM-cfMsOM6"
      },
      "execution_count": null,
      "outputs": []
    },
    {
      "cell_type": "code",
      "source": [
        "def get_edges(df,edges):\n",
        "  for i, row in df.iterrows():\n",
        "    tags = row[\"tags\"]\n",
        "    pairs = list(itertools.combinations(tags,2))\n",
        "    for pair in pairs:\n",
        "      # Since undirected, all pairs contain the tag with smaller lexicographic order at the first index\n",
        "      key_value = (pair[0],pair[1]) if pair[0]<pair[1] else (pair[1],pair[0])\n",
        "      if key_value in edges.keys():\n",
        "        edges[key_value] = edges[key_value] + 1\n",
        "      else:\n",
        "        edges[key_value] = 1"
      ],
      "metadata": {
        "id": "H3utZl3pru5i"
      },
      "execution_count": null,
      "outputs": []
    },
    {
      "cell_type": "code",
      "source": [
        "def get_monthly_graph(x,category):\n",
        "  upload_date = x[\"upload_date\"].iloc[0]\n",
        "  dir_path = f\"./category_data/{category}\"\n",
        "  \n",
        "  edges = {}\n",
        "  if os.path.exists(f\"{dir_path}/{category}_{upload_date}.pkl\"):\n",
        "    with open(f\"{dir_path}/{category}_{upload_date}.pkl\",\"rb\") as pkl_file:\n",
        "      edges = pkl.load(pkl_file)\n",
        "  # add edges from new chunk to the existing dictionary created using previous chunks\n",
        "  get_edges(x,edges)\n",
        "\n",
        "  with open(f\"{dir_path}/{category}_{upload_date}.pkl\",\"wb\") as pkl_file:\n",
        "    pkl.dump(edges, pkl_file, protocol=pkl.HIGHEST_PROTOCOL)\n",
        "  del edges"
      ],
      "metadata": {
        "id": "GwmvJNjfryV_"
      },
      "execution_count": null,
      "outputs": []
    },
    {
      "cell_type": "markdown",
      "source": [
        "## Distribution of Tag Counts"
      ],
      "metadata": {
        "id": "gPrjnMfzBDXa"
      }
    },
    {
      "cell_type": "markdown",
      "source": [
        "We analyze the number of tags each video uses to see if tags are used in general."
      ],
      "metadata": {
        "id": "UVuapNbThtJc"
      }
    },
    {
      "cell_type": "code",
      "source": [
        "# return the tag count\n",
        "def count_t(tags):\n",
        "  return len(tags)"
      ],
      "metadata": {
        "id": "HavTe2NbAeCp"
      },
      "execution_count": null,
      "outputs": []
    },
    {
      "cell_type": "markdown",
      "source": [
        "To find the tag counts, we visit every chunk, and add the tag count information to a global dictionary."
      ],
      "metadata": {
        "id": "3LsDLxbmijC3"
      }
    },
    {
      "cell_type": "code",
      "source": [
        "# For each category save counts dict\n",
        "counts =dict()\n",
        "for category in categories:\n",
        "  counts[category] = dict()\n",
        "\n",
        "for json_file in tqdm.tqdm([fname for fname in os.listdir(\"data_chunks/\") if fname.endswith('.json') and not fname.startswith(\"data_title\")]):\n",
        "  df = pd.read_json(\"data_chunks/\"+json_file)\n",
        "  df[\"count\"] = df[\"tags\"].apply(count_t)\n",
        "  for k, gp in df.groupby(\"categories\"):\n",
        "    for count in list(gp[\"count\"]):\n",
        "      counts[k][count] = counts[k].get(count,0) + 1\n",
        "\n",
        "# combine category dictionary to a total one\n",
        "total_dict = counts[categories[0]]\n",
        "\n",
        "for category in counts:\n",
        "  if category == categories[0]:\n",
        "    continue\n",
        "\n",
        "  for count in counts[category].keys():\n",
        "    total_dict[count] = total_dict.get(count,0) + counts[category][count]\n",
        "    \n",
        "total_dict_df = pd.DataFrame.from_dict(total_dict,\"index\")"
      ],
      "metadata": {
        "id": "dLWa5AIFAfp7"
      },
      "execution_count": null,
      "outputs": []
    },
    {
      "cell_type": "code",
      "source": [
        "fig = px.bar(total_dict_df, x=total_dict_df.index, y=0, title=\"Distribution of Tag Counts\", labels={'index': 'Tag Count', \"0\":'Number of Videos'})\n",
        "fig.show()"
      ],
      "metadata": {
        "colab": {
          "base_uri": "https://localhost:8080/",
          "height": 542
        },
        "id": "44i26_bi6o1j",
        "outputId": "d0a4f403-b2d7-470d-a2fe-82008dba6572"
      },
      "execution_count": null,
      "outputs": [
        {
          "output_type": "display_data",
          "data": {
            "text/html": [
              "<html>\n",
              "<head><meta charset=\"utf-8\" /></head>\n",
              "<body>\n",
              "    <div>            <script src=\"https://cdnjs.cloudflare.com/ajax/libs/mathjax/2.7.5/MathJax.js?config=TeX-AMS-MML_SVG\"></script><script type=\"text/javascript\">if (window.MathJax) {MathJax.Hub.Config({SVG: {font: \"STIX-Web\"}});}</script>                <script type=\"text/javascript\">window.PlotlyConfig = {MathJaxConfig: 'local'};</script>\n",
              "        <script src=\"https://cdn.plot.ly/plotly-2.8.3.min.js\"></script>                <div id=\"6993a29e-ffb7-4bd3-88ac-d53079302821\" class=\"plotly-graph-div\" style=\"height:525px; width:100%;\"></div>            <script type=\"text/javascript\">                                    window.PLOTLYENV=window.PLOTLYENV || {};                                    if (document.getElementById(\"6993a29e-ffb7-4bd3-88ac-d53079302821\")) {                    Plotly.newPlot(                        \"6993a29e-ffb7-4bd3-88ac-d53079302821\",                        [{\"alignmentgroup\":\"True\",\"hovertemplate\":\"Tag Count=%{x}<br>Number of Videos=%{y}<extra></extra>\",\"legendgroup\":\"\",\"marker\":{\"color\":\"#636efa\",\"pattern\":{\"shape\":\"\"}},\"name\":\"\",\"offsetgroup\":\"\",\"orientation\":\"v\",\"showlegend\":false,\"textposition\":\"auto\",\"x\":[21,13,0,23,2,6,1,8,29,26,31,32,30,25,28,27,54,34,33,53,18,10,16,15,7,11,12,5,3,4,9,14,24,20,22,19,17,35,48,37,38,58,49,52,41,44,47,50,40,56,51,60,55,61,63,69,42,39,36,46,43,45,57,79,64,65,59,70,66,62,71,68,73,67,75,74,72,77,76,78,81,84,86,83,82,85,80,87,88,104,91,92,89,97,93,95,90,94,96,98,99,100,113,110,114,103,115,109,106,108,112,107,105,111,102,118,101,117,116,121,119,126,122,133,131,129,124,125],\"xaxis\":\"x\",\"y\":[1788311,2135111,7122608,1579292,1882748,2562323,2082582,2548148,965295,1282491,808339,722895,901025,1377560,1042869,1150168,78491,620901,650874,91505,1938288,2458466,2023882,2063776,2588886,2243599,2201853,2428906,2252202,2323566,2536212,2116382,1477255,1846779,1666105,1879848,1992124,527934,131754,421812,386335,61549,127309,92945,293368,225709,143567,123249,310339,69559,102840,51954,76787,42831,48930,31631,279522,373936,491597,161337,239790,183356,76625,4741,55176,31970,56485,23985,37070,45894,17631,33002,11988,29583,9208,10325,16565,5393,7546,4699,2496,992,906,1165,1538,1211,3928,857,550,15,126,79,221,76,101,119,186,94,102,65,113,39,10,31,10,37,9,33,29,20,13,13,27,19,16,7,25,6,4,1,2,5,2,1,1,1,1,1],\"yaxis\":\"y\",\"type\":\"bar\"}],                        {\"template\":{\"data\":{\"bar\":[{\"error_x\":{\"color\":\"#2a3f5f\"},\"error_y\":{\"color\":\"#2a3f5f\"},\"marker\":{\"line\":{\"color\":\"#E5ECF6\",\"width\":0.5},\"pattern\":{\"fillmode\":\"overlay\",\"size\":10,\"solidity\":0.2}},\"type\":\"bar\"}],\"barpolar\":[{\"marker\":{\"line\":{\"color\":\"#E5ECF6\",\"width\":0.5},\"pattern\":{\"fillmode\":\"overlay\",\"size\":10,\"solidity\":0.2}},\"type\":\"barpolar\"}],\"carpet\":[{\"aaxis\":{\"endlinecolor\":\"#2a3f5f\",\"gridcolor\":\"white\",\"linecolor\":\"white\",\"minorgridcolor\":\"white\",\"startlinecolor\":\"#2a3f5f\"},\"baxis\":{\"endlinecolor\":\"#2a3f5f\",\"gridcolor\":\"white\",\"linecolor\":\"white\",\"minorgridcolor\":\"white\",\"startlinecolor\":\"#2a3f5f\"},\"type\":\"carpet\"}],\"choropleth\":[{\"colorbar\":{\"outlinewidth\":0,\"ticks\":\"\"},\"type\":\"choropleth\"}],\"contour\":[{\"colorbar\":{\"outlinewidth\":0,\"ticks\":\"\"},\"colorscale\":[[0.0,\"#0d0887\"],[0.1111111111111111,\"#46039f\"],[0.2222222222222222,\"#7201a8\"],[0.3333333333333333,\"#9c179e\"],[0.4444444444444444,\"#bd3786\"],[0.5555555555555556,\"#d8576b\"],[0.6666666666666666,\"#ed7953\"],[0.7777777777777778,\"#fb9f3a\"],[0.8888888888888888,\"#fdca26\"],[1.0,\"#f0f921\"]],\"type\":\"contour\"}],\"contourcarpet\":[{\"colorbar\":{\"outlinewidth\":0,\"ticks\":\"\"},\"type\":\"contourcarpet\"}],\"heatmap\":[{\"colorbar\":{\"outlinewidth\":0,\"ticks\":\"\"},\"colorscale\":[[0.0,\"#0d0887\"],[0.1111111111111111,\"#46039f\"],[0.2222222222222222,\"#7201a8\"],[0.3333333333333333,\"#9c179e\"],[0.4444444444444444,\"#bd3786\"],[0.5555555555555556,\"#d8576b\"],[0.6666666666666666,\"#ed7953\"],[0.7777777777777778,\"#fb9f3a\"],[0.8888888888888888,\"#fdca26\"],[1.0,\"#f0f921\"]],\"type\":\"heatmap\"}],\"heatmapgl\":[{\"colorbar\":{\"outlinewidth\":0,\"ticks\":\"\"},\"colorscale\":[[0.0,\"#0d0887\"],[0.1111111111111111,\"#46039f\"],[0.2222222222222222,\"#7201a8\"],[0.3333333333333333,\"#9c179e\"],[0.4444444444444444,\"#bd3786\"],[0.5555555555555556,\"#d8576b\"],[0.6666666666666666,\"#ed7953\"],[0.7777777777777778,\"#fb9f3a\"],[0.8888888888888888,\"#fdca26\"],[1.0,\"#f0f921\"]],\"type\":\"heatmapgl\"}],\"histogram\":[{\"marker\":{\"pattern\":{\"fillmode\":\"overlay\",\"size\":10,\"solidity\":0.2}},\"type\":\"histogram\"}],\"histogram2d\":[{\"colorbar\":{\"outlinewidth\":0,\"ticks\":\"\"},\"colorscale\":[[0.0,\"#0d0887\"],[0.1111111111111111,\"#46039f\"],[0.2222222222222222,\"#7201a8\"],[0.3333333333333333,\"#9c179e\"],[0.4444444444444444,\"#bd3786\"],[0.5555555555555556,\"#d8576b\"],[0.6666666666666666,\"#ed7953\"],[0.7777777777777778,\"#fb9f3a\"],[0.8888888888888888,\"#fdca26\"],[1.0,\"#f0f921\"]],\"type\":\"histogram2d\"}],\"histogram2dcontour\":[{\"colorbar\":{\"outlinewidth\":0,\"ticks\":\"\"},\"colorscale\":[[0.0,\"#0d0887\"],[0.1111111111111111,\"#46039f\"],[0.2222222222222222,\"#7201a8\"],[0.3333333333333333,\"#9c179e\"],[0.4444444444444444,\"#bd3786\"],[0.5555555555555556,\"#d8576b\"],[0.6666666666666666,\"#ed7953\"],[0.7777777777777778,\"#fb9f3a\"],[0.8888888888888888,\"#fdca26\"],[1.0,\"#f0f921\"]],\"type\":\"histogram2dcontour\"}],\"mesh3d\":[{\"colorbar\":{\"outlinewidth\":0,\"ticks\":\"\"},\"type\":\"mesh3d\"}],\"parcoords\":[{\"line\":{\"colorbar\":{\"outlinewidth\":0,\"ticks\":\"\"}},\"type\":\"parcoords\"}],\"pie\":[{\"automargin\":true,\"type\":\"pie\"}],\"scatter\":[{\"marker\":{\"colorbar\":{\"outlinewidth\":0,\"ticks\":\"\"}},\"type\":\"scatter\"}],\"scatter3d\":[{\"line\":{\"colorbar\":{\"outlinewidth\":0,\"ticks\":\"\"}},\"marker\":{\"colorbar\":{\"outlinewidth\":0,\"ticks\":\"\"}},\"type\":\"scatter3d\"}],\"scattercarpet\":[{\"marker\":{\"colorbar\":{\"outlinewidth\":0,\"ticks\":\"\"}},\"type\":\"scattercarpet\"}],\"scattergeo\":[{\"marker\":{\"colorbar\":{\"outlinewidth\":0,\"ticks\":\"\"}},\"type\":\"scattergeo\"}],\"scattergl\":[{\"marker\":{\"colorbar\":{\"outlinewidth\":0,\"ticks\":\"\"}},\"type\":\"scattergl\"}],\"scattermapbox\":[{\"marker\":{\"colorbar\":{\"outlinewidth\":0,\"ticks\":\"\"}},\"type\":\"scattermapbox\"}],\"scatterpolar\":[{\"marker\":{\"colorbar\":{\"outlinewidth\":0,\"ticks\":\"\"}},\"type\":\"scatterpolar\"}],\"scatterpolargl\":[{\"marker\":{\"colorbar\":{\"outlinewidth\":0,\"ticks\":\"\"}},\"type\":\"scatterpolargl\"}],\"scatterternary\":[{\"marker\":{\"colorbar\":{\"outlinewidth\":0,\"ticks\":\"\"}},\"type\":\"scatterternary\"}],\"surface\":[{\"colorbar\":{\"outlinewidth\":0,\"ticks\":\"\"},\"colorscale\":[[0.0,\"#0d0887\"],[0.1111111111111111,\"#46039f\"],[0.2222222222222222,\"#7201a8\"],[0.3333333333333333,\"#9c179e\"],[0.4444444444444444,\"#bd3786\"],[0.5555555555555556,\"#d8576b\"],[0.6666666666666666,\"#ed7953\"],[0.7777777777777778,\"#fb9f3a\"],[0.8888888888888888,\"#fdca26\"],[1.0,\"#f0f921\"]],\"type\":\"surface\"}],\"table\":[{\"cells\":{\"fill\":{\"color\":\"#EBF0F8\"},\"line\":{\"color\":\"white\"}},\"header\":{\"fill\":{\"color\":\"#C8D4E3\"},\"line\":{\"color\":\"white\"}},\"type\":\"table\"}]},\"layout\":{\"annotationdefaults\":{\"arrowcolor\":\"#2a3f5f\",\"arrowhead\":0,\"arrowwidth\":1},\"autotypenumbers\":\"strict\",\"coloraxis\":{\"colorbar\":{\"outlinewidth\":0,\"ticks\":\"\"}},\"colorscale\":{\"diverging\":[[0,\"#8e0152\"],[0.1,\"#c51b7d\"],[0.2,\"#de77ae\"],[0.3,\"#f1b6da\"],[0.4,\"#fde0ef\"],[0.5,\"#f7f7f7\"],[0.6,\"#e6f5d0\"],[0.7,\"#b8e186\"],[0.8,\"#7fbc41\"],[0.9,\"#4d9221\"],[1,\"#276419\"]],\"sequential\":[[0.0,\"#0d0887\"],[0.1111111111111111,\"#46039f\"],[0.2222222222222222,\"#7201a8\"],[0.3333333333333333,\"#9c179e\"],[0.4444444444444444,\"#bd3786\"],[0.5555555555555556,\"#d8576b\"],[0.6666666666666666,\"#ed7953\"],[0.7777777777777778,\"#fb9f3a\"],[0.8888888888888888,\"#fdca26\"],[1.0,\"#f0f921\"]],\"sequentialminus\":[[0.0,\"#0d0887\"],[0.1111111111111111,\"#46039f\"],[0.2222222222222222,\"#7201a8\"],[0.3333333333333333,\"#9c179e\"],[0.4444444444444444,\"#bd3786\"],[0.5555555555555556,\"#d8576b\"],[0.6666666666666666,\"#ed7953\"],[0.7777777777777778,\"#fb9f3a\"],[0.8888888888888888,\"#fdca26\"],[1.0,\"#f0f921\"]]},\"colorway\":[\"#636efa\",\"#EF553B\",\"#00cc96\",\"#ab63fa\",\"#FFA15A\",\"#19d3f3\",\"#FF6692\",\"#B6E880\",\"#FF97FF\",\"#FECB52\"],\"font\":{\"color\":\"#2a3f5f\"},\"geo\":{\"bgcolor\":\"white\",\"lakecolor\":\"white\",\"landcolor\":\"#E5ECF6\",\"showlakes\":true,\"showland\":true,\"subunitcolor\":\"white\"},\"hoverlabel\":{\"align\":\"left\"},\"hovermode\":\"closest\",\"mapbox\":{\"style\":\"light\"},\"paper_bgcolor\":\"white\",\"plot_bgcolor\":\"#E5ECF6\",\"polar\":{\"angularaxis\":{\"gridcolor\":\"white\",\"linecolor\":\"white\",\"ticks\":\"\"},\"bgcolor\":\"#E5ECF6\",\"radialaxis\":{\"gridcolor\":\"white\",\"linecolor\":\"white\",\"ticks\":\"\"}},\"scene\":{\"xaxis\":{\"backgroundcolor\":\"#E5ECF6\",\"gridcolor\":\"white\",\"gridwidth\":2,\"linecolor\":\"white\",\"showbackground\":true,\"ticks\":\"\",\"zerolinecolor\":\"white\"},\"yaxis\":{\"backgroundcolor\":\"#E5ECF6\",\"gridcolor\":\"white\",\"gridwidth\":2,\"linecolor\":\"white\",\"showbackground\":true,\"ticks\":\"\",\"zerolinecolor\":\"white\"},\"zaxis\":{\"backgroundcolor\":\"#E5ECF6\",\"gridcolor\":\"white\",\"gridwidth\":2,\"linecolor\":\"white\",\"showbackground\":true,\"ticks\":\"\",\"zerolinecolor\":\"white\"}},\"shapedefaults\":{\"line\":{\"color\":\"#2a3f5f\"}},\"ternary\":{\"aaxis\":{\"gridcolor\":\"white\",\"linecolor\":\"white\",\"ticks\":\"\"},\"baxis\":{\"gridcolor\":\"white\",\"linecolor\":\"white\",\"ticks\":\"\"},\"bgcolor\":\"#E5ECF6\",\"caxis\":{\"gridcolor\":\"white\",\"linecolor\":\"white\",\"ticks\":\"\"}},\"title\":{\"x\":0.05},\"xaxis\":{\"automargin\":true,\"gridcolor\":\"white\",\"linecolor\":\"white\",\"ticks\":\"\",\"title\":{\"standoff\":15},\"zerolinecolor\":\"white\",\"zerolinewidth\":2},\"yaxis\":{\"automargin\":true,\"gridcolor\":\"white\",\"linecolor\":\"white\",\"ticks\":\"\",\"title\":{\"standoff\":15},\"zerolinecolor\":\"white\",\"zerolinewidth\":2}}},\"xaxis\":{\"anchor\":\"y\",\"domain\":[0.0,1.0],\"title\":{\"text\":\"Tag Count\"}},\"yaxis\":{\"anchor\":\"x\",\"domain\":[0.0,1.0],\"title\":{\"text\":\"Number of Videos\"}},\"legend\":{\"tracegroupgap\":0},\"title\":{\"text\":\"Distribution of Tag Counts\"},\"barmode\":\"relative\"},                        {\"responsive\": true}                    ).then(function(){\n",
              "                            \n",
              "var gd = document.getElementById('6993a29e-ffb7-4bd3-88ac-d53079302821');\n",
              "var x = new MutationObserver(function (mutations, observer) {{\n",
              "        var display = window.getComputedStyle(gd).display;\n",
              "        if (!display || display === 'none') {{\n",
              "            console.log([gd, 'removed!']);\n",
              "            Plotly.purge(gd);\n",
              "            observer.disconnect();\n",
              "        }}\n",
              "}});\n",
              "\n",
              "// Listen for the removal of the full notebook cells\n",
              "var notebookContainer = gd.closest('#notebook-container');\n",
              "if (notebookContainer) {{\n",
              "    x.observe(notebookContainer, {childList: true});\n",
              "}}\n",
              "\n",
              "// Listen for the clearing of the current output cell\n",
              "var outputEl = gd.closest('.output');\n",
              "if (outputEl) {{\n",
              "    x.observe(outputEl, {childList: true});\n",
              "}}\n",
              "\n",
              "                        })                };                            </script>        </div>\n",
              "</body>\n",
              "</html>"
            ]
          },
          "metadata": {}
        }
      ]
    },
    {
      "cell_type": "markdown",
      "source": [
        "## Timeline of Tag Counts"
      ],
      "metadata": {
        "id": "dnZGFo6qBE9t"
      }
    },
    {
      "cell_type": "markdown",
      "source": [
        "We now analyse how number of tags used change with time.\n",
        "We use a similar approach as above, only with upload date information this time."
      ],
      "metadata": {
        "id": "6rUODcxPjFND"
      }
    },
    {
      "cell_type": "code",
      "source": [
        "dates_dict = dict()\n",
        "for json_file in tqdm.tqdm([fname for fname in os.listdir(\"data_chunks/\") if fname.endswith('.json') and not fname.startswith(\"data_title\")]):\n",
        "  df = pd.read_json(\"data_chunks/\"+json_file)\n",
        "  df[\"count\"] = df[\"tags\"].apply(count_t)\n",
        "  df[\"year\"] = df[\"upload_date\"].str.slice(0,4)\n",
        "\n",
        "  for k, gp in df.groupby(\"year\"):\n",
        "    for count in list(gp[\"count\"]):\n",
        "      temp_dict = dates_dict.get(k,dict())\n",
        "      dates_dict[k] = temp_dict\n",
        "      dates_dict[k][count] = dates_dict[k].get(count,0) + 1"
      ],
      "metadata": {
        "id": "Xa4NOVmZA1FH"
      },
      "execution_count": null,
      "outputs": []
    },
    {
      "cell_type": "code",
      "source": [
        "dates_df = pd.DataFrame.from_dict(dates_dict,\"index\")\n",
        "dates_df = dates_df.fillna(0)\n",
        "cols = list(dates_df.columns)"
      ],
      "metadata": {
        "id": "P4_SS1_hA1Co"
      },
      "execution_count": null,
      "outputs": []
    },
    {
      "cell_type": "code",
      "source": [
        "def get_mean(row):\n",
        "  sum = 0\n",
        "  c = 0\n",
        "  for col in cols:\n",
        "    c += row[col]\n",
        "    sum += col * row[col]\n",
        "  return sum / c\n",
        "\n",
        "def get_total_vid(row):\n",
        "  sum = 0\n",
        "  for col in cols:\n",
        "    sum += row[col]\n",
        "  return sum\n"
      ],
      "metadata": {
        "id": "RDKLkCTIA6av"
      },
      "execution_count": null,
      "outputs": []
    },
    {
      "cell_type": "code",
      "source": [
        "dates_df[\"mean\"] = dates_df.apply(get_mean, axis = 1)\n",
        "dates_df[\"Number of Videos\"] = dates_df.apply(get_total_vid, axis = 1)\n",
        "dates_df = dates_df.sort_index()"
      ],
      "metadata": {
        "id": "nAtmhfYLA7mH"
      },
      "execution_count": null,
      "outputs": []
    },
    {
      "cell_type": "code",
      "source": [
        "import plotly.express as px\n",
        "fig = px.bar(dates_df, x=dates_df.index, y=\"mean\", title=\"Timeline of Tag Counts\", labels={'index': 'Year', \"mean\":'Average Number of Tags'},hover_data=[\"Number of Videos\"])\n",
        "fig.show()"
      ],
      "metadata": {
        "colab": {
          "base_uri": "https://localhost:8080/",
          "height": 542
        },
        "id": "es6q6h6oL-MS",
        "outputId": "9511e1c8-8a76-4faa-89b0-de62a133cc93"
      },
      "execution_count": null,
      "outputs": [
        {
          "output_type": "display_data",
          "data": {
            "text/html": [
              "<html>\n",
              "<head><meta charset=\"utf-8\" /></head>\n",
              "<body>\n",
              "    <div>            <script src=\"https://cdnjs.cloudflare.com/ajax/libs/mathjax/2.7.5/MathJax.js?config=TeX-AMS-MML_SVG\"></script><script type=\"text/javascript\">if (window.MathJax) {MathJax.Hub.Config({SVG: {font: \"STIX-Web\"}});}</script>                <script type=\"text/javascript\">window.PlotlyConfig = {MathJaxConfig: 'local'};</script>\n",
              "        <script src=\"https://cdn.plot.ly/plotly-2.8.3.min.js\"></script>                <div id=\"97a22964-4afd-4aff-8744-080fd8fc3f68\" class=\"plotly-graph-div\" style=\"height:525px; width:100%;\"></div>            <script type=\"text/javascript\">                                    window.PLOTLYENV=window.PLOTLYENV || {};                                    if (document.getElementById(\"97a22964-4afd-4aff-8744-080fd8fc3f68\")) {                    Plotly.newPlot(                        \"97a22964-4afd-4aff-8744-080fd8fc3f68\",                        [{\"alignmentgroup\":\"True\",\"customdata\":[[332.0],[23294.0],[137250.0],[338040.0],[694586.0],[1085424.0],[1874984.0],[2926436.0],[4018279.0],[5179935.0],[6808073.0],[9352771.0],[12486407.0],[15275859.0],[12723124.0]],\"hovertemplate\":\"Year=%{x}<br>Average Number of Tags=%{y}<br>Number of Videos=%{customdata[0]}<extra></extra>\",\"legendgroup\":\"\",\"marker\":{\"color\":\"#636efa\",\"pattern\":{\"shape\":\"\"}},\"name\":\"\",\"offsetgroup\":\"\",\"orientation\":\"v\",\"showlegend\":false,\"textposition\":\"auto\",\"x\":[\"2005\",\"2006\",\"2007\",\"2008\",\"2009\",\"2010\",\"2011\",\"2012\",\"2013\",\"2014\",\"2015\",\"2016\",\"2017\",\"2018\",\"2019\"],\"xaxis\":\"x\",\"y\":[12.879518072289157,11.081093843908302,11.725719489981785,12.252777777777778,14.030066831177132,15.055749642536004,16.818353116613263,17.134926921347333,16.284095504568,15.577097396009796,15.109434196724976,14.963249501137149,15.576231016656752,15.153505279146659,15.1277855187138],\"yaxis\":\"y\",\"type\":\"bar\"}],                        {\"template\":{\"data\":{\"bar\":[{\"error_x\":{\"color\":\"#2a3f5f\"},\"error_y\":{\"color\":\"#2a3f5f\"},\"marker\":{\"line\":{\"color\":\"#E5ECF6\",\"width\":0.5},\"pattern\":{\"fillmode\":\"overlay\",\"size\":10,\"solidity\":0.2}},\"type\":\"bar\"}],\"barpolar\":[{\"marker\":{\"line\":{\"color\":\"#E5ECF6\",\"width\":0.5},\"pattern\":{\"fillmode\":\"overlay\",\"size\":10,\"solidity\":0.2}},\"type\":\"barpolar\"}],\"carpet\":[{\"aaxis\":{\"endlinecolor\":\"#2a3f5f\",\"gridcolor\":\"white\",\"linecolor\":\"white\",\"minorgridcolor\":\"white\",\"startlinecolor\":\"#2a3f5f\"},\"baxis\":{\"endlinecolor\":\"#2a3f5f\",\"gridcolor\":\"white\",\"linecolor\":\"white\",\"minorgridcolor\":\"white\",\"startlinecolor\":\"#2a3f5f\"},\"type\":\"carpet\"}],\"choropleth\":[{\"colorbar\":{\"outlinewidth\":0,\"ticks\":\"\"},\"type\":\"choropleth\"}],\"contour\":[{\"colorbar\":{\"outlinewidth\":0,\"ticks\":\"\"},\"colorscale\":[[0.0,\"#0d0887\"],[0.1111111111111111,\"#46039f\"],[0.2222222222222222,\"#7201a8\"],[0.3333333333333333,\"#9c179e\"],[0.4444444444444444,\"#bd3786\"],[0.5555555555555556,\"#d8576b\"],[0.6666666666666666,\"#ed7953\"],[0.7777777777777778,\"#fb9f3a\"],[0.8888888888888888,\"#fdca26\"],[1.0,\"#f0f921\"]],\"type\":\"contour\"}],\"contourcarpet\":[{\"colorbar\":{\"outlinewidth\":0,\"ticks\":\"\"},\"type\":\"contourcarpet\"}],\"heatmap\":[{\"colorbar\":{\"outlinewidth\":0,\"ticks\":\"\"},\"colorscale\":[[0.0,\"#0d0887\"],[0.1111111111111111,\"#46039f\"],[0.2222222222222222,\"#7201a8\"],[0.3333333333333333,\"#9c179e\"],[0.4444444444444444,\"#bd3786\"],[0.5555555555555556,\"#d8576b\"],[0.6666666666666666,\"#ed7953\"],[0.7777777777777778,\"#fb9f3a\"],[0.8888888888888888,\"#fdca26\"],[1.0,\"#f0f921\"]],\"type\":\"heatmap\"}],\"heatmapgl\":[{\"colorbar\":{\"outlinewidth\":0,\"ticks\":\"\"},\"colorscale\":[[0.0,\"#0d0887\"],[0.1111111111111111,\"#46039f\"],[0.2222222222222222,\"#7201a8\"],[0.3333333333333333,\"#9c179e\"],[0.4444444444444444,\"#bd3786\"],[0.5555555555555556,\"#d8576b\"],[0.6666666666666666,\"#ed7953\"],[0.7777777777777778,\"#fb9f3a\"],[0.8888888888888888,\"#fdca26\"],[1.0,\"#f0f921\"]],\"type\":\"heatmapgl\"}],\"histogram\":[{\"marker\":{\"pattern\":{\"fillmode\":\"overlay\",\"size\":10,\"solidity\":0.2}},\"type\":\"histogram\"}],\"histogram2d\":[{\"colorbar\":{\"outlinewidth\":0,\"ticks\":\"\"},\"colorscale\":[[0.0,\"#0d0887\"],[0.1111111111111111,\"#46039f\"],[0.2222222222222222,\"#7201a8\"],[0.3333333333333333,\"#9c179e\"],[0.4444444444444444,\"#bd3786\"],[0.5555555555555556,\"#d8576b\"],[0.6666666666666666,\"#ed7953\"],[0.7777777777777778,\"#fb9f3a\"],[0.8888888888888888,\"#fdca26\"],[1.0,\"#f0f921\"]],\"type\":\"histogram2d\"}],\"histogram2dcontour\":[{\"colorbar\":{\"outlinewidth\":0,\"ticks\":\"\"},\"colorscale\":[[0.0,\"#0d0887\"],[0.1111111111111111,\"#46039f\"],[0.2222222222222222,\"#7201a8\"],[0.3333333333333333,\"#9c179e\"],[0.4444444444444444,\"#bd3786\"],[0.5555555555555556,\"#d8576b\"],[0.6666666666666666,\"#ed7953\"],[0.7777777777777778,\"#fb9f3a\"],[0.8888888888888888,\"#fdca26\"],[1.0,\"#f0f921\"]],\"type\":\"histogram2dcontour\"}],\"mesh3d\":[{\"colorbar\":{\"outlinewidth\":0,\"ticks\":\"\"},\"type\":\"mesh3d\"}],\"parcoords\":[{\"line\":{\"colorbar\":{\"outlinewidth\":0,\"ticks\":\"\"}},\"type\":\"parcoords\"}],\"pie\":[{\"automargin\":true,\"type\":\"pie\"}],\"scatter\":[{\"marker\":{\"colorbar\":{\"outlinewidth\":0,\"ticks\":\"\"}},\"type\":\"scatter\"}],\"scatter3d\":[{\"line\":{\"colorbar\":{\"outlinewidth\":0,\"ticks\":\"\"}},\"marker\":{\"colorbar\":{\"outlinewidth\":0,\"ticks\":\"\"}},\"type\":\"scatter3d\"}],\"scattercarpet\":[{\"marker\":{\"colorbar\":{\"outlinewidth\":0,\"ticks\":\"\"}},\"type\":\"scattercarpet\"}],\"scattergeo\":[{\"marker\":{\"colorbar\":{\"outlinewidth\":0,\"ticks\":\"\"}},\"type\":\"scattergeo\"}],\"scattergl\":[{\"marker\":{\"colorbar\":{\"outlinewidth\":0,\"ticks\":\"\"}},\"type\":\"scattergl\"}],\"scattermapbox\":[{\"marker\":{\"colorbar\":{\"outlinewidth\":0,\"ticks\":\"\"}},\"type\":\"scattermapbox\"}],\"scatterpolar\":[{\"marker\":{\"colorbar\":{\"outlinewidth\":0,\"ticks\":\"\"}},\"type\":\"scatterpolar\"}],\"scatterpolargl\":[{\"marker\":{\"colorbar\":{\"outlinewidth\":0,\"ticks\":\"\"}},\"type\":\"scatterpolargl\"}],\"scatterternary\":[{\"marker\":{\"colorbar\":{\"outlinewidth\":0,\"ticks\":\"\"}},\"type\":\"scatterternary\"}],\"surface\":[{\"colorbar\":{\"outlinewidth\":0,\"ticks\":\"\"},\"colorscale\":[[0.0,\"#0d0887\"],[0.1111111111111111,\"#46039f\"],[0.2222222222222222,\"#7201a8\"],[0.3333333333333333,\"#9c179e\"],[0.4444444444444444,\"#bd3786\"],[0.5555555555555556,\"#d8576b\"],[0.6666666666666666,\"#ed7953\"],[0.7777777777777778,\"#fb9f3a\"],[0.8888888888888888,\"#fdca26\"],[1.0,\"#f0f921\"]],\"type\":\"surface\"}],\"table\":[{\"cells\":{\"fill\":{\"color\":\"#EBF0F8\"},\"line\":{\"color\":\"white\"}},\"header\":{\"fill\":{\"color\":\"#C8D4E3\"},\"line\":{\"color\":\"white\"}},\"type\":\"table\"}]},\"layout\":{\"annotationdefaults\":{\"arrowcolor\":\"#2a3f5f\",\"arrowhead\":0,\"arrowwidth\":1},\"autotypenumbers\":\"strict\",\"coloraxis\":{\"colorbar\":{\"outlinewidth\":0,\"ticks\":\"\"}},\"colorscale\":{\"diverging\":[[0,\"#8e0152\"],[0.1,\"#c51b7d\"],[0.2,\"#de77ae\"],[0.3,\"#f1b6da\"],[0.4,\"#fde0ef\"],[0.5,\"#f7f7f7\"],[0.6,\"#e6f5d0\"],[0.7,\"#b8e186\"],[0.8,\"#7fbc41\"],[0.9,\"#4d9221\"],[1,\"#276419\"]],\"sequential\":[[0.0,\"#0d0887\"],[0.1111111111111111,\"#46039f\"],[0.2222222222222222,\"#7201a8\"],[0.3333333333333333,\"#9c179e\"],[0.4444444444444444,\"#bd3786\"],[0.5555555555555556,\"#d8576b\"],[0.6666666666666666,\"#ed7953\"],[0.7777777777777778,\"#fb9f3a\"],[0.8888888888888888,\"#fdca26\"],[1.0,\"#f0f921\"]],\"sequentialminus\":[[0.0,\"#0d0887\"],[0.1111111111111111,\"#46039f\"],[0.2222222222222222,\"#7201a8\"],[0.3333333333333333,\"#9c179e\"],[0.4444444444444444,\"#bd3786\"],[0.5555555555555556,\"#d8576b\"],[0.6666666666666666,\"#ed7953\"],[0.7777777777777778,\"#fb9f3a\"],[0.8888888888888888,\"#fdca26\"],[1.0,\"#f0f921\"]]},\"colorway\":[\"#636efa\",\"#EF553B\",\"#00cc96\",\"#ab63fa\",\"#FFA15A\",\"#19d3f3\",\"#FF6692\",\"#B6E880\",\"#FF97FF\",\"#FECB52\"],\"font\":{\"color\":\"#2a3f5f\"},\"geo\":{\"bgcolor\":\"white\",\"lakecolor\":\"white\",\"landcolor\":\"#E5ECF6\",\"showlakes\":true,\"showland\":true,\"subunitcolor\":\"white\"},\"hoverlabel\":{\"align\":\"left\"},\"hovermode\":\"closest\",\"mapbox\":{\"style\":\"light\"},\"paper_bgcolor\":\"white\",\"plot_bgcolor\":\"#E5ECF6\",\"polar\":{\"angularaxis\":{\"gridcolor\":\"white\",\"linecolor\":\"white\",\"ticks\":\"\"},\"bgcolor\":\"#E5ECF6\",\"radialaxis\":{\"gridcolor\":\"white\",\"linecolor\":\"white\",\"ticks\":\"\"}},\"scene\":{\"xaxis\":{\"backgroundcolor\":\"#E5ECF6\",\"gridcolor\":\"white\",\"gridwidth\":2,\"linecolor\":\"white\",\"showbackground\":true,\"ticks\":\"\",\"zerolinecolor\":\"white\"},\"yaxis\":{\"backgroundcolor\":\"#E5ECF6\",\"gridcolor\":\"white\",\"gridwidth\":2,\"linecolor\":\"white\",\"showbackground\":true,\"ticks\":\"\",\"zerolinecolor\":\"white\"},\"zaxis\":{\"backgroundcolor\":\"#E5ECF6\",\"gridcolor\":\"white\",\"gridwidth\":2,\"linecolor\":\"white\",\"showbackground\":true,\"ticks\":\"\",\"zerolinecolor\":\"white\"}},\"shapedefaults\":{\"line\":{\"color\":\"#2a3f5f\"}},\"ternary\":{\"aaxis\":{\"gridcolor\":\"white\",\"linecolor\":\"white\",\"ticks\":\"\"},\"baxis\":{\"gridcolor\":\"white\",\"linecolor\":\"white\",\"ticks\":\"\"},\"bgcolor\":\"#E5ECF6\",\"caxis\":{\"gridcolor\":\"white\",\"linecolor\":\"white\",\"ticks\":\"\"}},\"title\":{\"x\":0.05},\"xaxis\":{\"automargin\":true,\"gridcolor\":\"white\",\"linecolor\":\"white\",\"ticks\":\"\",\"title\":{\"standoff\":15},\"zerolinecolor\":\"white\",\"zerolinewidth\":2},\"yaxis\":{\"automargin\":true,\"gridcolor\":\"white\",\"linecolor\":\"white\",\"ticks\":\"\",\"title\":{\"standoff\":15},\"zerolinecolor\":\"white\",\"zerolinewidth\":2}}},\"xaxis\":{\"anchor\":\"y\",\"domain\":[0.0,1.0],\"title\":{\"text\":\"Year\"}},\"yaxis\":{\"anchor\":\"x\",\"domain\":[0.0,1.0],\"title\":{\"text\":\"Average Number of Tags\"}},\"legend\":{\"tracegroupgap\":0},\"title\":{\"text\":\"Timeline of Tag Counts\"},\"barmode\":\"relative\"},                        {\"responsive\": true}                    ).then(function(){\n",
              "                            \n",
              "var gd = document.getElementById('97a22964-4afd-4aff-8744-080fd8fc3f68');\n",
              "var x = new MutationObserver(function (mutations, observer) {{\n",
              "        var display = window.getComputedStyle(gd).display;\n",
              "        if (!display || display === 'none') {{\n",
              "            console.log([gd, 'removed!']);\n",
              "            Plotly.purge(gd);\n",
              "            observer.disconnect();\n",
              "        }}\n",
              "}});\n",
              "\n",
              "// Listen for the removal of the full notebook cells\n",
              "var notebookContainer = gd.closest('#notebook-container');\n",
              "if (notebookContainer) {{\n",
              "    x.observe(notebookContainer, {childList: true});\n",
              "}}\n",
              "\n",
              "// Listen for the clearing of the current output cell\n",
              "var outputEl = gd.closest('.output');\n",
              "if (outputEl) {{\n",
              "    x.observe(outputEl, {childList: true});\n",
              "}}\n",
              "\n",
              "                        })                };                            </script>        </div>\n",
              "</body>\n",
              "</html>"
            ]
          },
          "metadata": {}
        }
      ]
    },
    {
      "cell_type": "markdown",
      "source": [
        "## Tag Behaviour Through Time"
      ],
      "metadata": {
        "id": "KnPwoMBbsjsR"
      }
    },
    {
      "cell_type": "markdown",
      "source": [
        "We now extract the usage information of each significant tag on each month. We only consider the tags that are used in more videos than the 85th percentile to eliminate noises. Info of each tag is extracted as a boolean array over the months with True values representing the usage in the corresponding month and False representing the absence."
      ],
      "metadata": {
        "id": "9lrb_hfcwJEG"
      }
    },
    {
      "cell_type": "code",
      "source": [
        "max_date = \"2019-10-01\"\n",
        "\n",
        "def diff_month(d1, d2):\n",
        "  d1 = datetime.strptime(d1, '%Y-%m-%d')\n",
        "  d2 = datetime.strptime(d2, '%Y-%m-%d')\n",
        "  return (d1.year - d2.year) * 12 + d1.month - d2.month\n",
        "\n",
        "def store_living_tags(living_tags,current_usage,upload_date):\n",
        "  percentile = np.percentile(list(current_usage.values()),85) \n",
        "  for tag in current_usage:\n",
        "    if current_usage[tag]<percentile:\n",
        "      continue\n",
        "    if tag not in living_tags:\n",
        "      living_tags[tag]= {upload_date:np.full(diff_month(max_date,upload_date)+1, False)}\n",
        "      living_tags[tag][upload_date][0] = True\n",
        "    else: \n",
        "      prev_date = list(living_tags[tag].keys())[0]\n",
        "      living_tags[tag][prev_date][diff_month(upload_date,prev_date)] = True\n",
        "\n",
        "def find_tag_usage_monthly(monthly_df,living_tags):\n",
        "  upload_date = monthly_df[\"upload_date\"].iloc[0] \n",
        "  if diff_month(upload_date,max_date)>0:\n",
        "    return\n",
        "  usage_dict = {}\n",
        "\n",
        "  for i, row in monthly_df.iterrows():\n",
        "    for tag in row[\"tags\"]:\n",
        "      usage_dict[tag] = usage_dict.get(tag,0)+1\n",
        "  store_living_tags(living_tags,usage_dict,upload_date)\n",
        "  if upload_date.split(\"-\")[-2]==\"01\":\n",
        "    print(upload_date)\n",
        "\n",
        "def merge_two_living_tags(living_tags1,living_tags2): ## For big categories, data is separated into two parts that need to be merged\n",
        "  living_tags1_keys = set(living_tags1.keys())\n",
        "  living_tags2_keys = set(living_tags2.keys())\n",
        "\n",
        "  intersection = living_tags2_keys.intersection(living_tags1_keys)\n",
        "  merged_dict = {}\n",
        "\n",
        "  for tag in living_tags1_keys.union(living_tags2_keys):\n",
        "    if tag in intersection:\n",
        "      upload_date1 = list(living_tags1[tag].keys())[0]\n",
        "      upload_date2 = list(living_tags2[tag].keys())[0]\n",
        "      diff_start_month = diff_month(upload_date1,upload_date2)\n",
        "\n",
        "      if diff_start_month>=0:\n",
        "        merged_dict[tag] = {upload_date1: np.concatenate([np.full(diff_start_month, True),np.logical_or(living_tags1[tag],living_tags2[tag][upload_date2][diff_start_month:])])}\n",
        "      else:\n",
        "        merged_dict[tag] = {upload_date2: np.concatenate([np.full(abs(diff_start_month), True),np.logical_or(living_tags2[tag],living_tags1[tag][upload_date1][abs(diff_start_month):])])}\n",
        "    else:\n",
        "      if tag in living_tags1_keys:\n",
        "        merged_dict[tag] = living_tags1[tag]\n",
        "      else:\n",
        "        merged_dict[tag] = living_tags2[tag]\n",
        "  return merged_dict"
      ],
      "metadata": {
        "id": "1wer6Z58spOs"
      },
      "execution_count": null,
      "outputs": []
    },
    {
      "cell_type": "markdown",
      "source": [
        "Now we can extract the usage information of each tag on each month:"
      ],
      "metadata": {
        "id": "_EmA3-oEw64b"
      }
    },
    {
      "cell_type": "code",
      "source": [
        "import gc\n",
        "def get_living_tags(categories):\n",
        "\n",
        "  for category in categories:\n",
        "    print(category)\n",
        "    try:\n",
        "      df = pd.read_json(f\"category_data/{category}.json\")\n",
        "      living_tags = {}\n",
        "      df.groupby(\"upload_date\").apply(find_tag_usage_monthly,living_tags)\n",
        "    \n",
        "      del df\n",
        "      gc.collect()\n",
        "\n",
        "      with open(f\"{category}_binary_usage.pkl\",\"wb\") as result_file:\n",
        "        pkl.dump(living_tags,result_file)\n",
        "    except:\n",
        "\n",
        "      living_tags1 = {}\n",
        "      df_json = pd.read_json(f\"category_data/{category}_1.json\")\n",
        "      df_json.groupby(\"upload_date\").apply(find_tag_usage_monthly,living_tags1)\n",
        "      del df_json\n",
        "      gc.collect()\n",
        "\n",
        "      living_tags2 = {}\n",
        "      df_json = pd.read_json(f\"category_data/{category}_2.json\")\n",
        "      df_json.groupby(\"upload_date\").apply(find_tag_usage_monthly,living_tags2)\n",
        "      \n",
        "      del df_json\n",
        "      gc.collect()\n",
        "\n",
        "      print(\"merge started\")\n",
        "      living_tags = merge_two_living_tags(living_tags1,living_tags2)\n",
        "      print(\"merge done\")\n",
        "\n",
        "      with open(f\"{category}_binary_usage.pkl\",\"wb\") as result_file:\n",
        "        pkl.dump(living_tags,result_file)"
      ],
      "metadata": {
        "id": "kf5Z8e61s54r"
      },
      "execution_count": null,
      "outputs": []
    },
    {
      "cell_type": "code",
      "source": [
        "get_living_tags(['Sports',\n",
        " 'People & Blogs',\n",
        " 'Howto & Style',\n",
        " 'Autos & Vehicles',\n",
        " 'Travel & Events',\n",
        " 'Film & Animation',\n",
        " 'Nonprofits & Activism',\n",
        " 'Pets & Animals',\n",
        " 'Science & Technology',\n",
        " 'Comedy',\n",
        " 'Education',\n",
        " 'Entertainment','Gaming','News & Politics','Music'])"
      ],
      "metadata": {
        "id": "ZgQyGgYds8YM"
      },
      "execution_count": null,
      "outputs": []
    },
    {
      "cell_type": "markdown",
      "source": [
        "Now that we have the usage data, we can visualize the lifespan of tags:"
      ],
      "metadata": {
        "id": "JSX-MfLFxAyE"
      }
    },
    {
      "cell_type": "code",
      "source": [
        "live_months = []\n",
        "for category in sorted(categories):\n",
        "  with open(f\"{category}_binary_usage.pkl\",\"rb\") as result_file:\n",
        "    \n",
        "    tag_usage = pkl.load(result_file) \n",
        "    for tag in tag_usage:\n",
        "      upload_date = list(tag_usage[tag].keys())[0]\n",
        "      boolean_usage = tag_usage[tag][upload_date]\n",
        "      live_months.append(np.diff(np.where(np.concatenate(([boolean_usage[0]],boolean_usage[:-1] != boolean_usage[1:],[True])))[0])[::2])\n",
        "    print(category)\n",
        "\n",
        "number_of_live_months = np.concatenate(live_months)\n",
        "\n",
        "plt.figure(figsize=(10,6))\n",
        "sns.histplot(number_of_live_months,bins=50,log_scale=(True,True),stat='probability')\n",
        "plt.axvline(x=gmean(number_of_live_months), color='black', label=\"geometric mean\")\n",
        "plt.text(x=gmean(number_of_live_months),y=0.17,s=f\" Geometric mean:{gmean(number_of_live_months):.2f}\")\n",
        "plt.xlabel('Number of Used Months')\n",
        "plt.ylabel('Probability')\n",
        "plt.title(\"Probability Mass Function of Number of Used Months\")\n",
        "plt.show()"
      ],
      "metadata": {
        "colab": {
          "base_uri": "https://localhost:8080/",
          "height": 668
        },
        "id": "JzIgy0NXjplG",
        "outputId": "10f5c288-cfc7-4c56-e457-24722869b1ae"
      },
      "execution_count": null,
      "outputs": [
        {
          "output_type": "stream",
          "name": "stdout",
          "text": [
            "Autos & Vehicles\n",
            "Comedy\n",
            "Education\n",
            "Entertainment\n",
            "Film & Animation\n",
            "Gaming\n",
            "Howto & Style\n",
            "Music\n",
            "News & Politics\n",
            "Nonprofits & Activism\n",
            "People & Blogs\n",
            "Pets & Animals\n",
            "Science & Technology\n",
            "Sports\n",
            "Travel & Events\n"
          ]
        },
        {
          "output_type": "display_data",
          "data": {
            "text/plain": [
              "<Figure size 720x432 with 1 Axes>"
            ],
            "image/png": "[encoded data removed]"
          },
          "metadata": {
            "needs_background": "light"
          }
        }
      ]
    },
    {
      "cell_type": "markdown",
      "source": [
        "In addition to the statistics for the general population, we can also extract tag-wise results for some tags that gain periodic usage to show that tags indeed follow the world wide trends. For this, we first define a method to find usage in a single month and use it on each month:"
      ],
      "metadata": {
        "id": "58C1nK_5xG_l"
      }
    },
    {
      "cell_type": "code",
      "source": [
        "import gc\n",
        "\n",
        "upload_periods = pd.to_datetime(np.arange(np.datetime64(\"2005-05\"), np.datetime64(\"2019-11\"), np.timedelta64(1, 'M')))\n",
        "upload_periods = [str(period.strftime('%Y-%m-%d')) for period in upload_periods]\n",
        "\n",
        "def find_tag_usage_per_month(monthly_df,usage_dict,tag):\n",
        "  upload_date = monthly_df[\"upload_date\"].iloc[0]\n",
        "  if upload_date not in usage_dict:\n",
        "    usage_dict[upload_date]=len(monthly_df[monthly_df[\"tags\"].map(set([tag]).issubset)])\n",
        "  else:\n",
        "    usage_dict[upload_date]+=len(monthly_df[monthly_df[\"tags\"].map(set([tag]).issubset)])\n",
        "\n",
        "def find_total_usage(categories,tag):\n",
        "  tag_usage = {}\n",
        "  for category in categories:\n",
        "    if os.path.exists(f\"category_data/{category}_1.json\"):\n",
        "      category_data = pd.read_json(f\"category_data/{category}_1.json\")\n",
        "      category_data.groupby(\"upload_date\").apply(find_tag_usage_per_month,tag_usage,tag)\n",
        "      print(f\"{category}_1\")\n",
        "      del category_data\n",
        "      gc.collect()\n",
        "      category_data = pd.read_json(f\"category_data/{category}_2.json\")\n",
        "      category_data.groupby(\"upload_date\").apply(find_tag_usage_per_month,tag_usage,tag)\n",
        "      print(f\"{category}_2\")\n",
        "    else:\n",
        "      category_data = pd.read_json(f\"category_data/{category}.json\")\n",
        "      category_data.groupby(\"upload_date\").apply(find_tag_usage_per_month,tag_usage,tag)\n",
        "      print(f\"{category}\")\n",
        "    del category_data\n",
        "    gc.collect()\n",
        "  return tag_usage"
      ],
      "metadata": {
        "id": "pC8xEjOJtaYR"
      },
      "execution_count": null,
      "outputs": []
    },
    {
      "cell_type": "code",
      "source": [
        "halloween_usage = find_total_usage(categories,\"halloween\")\n",
        "olympic_usage = find_total_usage(categories,\"olympics\")"
      ],
      "metadata": {
        "id": "X3PQ7ZK4tbGR"
      },
      "execution_count": null,
      "outputs": []
    },
    {
      "cell_type": "markdown",
      "source": [
        "Now let's investigate the trajectories of \"halloween\" and \"olympics\":"
      ],
      "metadata": {
        "id": "PqzJKM0sxf15"
      }
    },
    {
      "cell_type": "code",
      "source": [
        "import plotly.express as px\n",
        "halloween_df = pd.DataFrame(data=halloween_usage.items(),columns=[\"Date\",\"Usage\"])\n",
        "halloween_df = halloween_df.set_index(\"Date\")\n",
        "fig = px.bar(halloween_df,x=halloween_df.index,y=\"Usage\",\n",
        "             title='Usage Statistics of Tag \"halloween\"',\n",
        "             labels={'index': 'Number Of Popular Months', \"Usage\":'Number of Videos using tag \"halloween\"'}, orientation='v')\n",
        "fig.show()\n",
        "fig.write_html(\"halloween_usage.html\")\n"
      ],
      "metadata": {
        "colab": {
          "base_uri": "https://localhost:8080/",
          "height": 542
        },
        "id": "TvRFG7qblUsZ",
        "outputId": "4c932ec6-3e2f-454c-cd1a-a9a52495640e"
      },
      "execution_count": null,
      "outputs": [
        {
          "output_type": "display_data",
          "data": {
            "text/html": [
              "<html>\n",
              "<head><meta charset=\"utf-8\" /></head>\n",
              "<body>\n",
              "    <div>            <script src=\"https://cdnjs.cloudflare.com/ajax/libs/mathjax/2.7.5/MathJax.js?config=TeX-AMS-MML_SVG\"></script><script type=\"text/javascript\">if (window.MathJax) {MathJax.Hub.Config({SVG: {font: \"STIX-Web\"}});}</script>                <script type=\"text/javascript\">window.PlotlyConfig = {MathJaxConfig: 'local'};</script>\n",
              "        <script src=\"https://cdn.plot.ly/plotly-2.8.3.min.js\"></script>                <div id=\"144aa2fb-fc06-4822-88b0-259a3ab742a6\" class=\"plotly-graph-div\" style=\"height:525px; width:100%;\"></div>            <script type=\"text/javascript\">                                    window.PLOTLYENV=window.PLOTLYENV || {};                                    if (document.getElementById(\"144aa2fb-fc06-4822-88b0-259a3ab742a6\")) {                    Plotly.newPlot(                        \"144aa2fb-fc06-4822-88b0-259a3ab742a6\",                        [{\"alignmentgroup\":\"True\",\"hovertemplate\":\"Date=%{x}<br>Number of Videos using tag \\\"halloween\\\"=%{y}<extra></extra>\",\"legendgroup\":\"\",\"marker\":{\"color\":\"#636efa\",\"pattern\":{\"shape\":\"\"}},\"name\":\"\",\"offsetgroup\":\"\",\"orientation\":\"v\",\"showlegend\":false,\"textposition\":\"auto\",\"x\":[\"2005-05-01\",\"2005-10-01\",\"2005-11-01\",\"2006-01-01\",\"2006-02-01\",\"2006-03-01\",\"2006-04-01\",\"2006-05-01\",\"2006-06-01\",\"2006-07-01\",\"2006-08-01\",\"2006-09-01\",\"2006-10-01\",\"2006-11-01\",\"2006-12-01\",\"2007-01-01\",\"2007-02-01\",\"2007-03-01\",\"2007-04-01\",\"2007-05-01\",\"2007-06-01\",\"2007-07-01\",\"2007-08-01\",\"2007-09-01\",\"2007-10-01\",\"2007-11-01\",\"2007-12-01\",\"2008-01-01\",\"2008-02-01\",\"2008-03-01\",\"2008-04-01\",\"2008-05-01\",\"2008-06-01\",\"2008-07-01\",\"2008-08-01\",\"2008-09-01\",\"2008-10-01\",\"2008-11-01\",\"2008-12-01\",\"2009-01-01\",\"2009-02-01\",\"2009-03-01\",\"2009-04-01\",\"2009-05-01\",\"2009-06-01\",\"2009-07-01\",\"2009-08-01\",\"2009-09-01\",\"2009-10-01\",\"2009-11-01\",\"2009-12-01\",\"2010-01-01\",\"2010-02-01\",\"2010-03-01\",\"2010-04-01\",\"2010-05-01\",\"2010-06-01\",\"2010-07-01\",\"2010-08-01\",\"2010-09-01\",\"2010-10-01\",\"2010-11-01\",\"2010-12-01\",\"2011-01-01\",\"2011-02-01\",\"2011-03-01\",\"2011-04-01\",\"2011-05-01\",\"2011-06-01\",\"2011-07-01\",\"2011-08-01\",\"2011-09-01\",\"2011-10-01\",\"2011-11-01\",\"2011-12-01\",\"2012-01-01\",\"2012-02-01\",\"2012-03-01\",\"2012-04-01\",\"2012-05-01\",\"2012-06-01\",\"2012-07-01\",\"2012-08-01\",\"2012-09-01\",\"2012-10-01\",\"2012-11-01\",\"2012-12-01\",\"2013-01-01\",\"2013-02-01\",\"2013-03-01\",\"2013-04-01\",\"2013-05-01\",\"2013-06-01\",\"2013-07-01\",\"2013-08-01\",\"2013-09-01\",\"2013-10-01\",\"2013-11-01\",\"2013-12-01\",\"2014-01-01\",\"2014-02-01\",\"2014-03-01\",\"2014-04-01\",\"2014-05-01\",\"2014-06-01\",\"2014-07-01\",\"2014-08-01\",\"2014-09-01\",\"2014-10-01\",\"2014-11-01\",\"2014-12-01\",\"2015-01-01\",\"2015-02-01\",\"2015-03-01\",\"2015-04-01\",\"2015-05-01\",\"2015-06-01\",\"2015-07-01\",\"2015-08-01\",\"2015-09-01\",\"2015-10-01\",\"2015-11-01\",\"2015-12-01\",\"2016-01-01\",\"2016-02-01\",\"2016-03-01\",\"2016-04-01\",\"2016-05-01\",\"2016-06-01\",\"2016-07-01\",\"2016-08-01\",\"2016-09-01\",\"2016-10-01\",\"2016-11-01\",\"2016-12-01\",\"2017-01-01\",\"2017-02-01\",\"2017-03-01\",\"2017-04-01\",\"2017-05-01\",\"2017-06-01\",\"2017-07-01\",\"2017-08-01\",\"2017-09-01\",\"2017-10-01\",\"2017-11-01\",\"2017-12-01\",\"2018-01-01\",\"2018-02-01\",\"2018-03-01\",\"2018-04-01\",\"2018-05-01\",\"2018-06-01\",\"2018-07-01\",\"2018-08-01\",\"2018-09-01\",\"2018-10-01\",\"2018-11-01\",\"2018-12-01\",\"2019-01-01\",\"2019-02-01\",\"2019-03-01\",\"2019-04-01\",\"2019-05-01\",\"2019-06-01\",\"2019-07-01\",\"2019-08-01\",\"2019-09-01\",\"2019-10-01\",\"2019-11-01\",\"2005-07-01\",\"2005-08-01\",\"2005-09-01\",\"2005-12-01\"],\"xaxis\":\"x\",\"y\":[0,0,0,0,0,0,1,0,1,1,20,3,56,27,2,1,4,4,4,7,5,5,5,29,176,48,7,13,10,16,14,18,13,5,15,52,375,101,36,17,38,22,20,17,35,45,70,165,906,270,44,38,33,36,37,37,37,95,133,370,1565,500,171,203,149,172,168,206,204,260,393,671,2884,787,327,284,252,248,286,232,240,345,393,933,4546,988,263,264,241,322,314,302,258,360,525,1015,4991,1271,371,310,269,265,249,242,262,515,678,1315,6985,1536,533,436,373,429,414,449,501,783,914,1826,9347,1987,579,436,387,432,415,436,422,652,972,2524,16057,2745,723,548,594,467,544,493,568,843,1140,2918,18561,3292,803,690,566,643,593,673,835,850,1323,3283,19114,3360,966,740,666,651,620,574,620,738,1198,2703,536,0,0,0,0,3],\"yaxis\":\"y\",\"type\":\"bar\"}],                        {\"template\":{\"data\":{\"bar\":[{\"error_x\":{\"color\":\"#2a3f5f\"},\"error_y\":{\"color\":\"#2a3f5f\"},\"marker\":{\"line\":{\"color\":\"#E5ECF6\",\"width\":0.5},\"pattern\":{\"fillmode\":\"overlay\",\"size\":10,\"solidity\":0.2}},\"type\":\"bar\"}],\"barpolar\":[{\"marker\":{\"line\":{\"color\":\"#E5ECF6\",\"width\":0.5},\"pattern\":{\"fillmode\":\"overlay\",\"size\":10,\"solidity\":0.2}},\"type\":\"barpolar\"}],\"carpet\":[{\"aaxis\":{\"endlinecolor\":\"#2a3f5f\",\"gridcolor\":\"white\",\"linecolor\":\"white\",\"minorgridcolor\":\"white\",\"startlinecolor\":\"#2a3f5f\"},\"baxis\":{\"endlinecolor\":\"#2a3f5f\",\"gridcolor\":\"white\",\"linecolor\":\"white\",\"minorgridcolor\":\"white\",\"startlinecolor\":\"#2a3f5f\"},\"type\":\"carpet\"}],\"choropleth\":[{\"colorbar\":{\"outlinewidth\":0,\"ticks\":\"\"},\"type\":\"choropleth\"}],\"contour\":[{\"colorbar\":{\"outlinewidth\":0,\"ticks\":\"\"},\"colorscale\":[[0.0,\"#0d0887\"],[0.1111111111111111,\"#46039f\"],[0.2222222222222222,\"#7201a8\"],[0.3333333333333333,\"#9c179e\"],[0.4444444444444444,\"#bd3786\"],[0.5555555555555556,\"#d8576b\"],[0.6666666666666666,\"#ed7953\"],[0.7777777777777778,\"#fb9f3a\"],[0.8888888888888888,\"#fdca26\"],[1.0,\"#f0f921\"]],\"type\":\"contour\"}],\"contourcarpet\":[{\"colorbar\":{\"outlinewidth\":0,\"ticks\":\"\"},\"type\":\"contourcarpet\"}],\"heatmap\":[{\"colorbar\":{\"outlinewidth\":0,\"ticks\":\"\"},\"colorscale\":[[0.0,\"#0d0887\"],[0.1111111111111111,\"#46039f\"],[0.2222222222222222,\"#7201a8\"],[0.3333333333333333,\"#9c179e\"],[0.4444444444444444,\"#bd3786\"],[0.5555555555555556,\"#d8576b\"],[0.6666666666666666,\"#ed7953\"],[0.7777777777777778,\"#fb9f3a\"],[0.8888888888888888,\"#fdca26\"],[1.0,\"#f0f921\"]],\"type\":\"heatmap\"}],\"heatmapgl\":[{\"colorbar\":{\"outlinewidth\":0,\"ticks\":\"\"},\"colorscale\":[[0.0,\"#0d0887\"],[0.1111111111111111,\"#46039f\"],[0.2222222222222222,\"#7201a8\"],[0.3333333333333333,\"#9c179e\"],[0.4444444444444444,\"#bd3786\"],[0.5555555555555556,\"#d8576b\"],[0.6666666666666666,\"#ed7953\"],[0.7777777777777778,\"#fb9f3a\"],[0.8888888888888888,\"#fdca26\"],[1.0,\"#f0f921\"]],\"type\":\"heatmapgl\"}],\"histogram\":[{\"marker\":{\"pattern\":{\"fillmode\":\"overlay\",\"size\":10,\"solidity\":0.2}},\"type\":\"histogram\"}],\"histogram2d\":[{\"colorbar\":{\"outlinewidth\":0,\"ticks\":\"\"},\"colorscale\":[[0.0,\"#0d0887\"],[0.1111111111111111,\"#46039f\"],[0.2222222222222222,\"#7201a8\"],[0.3333333333333333,\"#9c179e\"],[0.4444444444444444,\"#bd3786\"],[0.5555555555555556,\"#d8576b\"],[0.6666666666666666,\"#ed7953\"],[0.7777777777777778,\"#fb9f3a\"],[0.8888888888888888,\"#fdca26\"],[1.0,\"#f0f921\"]],\"type\":\"histogram2d\"}],\"histogram2dcontour\":[{\"colorbar\":{\"outlinewidth\":0,\"ticks\":\"\"},\"colorscale\":[[0.0,\"#0d0887\"],[0.1111111111111111,\"#46039f\"],[0.2222222222222222,\"#7201a8\"],[0.3333333333333333,\"#9c179e\"],[0.4444444444444444,\"#bd3786\"],[0.5555555555555556,\"#d8576b\"],[0.6666666666666666,\"#ed7953\"],[0.7777777777777778,\"#fb9f3a\"],[0.8888888888888888,\"#fdca26\"],[1.0,\"#f0f921\"]],\"type\":\"histogram2dcontour\"}],\"mesh3d\":[{\"colorbar\":{\"outlinewidth\":0,\"ticks\":\"\"},\"type\":\"mesh3d\"}],\"parcoords\":[{\"line\":{\"colorbar\":{\"outlinewidth\":0,\"ticks\":\"\"}},\"type\":\"parcoords\"}],\"pie\":[{\"automargin\":true,\"type\":\"pie\"}],\"scatter\":[{\"marker\":{\"colorbar\":{\"outlinewidth\":0,\"ticks\":\"\"}},\"type\":\"scatter\"}],\"scatter3d\":[{\"line\":{\"colorbar\":{\"outlinewidth\":0,\"ticks\":\"\"}},\"marker\":{\"colorbar\":{\"outlinewidth\":0,\"ticks\":\"\"}},\"type\":\"scatter3d\"}],\"scattercarpet\":[{\"marker\":{\"colorbar\":{\"outlinewidth\":0,\"ticks\":\"\"}},\"type\":\"scattercarpet\"}],\"scattergeo\":[{\"marker\":{\"colorbar\":{\"outlinewidth\":0,\"ticks\":\"\"}},\"type\":\"scattergeo\"}],\"scattergl\":[{\"marker\":{\"colorbar\":{\"outlinewidth\":0,\"ticks\":\"\"}},\"type\":\"scattergl\"}],\"scattermapbox\":[{\"marker\":{\"colorbar\":{\"outlinewidth\":0,\"ticks\":\"\"}},\"type\":\"scattermapbox\"}],\"scatterpolar\":[{\"marker\":{\"colorbar\":{\"outlinewidth\":0,\"ticks\":\"\"}},\"type\":\"scatterpolar\"}],\"scatterpolargl\":[{\"marker\":{\"colorbar\":{\"outlinewidth\":0,\"ticks\":\"\"}},\"type\":\"scatterpolargl\"}],\"scatterternary\":[{\"marker\":{\"colorbar\":{\"outlinewidth\":0,\"ticks\":\"\"}},\"type\":\"scatterternary\"}],\"surface\":[{\"colorbar\":{\"outlinewidth\":0,\"ticks\":\"\"},\"colorscale\":[[0.0,\"#0d0887\"],[0.1111111111111111,\"#46039f\"],[0.2222222222222222,\"#7201a8\"],[0.3333333333333333,\"#9c179e\"],[0.4444444444444444,\"#bd3786\"],[0.5555555555555556,\"#d8576b\"],[0.6666666666666666,\"#ed7953\"],[0.7777777777777778,\"#fb9f3a\"],[0.8888888888888888,\"#fdca26\"],[1.0,\"#f0f921\"]],\"type\":\"surface\"}],\"table\":[{\"cells\":{\"fill\":{\"color\":\"#EBF0F8\"},\"line\":{\"color\":\"white\"}},\"header\":{\"fill\":{\"color\":\"#C8D4E3\"},\"line\":{\"color\":\"white\"}},\"type\":\"table\"}]},\"layout\":{\"annotationdefaults\":{\"arrowcolor\":\"#2a3f5f\",\"arrowhead\":0,\"arrowwidth\":1},\"autotypenumbers\":\"strict\",\"coloraxis\":{\"colorbar\":{\"outlinewidth\":0,\"ticks\":\"\"}},\"colorscale\":{\"diverging\":[[0,\"#8e0152\"],[0.1,\"#c51b7d\"],[0.2,\"#de77ae\"],[0.3,\"#f1b6da\"],[0.4,\"#fde0ef\"],[0.5,\"#f7f7f7\"],[0.6,\"#e6f5d0\"],[0.7,\"#b8e186\"],[0.8,\"#7fbc41\"],[0.9,\"#4d9221\"],[1,\"#276419\"]],\"sequential\":[[0.0,\"#0d0887\"],[0.1111111111111111,\"#46039f\"],[0.2222222222222222,\"#7201a8\"],[0.3333333333333333,\"#9c179e\"],[0.4444444444444444,\"#bd3786\"],[0.5555555555555556,\"#d8576b\"],[0.6666666666666666,\"#ed7953\"],[0.7777777777777778,\"#fb9f3a\"],[0.8888888888888888,\"#fdca26\"],[1.0,\"#f0f921\"]],\"sequentialminus\":[[0.0,\"#0d0887\"],[0.1111111111111111,\"#46039f\"],[0.2222222222222222,\"#7201a8\"],[0.3333333333333333,\"#9c179e\"],[0.4444444444444444,\"#bd3786\"],[0.5555555555555556,\"#d8576b\"],[0.6666666666666666,\"#ed7953\"],[0.7777777777777778,\"#fb9f3a\"],[0.8888888888888888,\"#fdca26\"],[1.0,\"#f0f921\"]]},\"colorway\":[\"#636efa\",\"#EF553B\",\"#00cc96\",\"#ab63fa\",\"#FFA15A\",\"#19d3f3\",\"#FF6692\",\"#B6E880\",\"#FF97FF\",\"#FECB52\"],\"font\":{\"color\":\"#2a3f5f\"},\"geo\":{\"bgcolor\":\"white\",\"lakecolor\":\"white\",\"landcolor\":\"#E5ECF6\",\"showlakes\":true,\"showland\":true,\"subunitcolor\":\"white\"},\"hoverlabel\":{\"align\":\"left\"},\"hovermode\":\"closest\",\"mapbox\":{\"style\":\"light\"},\"paper_bgcolor\":\"white\",\"plot_bgcolor\":\"#E5ECF6\",\"polar\":{\"angularaxis\":{\"gridcolor\":\"white\",\"linecolor\":\"white\",\"ticks\":\"\"},\"bgcolor\":\"#E5ECF6\",\"radialaxis\":{\"gridcolor\":\"white\",\"linecolor\":\"white\",\"ticks\":\"\"}},\"scene\":{\"xaxis\":{\"backgroundcolor\":\"#E5ECF6\",\"gridcolor\":\"white\",\"gridwidth\":2,\"linecolor\":\"white\",\"showbackground\":true,\"ticks\":\"\",\"zerolinecolor\":\"white\"},\"yaxis\":{\"backgroundcolor\":\"#E5ECF6\",\"gridcolor\":\"white\",\"gridwidth\":2,\"linecolor\":\"white\",\"showbackground\":true,\"ticks\":\"\",\"zerolinecolor\":\"white\"},\"zaxis\":{\"backgroundcolor\":\"#E5ECF6\",\"gridcolor\":\"white\",\"gridwidth\":2,\"linecolor\":\"white\",\"showbackground\":true,\"ticks\":\"\",\"zerolinecolor\":\"white\"}},\"shapedefaults\":{\"line\":{\"color\":\"#2a3f5f\"}},\"ternary\":{\"aaxis\":{\"gridcolor\":\"white\",\"linecolor\":\"white\",\"ticks\":\"\"},\"baxis\":{\"gridcolor\":\"white\",\"linecolor\":\"white\",\"ticks\":\"\"},\"bgcolor\":\"#E5ECF6\",\"caxis\":{\"gridcolor\":\"white\",\"linecolor\":\"white\",\"ticks\":\"\"}},\"title\":{\"x\":0.05},\"xaxis\":{\"automargin\":true,\"gridcolor\":\"white\",\"linecolor\":\"white\",\"ticks\":\"\",\"title\":{\"standoff\":15},\"zerolinecolor\":\"white\",\"zerolinewidth\":2},\"yaxis\":{\"automargin\":true,\"gridcolor\":\"white\",\"linecolor\":\"white\",\"ticks\":\"\",\"title\":{\"standoff\":15},\"zerolinecolor\":\"white\",\"zerolinewidth\":2}}},\"xaxis\":{\"anchor\":\"y\",\"domain\":[0.0,1.0],\"title\":{\"text\":\"Date\"}},\"yaxis\":{\"anchor\":\"x\",\"domain\":[0.0,1.0],\"title\":{\"text\":\"Number of Videos using tag \\\"halloween\\\"\"}},\"legend\":{\"tracegroupgap\":0},\"title\":{\"text\":\"Usage Statistics of Tag \\\"halloween\\\"\"},\"barmode\":\"relative\"},                        {\"responsive\": true}                    ).then(function(){\n",
              "                            \n",
              "var gd = document.getElementById('144aa2fb-fc06-4822-88b0-259a3ab742a6');\n",
              "var x = new MutationObserver(function (mutations, observer) {{\n",
              "        var display = window.getComputedStyle(gd).display;\n",
              "        if (!display || display === 'none') {{\n",
              "            console.log([gd, 'removed!']);\n",
              "            Plotly.purge(gd);\n",
              "            observer.disconnect();\n",
              "        }}\n",
              "}});\n",
              "\n",
              "// Listen for the removal of the full notebook cells\n",
              "var notebookContainer = gd.closest('#notebook-container');\n",
              "if (notebookContainer) {{\n",
              "    x.observe(notebookContainer, {childList: true});\n",
              "}}\n",
              "\n",
              "// Listen for the clearing of the current output cell\n",
              "var outputEl = gd.closest('.output');\n",
              "if (outputEl) {{\n",
              "    x.observe(outputEl, {childList: true});\n",
              "}}\n",
              "\n",
              "                        })                };                            </script>        </div>\n",
              "</body>\n",
              "</html>"
            ]
          },
          "metadata": {}
        }
      ]
    },
    {
      "cell_type": "code",
      "source": [
        "import plotly.express as px\n",
        "olympics_df = pd.DataFrame(data=olympic_usage.items(),columns=[\"Date\",\"Usage\"])\n",
        "olympics_df = olympics_df.set_index(\"Date\")\n",
        "fig = px.bar(olympics_df,x=olympics_df.index,y=\"Usage\",\n",
        "             title='Usage Statistics of Tag \"olympics\"',\n",
        "             labels={'index': 'Number Of Popular Months', \"Usage\":'Number of Videos using tag \"olympics\"'}, orientation='v')\n",
        "fig.show()\n",
        "fig.write_html(\"olympic_usage.html\")"
      ],
      "metadata": {
        "colab": {
          "base_uri": "https://localhost:8080/",
          "height": 542
        },
        "id": "TsBQFUXYrJT8",
        "outputId": "9b732af1-24ef-4014-aad0-ec24d2945f67"
      },
      "execution_count": null,
      "outputs": [
        {
          "output_type": "display_data",
          "data": {
            "text/html": [
              "<html>\n",
              "<head><meta charset=\"utf-8\" /></head>\n",
              "<body>\n",
              "    <div>            <script src=\"https://cdnjs.cloudflare.com/ajax/libs/mathjax/2.7.5/MathJax.js?config=TeX-AMS-MML_SVG\"></script><script type=\"text/javascript\">if (window.MathJax) {MathJax.Hub.Config({SVG: {font: \"STIX-Web\"}});}</script>                <script type=\"text/javascript\">window.PlotlyConfig = {MathJaxConfig: 'local'};</script>\n",
              "        <script src=\"https://cdn.plot.ly/plotly-2.8.3.min.js\"></script>                <div id=\"cca40209-06af-4375-b5ea-e759187df2cf\" class=\"plotly-graph-div\" style=\"height:525px; width:100%;\"></div>            <script type=\"text/javascript\">                                    window.PLOTLYENV=window.PLOTLYENV || {};                                    if (document.getElementById(\"cca40209-06af-4375-b5ea-e759187df2cf\")) {                    Plotly.newPlot(                        \"cca40209-06af-4375-b5ea-e759187df2cf\",                        [{\"alignmentgroup\":\"True\",\"hovertemplate\":\"Date=%{x}<br>Number of Videos using tag \\\"olympics\\\"=%{y}<extra></extra>\",\"legendgroup\":\"\",\"marker\":{\"color\":\"#636efa\",\"pattern\":{\"shape\":\"\"}},\"name\":\"\",\"offsetgroup\":\"\",\"orientation\":\"v\",\"showlegend\":false,\"textposition\":\"auto\",\"x\":[\"2005-05-01\",\"2005-10-01\",\"2005-11-01\",\"2006-01-01\",\"2006-02-01\",\"2006-03-01\",\"2006-04-01\",\"2006-05-01\",\"2006-06-01\",\"2006-07-01\",\"2006-08-01\",\"2006-09-01\",\"2006-10-01\",\"2006-11-01\",\"2006-12-01\",\"2007-01-01\",\"2007-02-01\",\"2007-03-01\",\"2007-04-01\",\"2007-05-01\",\"2007-06-01\",\"2007-07-01\",\"2007-08-01\",\"2007-09-01\",\"2007-10-01\",\"2007-11-01\",\"2007-12-01\",\"2008-01-01\",\"2008-02-01\",\"2008-03-01\",\"2008-04-01\",\"2008-05-01\",\"2008-06-01\",\"2008-07-01\",\"2008-08-01\",\"2008-09-01\",\"2008-10-01\",\"2008-11-01\",\"2008-12-01\",\"2009-01-01\",\"2009-02-01\",\"2009-03-01\",\"2009-04-01\",\"2009-05-01\",\"2009-06-01\",\"2009-07-01\",\"2009-08-01\",\"2009-09-01\",\"2009-10-01\",\"2009-11-01\",\"2009-12-01\",\"2010-01-01\",\"2010-02-01\",\"2010-03-01\",\"2010-04-01\",\"2010-05-01\",\"2010-06-01\",\"2010-07-01\",\"2010-08-01\",\"2010-09-01\",\"2010-10-01\",\"2010-11-01\",\"2010-12-01\",\"2011-01-01\",\"2011-02-01\",\"2011-03-01\",\"2011-04-01\",\"2011-05-01\",\"2011-06-01\",\"2011-07-01\",\"2011-08-01\",\"2011-09-01\",\"2011-10-01\",\"2011-11-01\",\"2011-12-01\",\"2012-01-01\",\"2012-02-01\",\"2012-03-01\",\"2012-04-01\",\"2012-05-01\",\"2012-06-01\",\"2012-07-01\",\"2012-08-01\",\"2012-09-01\",\"2012-10-01\",\"2012-11-01\",\"2012-12-01\",\"2013-01-01\",\"2013-02-01\",\"2013-03-01\",\"2013-04-01\",\"2013-05-01\",\"2013-06-01\",\"2013-07-01\",\"2013-08-01\",\"2013-09-01\",\"2013-10-01\",\"2013-11-01\",\"2013-12-01\",\"2014-01-01\",\"2014-02-01\",\"2014-03-01\",\"2014-04-01\",\"2014-05-01\",\"2014-06-01\",\"2014-07-01\",\"2014-08-01\",\"2014-09-01\",\"2014-10-01\",\"2014-11-01\",\"2014-12-01\",\"2015-01-01\",\"2015-02-01\",\"2015-03-01\",\"2015-04-01\",\"2015-05-01\",\"2015-06-01\",\"2015-07-01\",\"2015-08-01\",\"2015-09-01\",\"2015-10-01\",\"2015-11-01\",\"2015-12-01\",\"2016-01-01\",\"2016-02-01\",\"2016-03-01\",\"2016-04-01\",\"2016-05-01\",\"2016-06-01\",\"2016-07-01\",\"2016-08-01\",\"2016-09-01\",\"2016-10-01\",\"2016-11-01\",\"2016-12-01\",\"2017-01-01\",\"2017-02-01\",\"2017-03-01\",\"2017-04-01\",\"2017-05-01\",\"2017-06-01\",\"2017-07-01\",\"2017-08-01\",\"2017-09-01\",\"2017-10-01\",\"2017-11-01\",\"2017-12-01\",\"2018-01-01\",\"2018-02-01\",\"2018-03-01\",\"2018-04-01\",\"2018-05-01\",\"2018-06-01\",\"2018-07-01\",\"2018-08-01\",\"2018-09-01\",\"2018-10-01\",\"2018-11-01\",\"2018-12-01\",\"2019-01-01\",\"2019-02-01\",\"2019-03-01\",\"2019-04-01\",\"2019-05-01\",\"2019-06-01\",\"2019-07-01\",\"2019-08-01\",\"2019-09-01\",\"2019-10-01\",\"2019-11-01\",\"2005-07-01\",\"2005-08-01\",\"2005-09-01\",\"2005-12-01\"],\"xaxis\":\"x\",\"y\":[0,0,0,0,1,0,0,0,0,1,1,0,0,2,0,1,1,8,3,7,14,4,5,7,18,25,16,24,43,40,51,37,94,118,317,51,53,51,21,26,23,39,32,18,30,67,25,56,58,75,87,145,379,138,52,43,54,44,48,58,52,64,47,50,33,54,63,90,90,129,201,131,389,185,136,211,137,240,231,469,729,2340,3623,499,336,299,321,223,305,518,477,428,371,348,425,447,463,423,275,538,1705,623,568,478,361,450,858,296,396,236,325,231,271,438,425,435,313,491,1485,430,361,291,368,338,683,681,627,512,782,1530,5383,855,483,406,487,459,550,592,585,545,548,563,665,645,568,687,636,906,3053,1061,728,873,599,936,733,598,783,581,400,406,359,407,339,340,450,611,1018,1390,66,0,0,0,0,0],\"yaxis\":\"y\",\"type\":\"bar\"}],                        {\"template\":{\"data\":{\"bar\":[{\"error_x\":{\"color\":\"#2a3f5f\"},\"error_y\":{\"color\":\"#2a3f5f\"},\"marker\":{\"line\":{\"color\":\"#E5ECF6\",\"width\":0.5},\"pattern\":{\"fillmode\":\"overlay\",\"size\":10,\"solidity\":0.2}},\"type\":\"bar\"}],\"barpolar\":[{\"marker\":{\"line\":{\"color\":\"#E5ECF6\",\"width\":0.5},\"pattern\":{\"fillmode\":\"overlay\",\"size\":10,\"solidity\":0.2}},\"type\":\"barpolar\"}],\"carpet\":[{\"aaxis\":{\"endlinecolor\":\"#2a3f5f\",\"gridcolor\":\"white\",\"linecolor\":\"white\",\"minorgridcolor\":\"white\",\"startlinecolor\":\"#2a3f5f\"},\"baxis\":{\"endlinecolor\":\"#2a3f5f\",\"gridcolor\":\"white\",\"linecolor\":\"white\",\"minorgridcolor\":\"white\",\"startlinecolor\":\"#2a3f5f\"},\"type\":\"carpet\"}],\"choropleth\":[{\"colorbar\":{\"outlinewidth\":0,\"ticks\":\"\"},\"type\":\"choropleth\"}],\"contour\":[{\"colorbar\":{\"outlinewidth\":0,\"ticks\":\"\"},\"colorscale\":[[0.0,\"#0d0887\"],[0.1111111111111111,\"#46039f\"],[0.2222222222222222,\"#7201a8\"],[0.3333333333333333,\"#9c179e\"],[0.4444444444444444,\"#bd3786\"],[0.5555555555555556,\"#d8576b\"],[0.6666666666666666,\"#ed7953\"],[0.7777777777777778,\"#fb9f3a\"],[0.8888888888888888,\"#fdca26\"],[1.0,\"#f0f921\"]],\"type\":\"contour\"}],\"contourcarpet\":[{\"colorbar\":{\"outlinewidth\":0,\"ticks\":\"\"},\"type\":\"contourcarpet\"}],\"heatmap\":[{\"colorbar\":{\"outlinewidth\":0,\"ticks\":\"\"},\"colorscale\":[[0.0,\"#0d0887\"],[0.1111111111111111,\"#46039f\"],[0.2222222222222222,\"#7201a8\"],[0.3333333333333333,\"#9c179e\"],[0.4444444444444444,\"#bd3786\"],[0.5555555555555556,\"#d8576b\"],[0.6666666666666666,\"#ed7953\"],[0.7777777777777778,\"#fb9f3a\"],[0.8888888888888888,\"#fdca26\"],[1.0,\"#f0f921\"]],\"type\":\"heatmap\"}],\"heatmapgl\":[{\"colorbar\":{\"outlinewidth\":0,\"ticks\":\"\"},\"colorscale\":[[0.0,\"#0d0887\"],[0.1111111111111111,\"#46039f\"],[0.2222222222222222,\"#7201a8\"],[0.3333333333333333,\"#9c179e\"],[0.4444444444444444,\"#bd3786\"],[0.5555555555555556,\"#d8576b\"],[0.6666666666666666,\"#ed7953\"],[0.7777777777777778,\"#fb9f3a\"],[0.8888888888888888,\"#fdca26\"],[1.0,\"#f0f921\"]],\"type\":\"heatmapgl\"}],\"histogram\":[{\"marker\":{\"pattern\":{\"fillmode\":\"overlay\",\"size\":10,\"solidity\":0.2}},\"type\":\"histogram\"}],\"histogram2d\":[{\"colorbar\":{\"outlinewidth\":0,\"ticks\":\"\"},\"colorscale\":[[0.0,\"#0d0887\"],[0.1111111111111111,\"#46039f\"],[0.2222222222222222,\"#7201a8\"],[0.3333333333333333,\"#9c179e\"],[0.4444444444444444,\"#bd3786\"],[0.5555555555555556,\"#d8576b\"],[0.6666666666666666,\"#ed7953\"],[0.7777777777777778,\"#fb9f3a\"],[0.8888888888888888,\"#fdca26\"],[1.0,\"#f0f921\"]],\"type\":\"histogram2d\"}],\"histogram2dcontour\":[{\"colorbar\":{\"outlinewidth\":0,\"ticks\":\"\"},\"colorscale\":[[0.0,\"#0d0887\"],[0.1111111111111111,\"#46039f\"],[0.2222222222222222,\"#7201a8\"],[0.3333333333333333,\"#9c179e\"],[0.4444444444444444,\"#bd3786\"],[0.5555555555555556,\"#d8576b\"],[0.6666666666666666,\"#ed7953\"],[0.7777777777777778,\"#fb9f3a\"],[0.8888888888888888,\"#fdca26\"],[1.0,\"#f0f921\"]],\"type\":\"histogram2dcontour\"}],\"mesh3d\":[{\"colorbar\":{\"outlinewidth\":0,\"ticks\":\"\"},\"type\":\"mesh3d\"}],\"parcoords\":[{\"line\":{\"colorbar\":{\"outlinewidth\":0,\"ticks\":\"\"}},\"type\":\"parcoords\"}],\"pie\":[{\"automargin\":true,\"type\":\"pie\"}],\"scatter\":[{\"marker\":{\"colorbar\":{\"outlinewidth\":0,\"ticks\":\"\"}},\"type\":\"scatter\"}],\"scatter3d\":[{\"line\":{\"colorbar\":{\"outlinewidth\":0,\"ticks\":\"\"}},\"marker\":{\"colorbar\":{\"outlinewidth\":0,\"ticks\":\"\"}},\"type\":\"scatter3d\"}],\"scattercarpet\":[{\"marker\":{\"colorbar\":{\"outlinewidth\":0,\"ticks\":\"\"}},\"type\":\"scattercarpet\"}],\"scattergeo\":[{\"marker\":{\"colorbar\":{\"outlinewidth\":0,\"ticks\":\"\"}},\"type\":\"scattergeo\"}],\"scattergl\":[{\"marker\":{\"colorbar\":{\"outlinewidth\":0,\"ticks\":\"\"}},\"type\":\"scattergl\"}],\"scattermapbox\":[{\"marker\":{\"colorbar\":{\"outlinewidth\":0,\"ticks\":\"\"}},\"type\":\"scattermapbox\"}],\"scatterpolar\":[{\"marker\":{\"colorbar\":{\"outlinewidth\":0,\"ticks\":\"\"}},\"type\":\"scatterpolar\"}],\"scatterpolargl\":[{\"marker\":{\"colorbar\":{\"outlinewidth\":0,\"ticks\":\"\"}},\"type\":\"scatterpolargl\"}],\"scatterternary\":[{\"marker\":{\"colorbar\":{\"outlinewidth\":0,\"ticks\":\"\"}},\"type\":\"scatterternary\"}],\"surface\":[{\"colorbar\":{\"outlinewidth\":0,\"ticks\":\"\"},\"colorscale\":[[0.0,\"#0d0887\"],[0.1111111111111111,\"#46039f\"],[0.2222222222222222,\"#7201a8\"],[0.3333333333333333,\"#9c179e\"],[0.4444444444444444,\"#bd3786\"],[0.5555555555555556,\"#d8576b\"],[0.6666666666666666,\"#ed7953\"],[0.7777777777777778,\"#fb9f3a\"],[0.8888888888888888,\"#fdca26\"],[1.0,\"#f0f921\"]],\"type\":\"surface\"}],\"table\":[{\"cells\":{\"fill\":{\"color\":\"#EBF0F8\"},\"line\":{\"color\":\"white\"}},\"header\":{\"fill\":{\"color\":\"#C8D4E3\"},\"line\":{\"color\":\"white\"}},\"type\":\"table\"}]},\"layout\":{\"annotationdefaults\":{\"arrowcolor\":\"#2a3f5f\",\"arrowhead\":0,\"arrowwidth\":1},\"autotypenumbers\":\"strict\",\"coloraxis\":{\"colorbar\":{\"outlinewidth\":0,\"ticks\":\"\"}},\"colorscale\":{\"diverging\":[[0,\"#8e0152\"],[0.1,\"#c51b7d\"],[0.2,\"#de77ae\"],[0.3,\"#f1b6da\"],[0.4,\"#fde0ef\"],[0.5,\"#f7f7f7\"],[0.6,\"#e6f5d0\"],[0.7,\"#b8e186\"],[0.8,\"#7fbc41\"],[0.9,\"#4d9221\"],[1,\"#276419\"]],\"sequential\":[[0.0,\"#0d0887\"],[0.1111111111111111,\"#46039f\"],[0.2222222222222222,\"#7201a8\"],[0.3333333333333333,\"#9c179e\"],[0.4444444444444444,\"#bd3786\"],[0.5555555555555556,\"#d8576b\"],[0.6666666666666666,\"#ed7953\"],[0.7777777777777778,\"#fb9f3a\"],[0.8888888888888888,\"#fdca26\"],[1.0,\"#f0f921\"]],\"sequentialminus\":[[0.0,\"#0d0887\"],[0.1111111111111111,\"#46039f\"],[0.2222222222222222,\"#7201a8\"],[0.3333333333333333,\"#9c179e\"],[0.4444444444444444,\"#bd3786\"],[0.5555555555555556,\"#d8576b\"],[0.6666666666666666,\"#ed7953\"],[0.7777777777777778,\"#fb9f3a\"],[0.8888888888888888,\"#fdca26\"],[1.0,\"#f0f921\"]]},\"colorway\":[\"#636efa\",\"#EF553B\",\"#00cc96\",\"#ab63fa\",\"#FFA15A\",\"#19d3f3\",\"#FF6692\",\"#B6E880\",\"#FF97FF\",\"#FECB52\"],\"font\":{\"color\":\"#2a3f5f\"},\"geo\":{\"bgcolor\":\"white\",\"lakecolor\":\"white\",\"landcolor\":\"#E5ECF6\",\"showlakes\":true,\"showland\":true,\"subunitcolor\":\"white\"},\"hoverlabel\":{\"align\":\"left\"},\"hovermode\":\"closest\",\"mapbox\":{\"style\":\"light\"},\"paper_bgcolor\":\"white\",\"plot_bgcolor\":\"#E5ECF6\",\"polar\":{\"angularaxis\":{\"gridcolor\":\"white\",\"linecolor\":\"white\",\"ticks\":\"\"},\"bgcolor\":\"#E5ECF6\",\"radialaxis\":{\"gridcolor\":\"white\",\"linecolor\":\"white\",\"ticks\":\"\"}},\"scene\":{\"xaxis\":{\"backgroundcolor\":\"#E5ECF6\",\"gridcolor\":\"white\",\"gridwidth\":2,\"linecolor\":\"white\",\"showbackground\":true,\"ticks\":\"\",\"zerolinecolor\":\"white\"},\"yaxis\":{\"backgroundcolor\":\"#E5ECF6\",\"gridcolor\":\"white\",\"gridwidth\":2,\"linecolor\":\"white\",\"showbackground\":true,\"ticks\":\"\",\"zerolinecolor\":\"white\"},\"zaxis\":{\"backgroundcolor\":\"#E5ECF6\",\"gridcolor\":\"white\",\"gridwidth\":2,\"linecolor\":\"white\",\"showbackground\":true,\"ticks\":\"\",\"zerolinecolor\":\"white\"}},\"shapedefaults\":{\"line\":{\"color\":\"#2a3f5f\"}},\"ternary\":{\"aaxis\":{\"gridcolor\":\"white\",\"linecolor\":\"white\",\"ticks\":\"\"},\"baxis\":{\"gridcolor\":\"white\",\"linecolor\":\"white\",\"ticks\":\"\"},\"bgcolor\":\"#E5ECF6\",\"caxis\":{\"gridcolor\":\"white\",\"linecolor\":\"white\",\"ticks\":\"\"}},\"title\":{\"x\":0.05},\"xaxis\":{\"automargin\":true,\"gridcolor\":\"white\",\"linecolor\":\"white\",\"ticks\":\"\",\"title\":{\"standoff\":15},\"zerolinecolor\":\"white\",\"zerolinewidth\":2},\"yaxis\":{\"automargin\":true,\"gridcolor\":\"white\",\"linecolor\":\"white\",\"ticks\":\"\",\"title\":{\"standoff\":15},\"zerolinecolor\":\"white\",\"zerolinewidth\":2}}},\"xaxis\":{\"anchor\":\"y\",\"domain\":[0.0,1.0],\"title\":{\"text\":\"Date\"}},\"yaxis\":{\"anchor\":\"x\",\"domain\":[0.0,1.0],\"title\":{\"text\":\"Number of Videos using tag \\\"olympics\\\"\"}},\"legend\":{\"tracegroupgap\":0},\"title\":{\"text\":\"Usage Statistics of Tag \\\"olympics\\\"\"},\"barmode\":\"relative\"},                        {\"responsive\": true}                    ).then(function(){\n",
              "                            \n",
              "var gd = document.getElementById('cca40209-06af-4375-b5ea-e759187df2cf');\n",
              "var x = new MutationObserver(function (mutations, observer) {{\n",
              "        var display = window.getComputedStyle(gd).display;\n",
              "        if (!display || display === 'none') {{\n",
              "            console.log([gd, 'removed!']);\n",
              "            Plotly.purge(gd);\n",
              "            observer.disconnect();\n",
              "        }}\n",
              "}});\n",
              "\n",
              "// Listen for the removal of the full notebook cells\n",
              "var notebookContainer = gd.closest('#notebook-container');\n",
              "if (notebookContainer) {{\n",
              "    x.observe(notebookContainer, {childList: true});\n",
              "}}\n",
              "\n",
              "// Listen for the clearing of the current output cell\n",
              "var outputEl = gd.closest('.output');\n",
              "if (outputEl) {{\n",
              "    x.observe(outputEl, {childList: true});\n",
              "}}\n",
              "\n",
              "                        })                };                            </script>        </div>\n",
              "</body>\n",
              "</html>"
            ]
          },
          "metadata": {}
        }
      ]
    },
    {
      "cell_type": "markdown",
      "source": [
        "## Popularity Analysis"
      ],
      "metadata": {
        "id": "jpjAMybst134"
      }
    },
    {
      "cell_type": "markdown",
      "source": [
        "Popular tags can provide useful information about the tag behaviour in YouTube. So, we propose a method to find popular tags, inspired by https://stackoverflow.com/a/826509. For each category, we investigate the monthly usage and compare it to the previous months by standardizing the current usage value with previous usage mean and std:\n",
        "$$z-score=\\frac{(usage-\\mu)}{\\sigma}$$\n",
        "Then, we identify the tags with highest 15 z-scores as popular for each month and then update the previous usage values with the current usage. We only consider the tags with usage more then 90th percentile each month to eliminate biases. "
      ],
      "metadata": {
        "id": "2E2jo0gxxlQc"
      }
    },
    {
      "cell_type": "code",
      "source": [
        "def update_previous_usage(prev_usages,tag_usages,current_month,month_limit=6):\n",
        "  for tag,usage in tag_usages.items():\n",
        "    if tag in prev_usages.keys():\n",
        "      dates, usages = prev_usages[tag]\n",
        "      usages.append(usage)\n",
        "      dates.append(current_month)\n",
        "    else:\n",
        "      prev_usages[tag] = ([current_month],[usage])\n",
        "  new_usage_history = {}\n",
        "  for tag,stats in prev_usages.items():\n",
        "      dates, usages = stats \n",
        "      avaiable_dates = np.where(np.array(dates)>current_month-month_limit)[0]\n",
        "      dates = np.array(dates)[avaiable_dates].tolist()\n",
        "      usages = np.array(usages)[avaiable_dates].tolist()\n",
        "      if len(dates)>0:\n",
        "        new_usage_history[tag] = (dates,usages)\n",
        "  return new_usage_history\n",
        "  \n",
        "def calculate_zscores(prev_usages,tag_usage):\n",
        "  zscores = {}\n",
        "\n",
        "  if len(prev_usages)!=0:\n",
        "    default_mean = np.mean([np.mean(usages) for (dates, usages) in prev_usages.values()])\n",
        "    default_std = np.mean([np.std(usages) for (dates, usages) in prev_usages.values()])\n",
        "  else:\n",
        "    default_mean=0\n",
        "    default_std=1\n",
        "  if default_std==0:\n",
        "    default_std = 1\n",
        "  percentile = np.percentile(list(tag_usage.values()),90)\n",
        "  for tag,usage in tag_usage.items():\n",
        "    avg, std = default_mean, default_std\n",
        "    if tag in prev_usages:\n",
        "      _, usages =  prev_usages[tag]\n",
        "      avg = np.mean(usages) \n",
        "      std = np.std(usages) \n",
        "    zscore = (usage-avg)/std if std!=0 else (usage-avg)/default_std\n",
        "    zscores[tag] = zscore  \n",
        "    if usage<percentile:\n",
        "      zscores[tag] = 0\n",
        "  return dict(sorted(zscores.items(), key=lambda item: item[1],reverse=True))"
      ],
      "metadata": {
        "id": "SgUubVZZtzKd"
      },
      "execution_count": null,
      "outputs": []
    },
    {
      "cell_type": "markdown",
      "source": [
        "We also store the details of how many months the popular tags remain popular for further analysis:"
      ],
      "metadata": {
        "id": "5k_43HU1yvJm"
      }
    },
    {
      "cell_type": "code",
      "source": [
        "def store_viral_events(viral_events,zscores,popular_tags,upload_date):\n",
        "\n",
        "  for tag in popular_tags:\n",
        "    if tag not in viral_events:\n",
        "      viral_events[tag]= {\"history\":[],\"newest\":upload_date}\n",
        "    elif viral_events[tag][\"newest\"] == \"Finished\":\n",
        "      viral_events[tag][\"newest\"] = upload_date\n",
        "  for tag in viral_events.keys():\n",
        "    if (tag not in zscores or zscores[tag]<-1.96) and viral_events[tag][\"newest\"]!=\"Finished\":\n",
        "      viral_events[tag][\"history\"].append(diff_month(upload_date,viral_events[tag][\"newest\"]))\n",
        "      viral_events[tag][\"newest\"] = \"Finished\""
      ],
      "metadata": {
        "id": "S_ui3qLKueC_"
      },
      "execution_count": null,
      "outputs": []
    },
    {
      "cell_type": "code",
      "execution_count": null,
      "metadata": {
        "id": "O76T_D9Tppm0"
      },
      "outputs": [],
      "source": [
        "for category in categories:\n",
        "  prev_usages = {}\n",
        "  max_zscores = []\n",
        "  most_viral_events = []\n",
        "\n",
        "  viral_events = {}\n",
        "  with open(f\"{category}.txt\",\"w\") as result_file:\n",
        "    print(\"*\"*25+category+\"*\"*25)\n",
        "    for ind, monthly_graph_file in enumerate(sorted(os.listdir(f\"category_data/{category}/\"))):\n",
        "      upload_date = monthly_graph_file.split(\"_\")[1].split(\".\")[0]\n",
        "      with open(os.path.join(f\"category_data/{category}/\",monthly_graph_file),\"rb\") as pkl_file:\n",
        "        edges = pkl.load(pkl_file)\n",
        "        if len(edges)==0:\n",
        "          continue\n",
        "        singularized_edges = edges\n",
        "        tag_usages = aggregate_tag_usage(singularized_edges)\n",
        "        zscores = calculate_zscores(prev_usages,tag_usages)\n",
        "\n",
        "        popular_tags = list(zscores.keys())[:15]\n",
        "        max_zscores = max_zscores + list(zscores.values())[:15]\n",
        "        most_viral_events = most_viral_events + [(upload_date,popular_tag) for popular_tag in popular_tags]\n",
        "\n",
        "        sorted_indices = np.array(max_zscores).argsort()\n",
        "        max_zscores = np.array(max_zscores)[sorted_indices][-100:].tolist()[::-1]\n",
        "        most_viral_events = np.array(most_viral_events)[sorted_indices][-100:].tolist()[::-1]\n",
        "        decreasing_popular_tags = [tag for tag in list(zscores.keys()) if tag in prev_usages.keys()][-15:]\n",
        "\n",
        "        prev_usages = update_previous_usage(prev_usages,tag_usages,ind)\n",
        "        store_viral_events(viral_events,zscores,popular_tags,upload_date)\n",
        "\n",
        "        print(category,upload_date)\n",
        "        print(\"Popular:\",popular_tags)\n",
        "        print(\"Decreasing popular:\",decreasing_popular_tags)\n",
        "        print(\"*\"*25)\n",
        "\n",
        "        print(category,upload_date,file=result_file)\n",
        "        print(\"Popular:\",popular_tags,file=result_file)\n",
        "        print(\"Decreasing popular:\",decreasing_popular_tags,file=result_file)\n",
        "        print(\"*\"*25,file=result_file)\n",
        "    print(most_viral_events)\n",
        "    print(max_zscores)\n",
        "    print(most_viral_events,file=result_file)\n",
        "    print(max_zscores,file=result_file)\n",
        "  with open(f\"{category}.pkl\",\"wb\") as result_file:\n",
        "    pkl.dump(viral_events,result_file)    "
      ]
    },
    {
      "cell_type": "markdown",
      "source": [
        "## Popular Event Statistics"
      ],
      "metadata": {
        "id": "NfatwoJTuwUS"
      }
    },
    {
      "cell_type": "markdown",
      "source": [
        "With the popularity information, we now can investigate the evolution of popular tags through time:"
      ],
      "metadata": {
        "id": "pLFDp6HDy5UD"
      }
    },
    {
      "cell_type": "code",
      "source": [
        "with open(\"trend_data.json\",\"rb\") as json_file:  \n",
        "  popular_events = json.load(json_file)    ## load the popular tags"
      ],
      "metadata": {
        "id": "nsN42cJKuu0L"
      },
      "execution_count": null,
      "outputs": []
    },
    {
      "cell_type": "markdown",
      "source": [
        "We now visualize the number of months the tags remain popular:"
      ],
      "metadata": {
        "id": "g4XqPYbezFX4"
      }
    },
    {
      "cell_type": "code",
      "source": [
        "number_of_popular_months = []\n",
        "for category in sorted(categories):\n",
        "  with open(f\"{category}.pkl\",\"rb\") as result_file:\n",
        "    viral_events = pkl.load(result_file) \n",
        "    number_of_popular_months_per_category = sum([viral_events[tag][\"history\"] for tag in viral_events],[])\n",
        "    number_of_popular_months_per_category = [x for x in number_of_popular_months_per_category if x!=0]\n",
        "    number_of_popular_months  = number_of_popular_months + number_of_popular_months_per_category\n",
        "\n",
        "plt.figure(figsize=(10,6))\n",
        "sns.histplot(number_of_popular_months,bins=100,log_scale=(True,True),stat='probability')\n",
        "plt.axvline(x=gmean(number_of_popular_months), color='black', label=\"geometric mean\")\n",
        "plt.text(x=gmean(number_of_popular_months),y=0.15,s=f\" Geometric mean:{gmean(number_of_popular_months):.2f}\")\n",
        "plt.xlabel('Number of Popular Months')\n",
        "plt.ylabel('Probability')\n",
        "plt.title(\"Probability Mass Function of Number of Popular Months\")\n",
        "plt.show()"
      ],
      "metadata": {
        "colab": {
          "base_uri": "https://localhost:8080/",
          "height": 408
        },
        "id": "Jqr6cR4KLbDv",
        "outputId": "01a4a93f-89f2-4966-ccde-b0d39e0e6b02"
      },
      "execution_count": null,
      "outputs": [
        {
          "output_type": "display_data",
          "data": {
            "text/plain": [
              "<Figure size 720x432 with 1 Axes>"
            ],
            "image/png": "[encoded data removed]"
          },
          "metadata": {
            "needs_background": "light"
          }
        }
      ]
    },
    {
      "cell_type": "markdown",
      "source": [
        "We can do the same analysis on each category to observe categorical differences:"
      ],
      "metadata": {
        "id": "rK39NaWvzKNm"
      }
    },
    {
      "cell_type": "code",
      "execution_count": null,
      "metadata": {
        "colab": {
          "base_uri": "https://localhost:8080/",
          "height": 684
        },
        "id": "p30GzryJWBrB",
        "outputId": "ff60eff5-072f-4ca3-dc5b-09030118c55c"
      },
      "outputs": [
        {
          "output_type": "display_data",
          "data": {
            "text/plain": [
              "<Figure size 1224x720 with 15 Axes>"
            ],
            "image/png": "[encoded data removed]"
          },
          "metadata": {
            "needs_background": "light"
          }
        }
      ],
      "source": [
        "fig,axes =  plt.subplots(3,5,sharex=True,sharey=True,figsize=(17,10))\n",
        "\n",
        "index = 0\n",
        "pal1 = sns.color_palette(\"husl\", 15)\n",
        "random.shuffle(pal1)\n",
        "\n",
        "for category in sorted(categories):\n",
        "  with open(f\"{category}.pkl\",\"rb\") as result_file:\n",
        "    viral_events = pkl.load(result_file) \n",
        "    number_of_popular_months = sum([viral_events[tag][\"history\"] for tag in viral_events],[])\n",
        "    number_of_popular_months = [x for x in number_of_popular_months if x!=0]\n",
        "     \n",
        "    ax = axes[int(index/5),index%5]\n",
        "    sns.histplot(number_of_popular_months,bins=40,log_scale=(True,True),ax=ax,stat='probability',color=pal1[index])\n",
        "    \n",
        "    index+=1\n",
        "    ax.axvline(x=gmean(number_of_popular_months), color='black', label=\"geometric mean\")\n",
        "    ax.text(x=gmean(number_of_popular_months),y=0.15,s=f\" Geometric mean:{gmean(number_of_popular_months):.2f}\")\n",
        "    ax.set_title(f\"{category}\")\n",
        "    ax.set(ylabel='')\n",
        "   \n",
        "fig.text(0.5, 0.08, 'Number of Popular Months', ha='center', va='center')\n",
        "fig.text(0.08, 0.5, 'Probability', ha='center', va='center', rotation='vertical')\n",
        "fig.suptitle(\"Probability Mass Function of Number of Popular Months per Cetagory\")\n",
        "#fig.tight_layout()\n",
        "fig.show()"
      ]
    },
    {
      "cell_type": "markdown",
      "source": [
        "## Video-tag relation to Tag Network"
      ],
      "metadata": {
        "id": "l9NfveJGuBHI"
      }
    },
    {
      "cell_type": "markdown",
      "source": [
        "We give an example tag network to explain the characteristics of the tag network and how it is constructed:"
      ],
      "metadata": {
        "id": "HRBHClAyzPSj"
      }
    },
    {
      "cell_type": "code",
      "source": [
        "def display_tag_graph():  \n",
        "  examples = pd.DataFrame(\n",
        "    {'title': ['Messi Highlights',\n",
        "      'Argentina had the answer for Serbia!',\n",
        "      \"USA v Argentina - Men's Basketball Semi-Final\"],\n",
        "     'tags': [[\"messi\",\"world cup\",\"argentina\",\"barcelona\",\"sports\"],\n",
        "      [\"basketball\",\"argentina\",\"world cup 2019\",\"world cup\",\"serbia\"],\n",
        "      [\"usa\",\"argentina\",\"basketball\", \"athens 2004\",\"replay\",\"sports\"]]})\n",
        "\n",
        "  tags = set()\n",
        "  tag_edges = {}\n",
        "  bi_edges = []\n",
        "  labels = []\n",
        "  video_titles = []\n",
        "  for i,example in examples.iterrows():\n",
        "    video_titles.append(example.title)\n",
        "    for tag in example.tags:\n",
        "      tags.add(tag)\n",
        "      bi_edges.append((example.title,tag))\n",
        "      labels.append(i)\n",
        "      for tag_rel in example.tags:\n",
        "        if tag!=tag_rel:\n",
        "          key = (tag_rel,tag) if tag_rel<tag else (tag,tag_rel)\n",
        "          tag_edges[key] = tag_edges.get(key,0) + 1\n",
        "      \n",
        "  graph = from_edge_list(bi_edges, bipartite=True)\n",
        "  biadjacency = graph.biadjacency\n",
        "  names = graph.names\n",
        "  names_col = graph.names_col\n",
        "  image = svg_bigraph(biadjacency,names_row=names, names_col=names_col,labels_row=[0,1,2],label_colors=[\"#6495ed\",\"#2f4f4f\",\"#ffdead\"])\n",
        "  display(SVG(image))\n",
        "  svg2png(bytestring=image,write_to='bipartite.png')\n",
        "\n",
        "  edges = [(edge[0],edge[1],weight) for edge,weight in tag_edges.items()]\n",
        "  graph = from_edge_list(edges)\n",
        "  adjacency = graph.adjacency\n",
        "  names = graph.names\n",
        "\n",
        "  image = svg_graph(adjacency,names=list(names),display_edge_weight=True)\n",
        "  display(SVG(image))\n",
        "  svg2png(bytestring=image,write_to='tag.png')"
      ],
      "metadata": {
        "id": "Z1XsDWDhuGhe"
      },
      "execution_count": null,
      "outputs": []
    },
    {
      "cell_type": "code",
      "source": [
        "display_tag_graph()"
      ],
      "metadata": {
        "colab": {
          "base_uri": "https://localhost:8080/",
          "height": 705
        },
        "id": "LDG5bu9lG-JA",
        "outputId": "8201f645-ad38-48c8-bcce-5d781e03f522"
      },
      "execution_count": null,
      "outputs": [
        {
          "output_type": "display_data",
          "data": {
            "text/plain": [
              "<IPython.core.display.SVG object>"
            ],
            "image/svg+xml": "<svg xmlns=\"http://www.w3.org/2000/svg\" width=\"794.0\" height=\"340\">\n<path stroke-width=\"1\" stroke=\"black\" d=\"M 290 140 690 320\"/>\n<path stroke-width=\"1\" stroke=\"black\" d=\"M 290 140 690 79\"/>\n<path stroke-width=\"1\" stroke=\"black\" d=\"M 290 140 690 49\"/>\n<path stroke-width=\"1\" stroke=\"black\" d=\"M 290 140 690 200\"/>\n<path stroke-width=\"1\" stroke=\"black\" d=\"M 290 140 690 20\"/>\n<path stroke-width=\"1\" stroke=\"black\" d=\"M 290 200 690 320\"/>\n<path stroke-width=\"1\" stroke=\"black\" d=\"M 290 200 690 290\"/>\n<path stroke-width=\"1\" stroke=\"black\" d=\"M 290 200 690 260\"/>\n<path stroke-width=\"1\" stroke=\"black\" d=\"M 290 200 690 230\"/>\n<path stroke-width=\"1\" stroke=\"black\" d=\"M 290 200 690 200\"/>\n<path stroke-width=\"1\" stroke=\"black\" d=\"M 290 170 690 320\"/>\n<path stroke-width=\"1\" stroke=\"black\" d=\"M 290 170 690 170\"/>\n<path stroke-width=\"1\" stroke=\"black\" d=\"M 290 170 690 79\"/>\n<path stroke-width=\"1\" stroke=\"black\" d=\"M 290 170 690 140\"/>\n<path stroke-width=\"1\" stroke=\"black\" d=\"M 290 170 690 230\"/>\n<path stroke-width=\"1\" stroke=\"black\" d=\"M 290 170 690 110\"/>\n<circle cx=\"290\" cy=\"140\" r=\"7.0\" style=\"fill:#6495ed;stroke:black;stroke-width:1.0\"/>\n<circle cx=\"290\" cy=\"200\" r=\"7.0\" style=\"fill:#2f4f4f;stroke:black;stroke-width:1.0\"/>\n<circle cx=\"290\" cy=\"170\" r=\"7.0\" style=\"fill:#ffdead;stroke:black;stroke-width:1.0\"/>\n<circle cx=\"690\" cy=\"320\" r=\"7.0\" style=\"fill:gray;stroke:black;stroke-width:1.0\"/>\n<circle cx=\"690\" cy=\"170\" r=\"7.0\" style=\"fill:gray;stroke:black;stroke-width:1.0\"/>\n<circle cx=\"690\" cy=\"290\" r=\"7.0\" style=\"fill:gray;stroke:black;stroke-width:1.0\"/>\n<circle cx=\"690\" cy=\"79\" r=\"7.0\" style=\"fill:gray;stroke:black;stroke-width:1.0\"/>\n<circle cx=\"690\" cy=\"260\" r=\"7.0\" style=\"fill:gray;stroke:black;stroke-width:1.0\"/>\n<circle cx=\"690\" cy=\"140\" r=\"7.0\" style=\"fill:gray;stroke:black;stroke-width:1.0\"/>\n<circle cx=\"690\" cy=\"49\" r=\"7.0\" style=\"fill:gray;stroke:black;stroke-width:1.0\"/>\n<circle cx=\"690\" cy=\"230\" r=\"7.0\" style=\"fill:gray;stroke:black;stroke-width:1.0\"/>\n<circle cx=\"690\" cy=\"110\" r=\"7.0\" style=\"fill:gray;stroke:black;stroke-width:1.0\"/>\n<circle cx=\"690\" cy=\"200\" r=\"7.0\" style=\"fill:gray;stroke:black;stroke-width:1.0\"/>\n<circle cx=\"690\" cy=\"20\" r=\"7.0\" style=\"fill:gray;stroke:black;stroke-width:1.0\"/>\n<text text-anchor=\"end\" x=\"280\" y=\"140\" font-size=\"12\">Argentina had the answer for Serbia!</text><text text-anchor=\"end\" x=\"280\" y=\"200\" font-size=\"12\">Messi Highlights</text><text text-anchor=\"end\" x=\"280\" y=\"170\" font-size=\"12\">USA v Argentina - Men's Basketball Semi-Final</text><text text-anchor=\"start\" x=\"700\" y=\"320\" font-size=\"12\">argentina</text><text text-anchor=\"start\" x=\"700\" y=\"170\" font-size=\"12\">athens 2004</text><text text-anchor=\"start\" x=\"700\" y=\"290\" font-size=\"12\">barcelona</text><text text-anchor=\"start\" x=\"700\" y=\"79\" font-size=\"12\">basketball</text><text text-anchor=\"start\" x=\"700\" y=\"260\" font-size=\"12\">messi</text><text text-anchor=\"start\" x=\"700\" y=\"140\" font-size=\"12\">replay</text><text text-anchor=\"start\" x=\"700\" y=\"49\" font-size=\"12\">serbia</text><text text-anchor=\"start\" x=\"700\" y=\"230\" font-size=\"12\">sports</text><text text-anchor=\"start\" x=\"700\" y=\"110\" font-size=\"12\">usa</text><text text-anchor=\"start\" x=\"700\" y=\"200\" font-size=\"12\">world cup</text><text text-anchor=\"start\" x=\"700\" y=\"20\" font-size=\"12\">world cup 2019</text></svg>"
          },
          "metadata": {}
        },
        {
          "output_type": "display_data",
          "data": {
            "text/plain": [
              "<IPython.core.display.SVG object>"
            ],
            "image/svg+xml": "<svg xmlns=\"http://www.w3.org/2000/svg\" width=\"542.489253850069\" height=\"340\">\n<path stroke-width=\"0.5\" stroke=\"gray\" d=\"M 241 186 390 301\"/>\n<path stroke-width=\"0.5\" stroke=\"gray\" d=\"M 420 239 331 167\"/>\n<path stroke-width=\"0.5\" stroke=\"gray\" d=\"M 420 239 305 320\"/>\n<path stroke-width=\"0.5\" stroke=\"gray\" d=\"M 39 246 241 186\"/>\n<path stroke-width=\"0.5\" stroke=\"gray\" d=\"M 39 246 211 252\"/>\n<path stroke-width=\"0.5\" stroke=\"gray\" d=\"M 39 246 156 118\"/>\n<path stroke-width=\"0.5\" stroke=\"gray\" d=\"M 39 246 20 167\"/>\n<path stroke-width=\"20.0\" stroke=\"gray\" d=\"M 331 167 241 186\"/>\n<path stroke-width=\"0.5\" stroke=\"gray\" d=\"M 331 167 390 301\"/>\n<path stroke-width=\"0.5\" stroke=\"gray\" d=\"M 331 167 229 20\"/>\n<path stroke-width=\"0.5\" stroke=\"gray\" d=\"M 331 167 211 252\"/>\n<path stroke-width=\"0.5\" stroke=\"gray\" d=\"M 331 167 335 39\"/>\n<path stroke-width=\"0.5\" stroke=\"gray\" d=\"M 331 167 420 239\"/>\n<path stroke-width=\"0.5\" stroke=\"gray\" d=\"M 331 167 305 320\"/>\n<path stroke-width=\"0.5\" stroke=\"gray\" d=\"M 420 239 211 252\"/>\n<path stroke-width=\"0.5\" stroke=\"gray\" d=\"M 331 167 156 118\"/>\n<path stroke-width=\"0.5\" stroke=\"gray\" d=\"M 305 320 390 301\"/>\n<path stroke-width=\"0.5\" stroke=\"gray\" d=\"M 305 320 211 252\"/>\n<path stroke-width=\"0.5\" stroke=\"gray\" d=\"M 305 320 420 239\"/>\n<path stroke-width=\"0.5\" stroke=\"gray\" d=\"M 305 320 331 167\"/>\n<path stroke-width=\"20.0\" stroke=\"gray\" d=\"M 156 118 241 186\"/>\n<path stroke-width=\"0.5\" stroke=\"gray\" d=\"M 156 118 229 20\"/>\n<path stroke-width=\"0.5\" stroke=\"gray\" d=\"M 156 118 211 252\"/>\n<path stroke-width=\"0.5\" stroke=\"gray\" d=\"M 156 118 335 39\"/>\n<path stroke-width=\"0.5\" stroke=\"gray\" d=\"M 156 118 39 246\"/>\n<path stroke-width=\"0.5\" stroke=\"gray\" d=\"M 156 118 331 167\"/>\n<path stroke-width=\"0.5\" stroke=\"gray\" d=\"M 156 118 20 167\"/>\n<path stroke-width=\"0.5\" stroke=\"gray\" d=\"M 20 167 241 186\"/>\n<path stroke-width=\"0.5\" stroke=\"gray\" d=\"M 20 167 211 252\"/>\n<path stroke-width=\"0.5\" stroke=\"gray\" d=\"M 305 320 241 186\"/>\n<path stroke-width=\"0.5\" stroke=\"gray\" d=\"M 420 239 390 301\"/>\n<path stroke-width=\"0.5\" stroke=\"gray\" d=\"M 420 239 241 186\"/>\n<path stroke-width=\"0.5\" stroke=\"gray\" d=\"M 335 39 156 118\"/>\n<path stroke-width=\"0.5\" stroke=\"gray\" d=\"M 241 186 229 20\"/>\n<path stroke-width=\"20.0\" stroke=\"gray\" d=\"M 241 186 211 252\"/>\n<path stroke-width=\"0.5\" stroke=\"gray\" d=\"M 241 186 335 39\"/>\n<path stroke-width=\"0.5\" stroke=\"gray\" d=\"M 241 186 420 239\"/>\n<path stroke-width=\"0.5\" stroke=\"gray\" d=\"M 241 186 39 246\"/>\n<path stroke-width=\"20.0\" stroke=\"gray\" d=\"M 241 186 331 167\"/>\n<path stroke-width=\"0.5\" stroke=\"gray\" d=\"M 241 186 305 320\"/>\n<path stroke-width=\"20.0\" stroke=\"gray\" d=\"M 241 186 156 118\"/>\n<path stroke-width=\"0.5\" stroke=\"gray\" d=\"M 241 186 20 167\"/>\n<path stroke-width=\"0.5\" stroke=\"gray\" d=\"M 390 301 241 186\"/>\n<path stroke-width=\"0.5\" stroke=\"gray\" d=\"M 390 301 211 252\"/>\n<path stroke-width=\"0.5\" stroke=\"gray\" d=\"M 390 301 420 239\"/>\n<path stroke-width=\"0.5\" stroke=\"gray\" d=\"M 390 301 331 167\"/>\n<path stroke-width=\"0.5\" stroke=\"gray\" d=\"M 390 301 305 320\"/>\n<path stroke-width=\"0.5\" stroke=\"gray\" d=\"M 229 20 241 186\"/>\n<path stroke-width=\"0.5\" stroke=\"gray\" d=\"M 229 20 335 39\"/>\n<path stroke-width=\"0.5\" stroke=\"gray\" d=\"M 229 20 331 167\"/>\n<path stroke-width=\"0.5\" stroke=\"gray\" d=\"M 229 20 156 118\"/>\n<path stroke-width=\"20.0\" stroke=\"gray\" d=\"M 211 252 241 186\"/>\n<path stroke-width=\"0.5\" stroke=\"gray\" d=\"M 211 252 390 301\"/>\n<path stroke-width=\"0.5\" stroke=\"gray\" d=\"M 211 252 420 239\"/>\n<path stroke-width=\"0.5\" stroke=\"gray\" d=\"M 211 252 39 246\"/>\n<path stroke-width=\"0.5\" stroke=\"gray\" d=\"M 211 252 331 167\"/>\n<path stroke-width=\"0.5\" stroke=\"gray\" d=\"M 211 252 305 320\"/>\n<path stroke-width=\"0.5\" stroke=\"gray\" d=\"M 211 252 156 118\"/>\n<path stroke-width=\"0.5\" stroke=\"gray\" d=\"M 211 252 20 167\"/>\n<path stroke-width=\"0.5\" stroke=\"gray\" d=\"M 335 39 241 186\"/>\n<path stroke-width=\"0.5\" stroke=\"gray\" d=\"M 335 39 229 20\"/>\n<path stroke-width=\"0.5\" stroke=\"gray\" d=\"M 335 39 331 167\"/>\n<path stroke-width=\"0.5\" stroke=\"gray\" d=\"M 20 167 39 246\"/>\n<path stroke-width=\"0.5\" stroke=\"gray\" d=\"M 20 167 156 118\"/>\n<circle cx=\"241\" cy=\"186\" r=\"7.0\" style=\"fill:gray;stroke:black;stroke-width:1.0\"/>\n<circle cx=\"390\" cy=\"301\" r=\"7.0\" style=\"fill:gray;stroke:black;stroke-width:1.0\"/>\n<circle cx=\"229\" cy=\"20\" r=\"7.0\" style=\"fill:gray;stroke:black;stroke-width:1.0\"/>\n<circle cx=\"211\" cy=\"252\" r=\"7.0\" style=\"fill:gray;stroke:black;stroke-width:1.0\"/>\n<circle cx=\"335\" cy=\"39\" r=\"7.0\" style=\"fill:gray;stroke:black;stroke-width:1.0\"/>\n<circle cx=\"420\" cy=\"239\" r=\"7.0\" style=\"fill:gray;stroke:black;stroke-width:1.0\"/>\n<circle cx=\"39\" cy=\"246\" r=\"7.0\" style=\"fill:gray;stroke:black;stroke-width:1.0\"/>\n<circle cx=\"331\" cy=\"167\" r=\"7.0\" style=\"fill:gray;stroke:black;stroke-width:1.0\"/>\n<circle cx=\"305\" cy=\"320\" r=\"7.0\" style=\"fill:gray;stroke:black;stroke-width:1.0\"/>\n<circle cx=\"156\" cy=\"118\" r=\"7.0\" style=\"fill:gray;stroke:black;stroke-width:1.0\"/>\n<circle cx=\"20\" cy=\"167\" r=\"7.0\" style=\"fill:gray;stroke:black;stroke-width:1.0\"/>\n<text text-anchor=\"start\" x=\"251\" y=\"186\" font-size=\"12\">argentina</text><text text-anchor=\"start\" x=\"400\" y=\"301\" font-size=\"12\">athens 2004</text><text text-anchor=\"start\" x=\"239\" y=\"20\" font-size=\"12\">barcelona</text><text text-anchor=\"start\" x=\"221\" y=\"252\" font-size=\"12\">basketball</text><text text-anchor=\"start\" x=\"345\" y=\"39\" font-size=\"12\">messi</text><text text-anchor=\"start\" x=\"430\" y=\"239\" font-size=\"12\">replay</text><text text-anchor=\"start\" x=\"49\" y=\"246\" font-size=\"12\">serbia</text><text text-anchor=\"start\" x=\"341\" y=\"167\" font-size=\"12\">sports</text><text text-anchor=\"start\" x=\"315\" y=\"320\" font-size=\"12\">usa</text><text text-anchor=\"start\" x=\"166\" y=\"118\" font-size=\"12\">world cup</text><text text-anchor=\"start\" x=\"30\" y=\"167\" font-size=\"12\">world cup 2019</text></svg>"
          },
          "metadata": {}
        }
      ]
    },
    {
      "cell_type": "markdown",
      "source": [
        "## Centrality Analysis"
      ],
      "metadata": {
        "id": "XCOeosvX0qCw"
      }
    },
    {
      "cell_type": "markdown",
      "source": [
        "To see if we can see popularity in the network graphs in terms of centrality, we calculate the centrality for each tag for a five month range, with the month of the popularity in the middle."
      ],
      "metadata": {
        "id": "DAb9qM_00su_"
      }
    },
    {
      "cell_type": "code",
      "source": [
        "f = open('trend_data.json')\n",
        "POPULAR_TAGS = json.load(f)"
      ],
      "metadata": {
        "id": "sLhAhbnk07L4"
      },
      "execution_count": null,
      "outputs": []
    },
    {
      "cell_type": "code",
      "source": [
        "def get_category_data(category):\n",
        "  df = pd.read_json(f\"./category_data/{category}.json\")\n",
        "  df[\"upload_date\"] = df[\"upload_date\"].progress_apply(pd.to_datetime)\n",
        "  return df"
      ],
      "metadata": {
        "id": "4FSImcPN0-Ny"
      },
      "execution_count": null,
      "outputs": []
    },
    {
      "cell_type": "code",
      "source": [
        "# load the graph for given category and date\n",
        "def get_category_date_graph(category, year, month):\n",
        "  month_str = str(month) if month>=10 else (\"0\"+str(month))\n",
        "  name = f\"{category}_{str(year)}-{month_str}-01.pkl\"\n",
        "  with open(os.path.join(f\"category_data/{category}/\",name),\"rb\") as pkl_file:\n",
        "      edges = pickle.load(pkl_file)\n",
        "\n",
        "  g = nx.Graph()\n",
        "\n",
        "  for (node1, node2), weight in edges.items():\n",
        "    g.add_edge(node1, node2, weight = weight)\n",
        "\n",
        "  return g"
      ],
      "metadata": {
        "id": "XcmTHZkmBLib"
      },
      "execution_count": null,
      "outputs": []
    },
    {
      "cell_type": "code",
      "source": [
        "# return a timeframe of 5 months\n",
        "def get_timeframe(trend_month):\n",
        "  if trend_month[1] <= 2:\n",
        "    min_month = [trend_month[0]-1, (trend_month[1] - 3) % 12 + 1]\n",
        "  else:\n",
        "    min_month = [trend_month[0], trend_month[1] - 2]\n",
        "\n",
        "  if trend_month[1] >= 10:\n",
        "    max_month = [trend_month[0]+1, (trend_month[1] + 1) % 12 + 1]\n",
        "  else:\n",
        "    max_month = [trend_month[0], trend_month[1] + 2]\n",
        "\n",
        "  date_range = pd.date_range(f'{min_month[0]}-{min_month[1]}-01',f'{max_month[0]}-{max_month[1]}-01',freq='MS')\n",
        "\n",
        "  return date_range"
      ],
      "metadata": {
        "id": "TAKWcHSEBLeX"
      },
      "execution_count": null,
      "outputs": []
    },
    {
      "cell_type": "code",
      "source": [
        "def degree_cent(g, topic=None):\n",
        "  if topic==None:\n",
        "    return nx.degree_centrality(g)\n",
        "\n",
        "  if g.has_node(topic):\n",
        "    return nx.degree_centrality(g)[topic] \n",
        "  else:\n",
        "    return 0\n",
        "\n",
        "def closeness_cent(g, topic=None):\n",
        "  if topic==None:\n",
        "    return nx.closeness_centrality(g)\n",
        "  if g.has_node(topic):\n",
        "    return nx.closeness_centrality(g, topic)\n",
        "  else:\n",
        "    return 0\n",
        "\n",
        "def eigen_cent(g, topic=None):\n",
        "  if topic==None:\n",
        "    return nx.eigenvector_centrality(g)\n",
        "  if g.has_node(topic):\n",
        "    return nx.eigenvector_centrality(g)[topic] \n",
        "  else:\n",
        "    return 0\n",
        "\n",
        "def smap(f):\n",
        "    return f()"
      ],
      "metadata": {
        "id": "8UpSR6IM1Inq"
      },
      "execution_count": null,
      "outputs": []
    },
    {
      "cell_type": "code",
      "source": [
        "def get_next_month(month):\n",
        "  next_month = month\n",
        "  next_month[1] += 1\n",
        "  if next_month[1] == 13:\n",
        "    next_month[1] = 1\n",
        "    next_month[0] += 1\n",
        "\n",
        "  if next_month[0] == 2019 and trend_month[1] > 11:\n",
        "    return -1\n",
        "  return next_month"
      ],
      "metadata": {
        "id": "IvF8ru0j1KOh"
      },
      "execution_count": null,
      "outputs": []
    },
    {
      "cell_type": "code",
      "source": [
        "month_list = list(POPULAR_TAGS[\"Sports\"].keys())"
      ],
      "metadata": {
        "id": "5i6Dnt5K1L4h"
      },
      "execution_count": null,
      "outputs": []
    },
    {
      "cell_type": "markdown",
      "source": [
        "We make this calculation for the top-3 most popular tags given the time it takes for the calculation measures of centralities."
      ],
      "metadata": {
        "id": "V279PdSJ1hp-"
      }
    },
    {
      "cell_type": "code",
      "source": [
        "LENGTH = 5\n",
        "diff = (LENGTH -1)//2\n",
        "topk = 3\n",
        "\n",
        "month_id = 0\n",
        "\n",
        "for category in POPULAR_TAGS.keys():\n",
        "\n",
        "  # keep a np array for each month, each popular tag, teach centrality measure and 5 month timeframe\n",
        "  stats_p = np.full((len(month_list) - diff*2, topk, 3, LENGTH), -1.0) \n",
        "\n",
        "  months = POPULAR_TAGS[category]\n",
        "\n",
        "  for month_id, month in enumerate(month_list):\n",
        "    trend_month = [int(month.split(\"-\")[0]), int(month.split(\"-\")[1])]\n",
        "\n",
        "    g = get_category_date_graph(category, trend_month[0], trend_month[1])\n",
        "    res = [degree_cent(g), eigen_cent(g)]\n",
        "\n",
        "    for i in range(LENGTH): \n",
        "      temp_id = month_id + i - diff\n",
        "      if temp_id<diff or temp_id>=(len(month_list)-diff):\n",
        "        continue\n",
        "      temp_month = month_list[temp_id]\n",
        "\n",
        "      for j,popular in enumerate(months[temp_month][\"popular\"][:topk]):\n",
        "        which_id = LENGTH - i - 1\n",
        "        stats_p[temp_id - diff][j][0][which_id] = res[0][popular] if popular in res[0].keys() else 0\n",
        "        stats_p[temp_id - diff][j][1][which_id] = closeness_cent(g, popular)\n",
        "        stats_p[temp_id - diff][j][2][which_id] = res[1][popular] if popular in res[1].keys() else 0\n",
        "\n",
        "\n",
        "  with open(f'eigen_calc/{category}_pop.npy', 'wb') as f:\n",
        "    np.save(f,stats_p) \n",
        "\n"
      ],
      "metadata": {
        "id": "ZonIMItv1PFb"
      },
      "execution_count": null,
      "outputs": []
    },
    {
      "cell_type": "code",
      "source": [
        "# combine statistics for each category into one\n",
        "stats_ = []\n",
        "for category in categories:\n",
        "\n",
        "  stats_p = np.load(f'eigen_calc/{category}_pop.npy')\n",
        "  stats_.append(stats_p)\n",
        "\n",
        "stats_ = np.concatenate(stats_)\n",
        "stats_ = stats_.reshape(-1,3,5)"
      ],
      "metadata": {
        "id": "Rrc0dgPv13ep"
      },
      "execution_count": null,
      "outputs": []
    },
    {
      "cell_type": "markdown",
      "source": [
        "For each month related to popularity, we find the error rate using bootstraping."
      ],
      "metadata": {
        "id": "xPspTdMH2Q_N"
      }
    },
    {
      "cell_type": "code",
      "source": [
        "intervals = [[],[],[]]\n",
        "for i in range(3):\n",
        "  for j in range(5):\n",
        "    res = bootstrap((stats_3[:,i,j],), np.mean, confidence_level=0.9,random_state=5)\n",
        "    intervals[i].append(res.standard_error*2)"
      ],
      "metadata": {
        "id": "ointr20v2KXy"
      },
      "execution_count": null,
      "outputs": []
    },
    {
      "cell_type": "code",
      "source": [
        "x = list(range(5))\n",
        "\n",
        "measure = [\"Degree Centrality\", \"Closeness Centrality\", \"Eigenvector Centrality\"]\n",
        "colors = ['b', 'g', 'r']\n",
        "\n",
        "fig, axs = plt.subplots(1, 3, figsize=(15, 5))\n",
        "fig.suptitle('Centrality Measures')\n",
        "\n",
        "for i, ax in enumerate(axs):\n",
        "  ax.errorbar(x, np.mean(stats_[:,i,:],axis = 0),yerr = intervals[i] , color = colors[i], capsize=3)\n",
        "  ax.set(xlabel=measure[i])\n",
        "\n",
        "fig.legend()\n",
        "fig.show()"
      ],
      "metadata": {
        "colab": {
          "base_uri": "https://localhost:8080/",
          "height": 389
        },
        "id": "bUwvrVN6Dnah",
        "outputId": "900e71f3-b6da-4c64-8d20-0c5ec901a5a9"
      },
      "execution_count": null,
      "outputs": [
        {
          "output_type": "stream",
          "name": "stderr",
          "text": [
            "WARNING:matplotlib.legend:No handles with labels found to put in legend.\n"
          ]
        },
        {
          "output_type": "display_data",
          "data": {
            "text/plain": [
              "<Figure size 1080x360 with 3 Axes>"
            ],
            "image/png": "[encoded data removed]"
          },
          "metadata": {
            "needs_background": "light"
          }
        }
      ]
    },
    {
      "cell_type": "markdown",
      "source": [
        "## Detect Misuse"
      ],
      "metadata": {
        "id": "gPsjGGEABGJa"
      }
    },
    {
      "cell_type": "markdown",
      "source": [
        "We now focus on detecting videos with misuse. Given that misuse is related to the video content, we assume that the title represents the content of the video and therefore we take advantage of the titles of the videos in our analysis. The first thing that comes to mind may be to check the presence of the word \"Trump\" in the title, however, this would not take us further as videos with titles not containing Trump may still be relevant, such as \"Meet Up Details / Feelings about New President!\". To tackle this problem, we first find the most related tags with the tag \"trump\", and use those as a hint of relevance.  \n",
        "We take the following approach to find relevant tags:\n",
        "-  Filter out the tags whose usage is less than 90% of the population. With this approach, we only get tags that are widely used.\n",
        "- For each tag, find the number of videos it is used. num_used\n",
        "- For each tag, find the number of videos it is used with the tag \"trump\", num_used_trump.\n",
        "- Ratio = num_used_trump / num_used * 100\n",
        "- Take the tags with length > 2 and with ratio > 0.5\n",
        "\n",
        "These relevant tags are checked in video title, if title does not include any of these words but includes the tag \"trump\", we mark it as possible misuse."
      ],
      "metadata": {
        "id": "XE014YSCljjA"
      }
    },
    {
      "cell_type": "code",
      "source": [
        "# check if lowercase row contains any of the words in tags\n",
        "def does_it_include(row, tags):\n",
        "  l_t = row.lower()\n",
        "  return 1 if any([tag in l_t for tag in tags]) else 0"
      ],
      "metadata": {
        "id": "snOqLeCkBLYA"
      },
      "execution_count": null,
      "outputs": []
    },
    {
      "cell_type": "code",
      "source": [
        "# For a given category and month, returns all the tags in a dictionary where values are the number of videos that tag is used.\n",
        "def get_num_used(category, year, month):\n",
        "  try:\n",
        "\n",
        "    data_used = dict()\n",
        "\n",
        "    df = pd.read_json(f\"category_data/{category}_with_id_title.json\")\n",
        "    df[\"upload_date\"] = pd.to_datetime(df[\"upload_date\"])\n",
        "    df = df[(df[\"upload_date\"].dt.year == year) &(df[\"upload_date\"].dt.month == month)]\n",
        "\n",
        "    for i,row in df.iterrows():\n",
        "      for tag in row.tags:\n",
        "        data_used[tag] = data_used.get(tag,0) +1\n",
        "    \n",
        "  except:\n",
        "\n",
        "    data_used = dict()\n",
        "\n",
        "    df_json = pd.read_json(f\"category_data/{category}_with_id_title_1.json\")\n",
        "    df_json[\"upload_date\"] = pd.to_datetime(df_json[\"upload_date\"])\n",
        "    df_json = df_json[df_json[\"upload_date\"].isin(date_range)]\n",
        "\n",
        "    for i,row in df_json.iterrows():\n",
        "      for tag in row.tags:\n",
        "        data_used[tag] = data_used.get(tag,0) +1\n",
        "\n",
        "    del df_json\n",
        "\n",
        "    df_json = pd.read_json(f\"category_data/{category}_with_id_title_2.json\")\n",
        "    df_json[\"upload_date\"] = pd.to_datetime(df_json[\"upload_date\"])\n",
        "    df_json = df_json[df_json[\"upload_date\"].isin(date_range)]\n",
        "    \n",
        "    for i,row in df_json.iterrows():\n",
        "      for tag in row.tags:\n",
        "        data_used[tag] = data_used.get(tag,0) +1\n",
        "\n",
        "    del df_json\n",
        "\n",
        "  \n",
        "\n",
        "  return data_used\n",
        "  "
      ],
      "metadata": {
        "id": "9xYRTuJ6BTPL"
      },
      "execution_count": null,
      "outputs": []
    },
    {
      "cell_type": "code",
      "source": [
        "# for a given network g, tag usage dictionary from get_num_used() and tag, returns the list of related tags\n",
        "def get_related_tags(g, data_used, tag):\n",
        "\n",
        "  degrees = g.degree(weight = \"weight\")\n",
        "  threshold = np.percentile(list(dict(degrees).values()), 90)\n",
        "\n",
        "  df = []\n",
        "\n",
        "  ent_a_count = degrees[tag]\n",
        "\n",
        "  for _,node1, weight in g.edges(tag, data=\"weight\"):\n",
        "\n",
        "    if degrees[node1] < threshold:\n",
        "      continue\n",
        "\n",
        "    data_dict = dict()\n",
        "\n",
        "    data_dict[\"pmi\"] = weight / (data_used[tag]) * 100\n",
        "    data_dict[\"ent_b\"] = node1\n",
        "\n",
        "    df.append(data_dict)\n",
        "  \n",
        "  df = pd.DataFrame(df).sort_values(by=['pmi'],ascending=False)\n",
        "\n",
        "  if len(df)==0:\n",
        "    return [tag]\n",
        "\n",
        "  return list(df[df[\"pmi\"] > 0.5][\"ent_b\"]) + [tag] , df\n"
      ],
      "metadata": {
        "id": "5jEqlBFIBQoK"
      },
      "execution_count": null,
      "outputs": []
    },
    {
      "cell_type": "code",
      "source": [
        "# For \"category\", in a \"date_range\", finds all videos that contain the \"tag\" in their tags\n",
        "# For each these videos finds whether their titles include any of the words in \"related_tags\" and returns a dictionary containing these values\n",
        "def get_misuse_titles(category, tag, related_tags, date_range):\n",
        "\n",
        "  try:\n",
        "    df = pd.read_json(f\"category_data/{category}_with_id_title.json\")\n",
        "    df[\"upload_date\"] = pd.to_datetime(df[\"upload_date\"])\n",
        "    df = df[df[\"upload_date\"].isin(date_range)]\n",
        "    df = df[df.tags.apply(lambda x: (tag in x))]\n",
        "    \n",
        "  except:\n",
        "\n",
        "    df = []\n",
        "\n",
        "    df_json = pd.read_json(f\"category_data/{category}_with_id_title_1.json\")\n",
        "    df_json[\"upload_date\"] = pd.to_datetime(df_json[\"upload_date\"])\n",
        "    df_json = df_json[df_json[\"upload_date\"].isin(date_range)]\n",
        "    df_json = df_json[df_json.tags.apply(lambda x: (tag in x))]\n",
        "    df.append(df_json.copy())\n",
        "\n",
        "    del df_json\n",
        "\n",
        "    df_json = pd.read_json(f\"category_data/{category}_with_id_title_2.json\")\n",
        "    df_json[\"upload_date\"] = pd.to_datetime(df_json[\"upload_date\"])\n",
        "    df_json = df_json[df_json[\"upload_date\"].isin(date_range)]\n",
        "    df_json = df_json[df_json.tags.apply(lambda x: (tag in x))]\n",
        "    df.append(df_json.copy())\n",
        "\n",
        "    del df_json\n",
        "\n",
        "    df = pd.concat(df)\n",
        "\n",
        "\n",
        "  df[\"title_inc\"] = df.title.apply(does_it_include, tags=related_tags)\n",
        "\n",
        "\n",
        "  return df\n",
        "  "
      ],
      "metadata": {
        "id": "WOH7gtYBBXcr"
      },
      "execution_count": null,
      "outputs": []
    },
    {
      "cell_type": "code",
      "source": [
        "POPULAR_TAGS = [ (\"News & Politics\", \"trump\", 2016,11 )]"
      ],
      "metadata": {
        "id": "XI02RABwBe4w"
      },
      "execution_count": null,
      "outputs": []
    },
    {
      "cell_type": "code",
      "source": [
        "# Load the related data\n",
        "category, tag, year, month = POPULAR_TAGS[0]\n",
        "date_range = get_timeframe([year, month])\n",
        "data_used = get_num_used(category, year, month)\n",
        "g = get_category_date_graph(category, year, month)"
      ],
      "metadata": {
        "id": "Yu0vwxQUBgUG"
      },
      "execution_count": null,
      "outputs": []
    },
    {
      "cell_type": "code",
      "source": [
        "# find related tags, eliminate tags with length smaller than 3\n",
        "related_tags, pmi_df = get_related_tags(g, data_used, tag) \n",
        "related_tags = [x for x in related_tags if ( len(x)>2)]"
      ],
      "metadata": {
        "id": "0i98TeuPBgLc"
      },
      "execution_count": null,
      "outputs": []
    },
    {
      "cell_type": "code",
      "source": [
        "# Create a dataframe with the related tags and their ratio for visualization purposes\n",
        "df_temp = []\n",
        "for tag in related_tags:\n",
        "  if tag == \"trump\":\n",
        "    continue\n",
        "  data = dict()\n",
        "  data[\"Tag\"] = tag\n",
        "  data[\"Ratio\"] = np.round(pmi_df[pmi_df[\"ent_b\"] == tag].iloc[0].pmi,3)\n",
        "  df_temp.append(data)\n",
        "df_temp = pd.DataFrame(df_temp)\n",
        "df_temp = df_temp.sort_values(\"Ratio\",ascending=False)"
      ],
      "metadata": {
        "id": "fO2XnHdVCVSk"
      },
      "execution_count": null,
      "outputs": []
    },
    {
      "cell_type": "markdown",
      "source": [
        "We use [plotly](https://plotly.com/) for interactive plots."
      ],
      "metadata": {
        "id": "Ea4p6PD_nh23"
      }
    },
    {
      "cell_type": "code",
      "source": [
        "fig = go.Figure(data=[go.Table(\n",
        "    header=dict(values=list(df_temp.columns),\n",
        "                fill_color='paleturquoise',\n",
        "                align='left'),\n",
        "    cells=dict(values=[df_temp.Tag, df_temp.Ratio],\n",
        "               fill_color='lavender',\n",
        "               align='left'))\n",
        "])\n",
        "\n",
        "fig.show()"
      ],
      "metadata": {
        "colab": {
          "base_uri": "https://localhost:8080/",
          "height": 542
        },
        "id": "Py2aIopg_DZp",
        "outputId": "db6e7ed0-11c1-4da5-d032-ce11cec34d7f"
      },
      "execution_count": null,
      "outputs": [
        {
          "output_type": "display_data",
          "data": {
            "text/html": [
              "<html>\n",
              "<head><meta charset=\"utf-8\" /></head>\n",
              "<body>\n",
              "    <div>            <script src=\"https://cdnjs.cloudflare.com/ajax/libs/mathjax/2.7.5/MathJax.js?config=TeX-AMS-MML_SVG\"></script><script type=\"text/javascript\">if (window.MathJax) {MathJax.Hub.Config({SVG: {font: \"STIX-Web\"}});}</script>                <script type=\"text/javascript\">window.PlotlyConfig = {MathJaxConfig: 'local'};</script>\n",
              "        <script src=\"https://cdn.plot.ly/plotly-2.8.3.min.js\"></script>                <div id=\"754a5e40-3034-4323-8c88-c2f36c9583c9\" class=\"plotly-graph-div\" style=\"height:525px; width:100%;\"></div>            <script type=\"text/javascript\">                                    window.PLOTLYENV=window.PLOTLYENV || {};                                    if (document.getElementById(\"754a5e40-3034-4323-8c88-c2f36c9583c9\")) {                    Plotly.newPlot(                        \"754a5e40-3034-4323-8c88-c2f36c9583c9\",                        [{\"cells\":{\"align\":\"left\",\"fill\":{\"color\":\"lavender\"},\"values\":[[\"donald trump\",\"news\",\"clinton\",\"politics\",\"hillary clinton\",\"election\",\"hillary\",\"donald\",\"president\",\"obama\",\"republican\",\"election 2016\",\"video\",\"campaign\",\"liberal\",\"gop\",\"america\",\"progressive\",\"democrat\",\"white house\",\"democrats\",\"republicans\",\"fbi\",\"president trump\",\"elections\",\"usa\",\"speech\",\"vote\",\"media\",\"conservative\",\"cbsn\",\"live video\",\"live streaming\",\"united states\",\"business\",\"emails\",\"local news\",\"bernie sanders\",\"pence\",\"breaking news\",\"presidential\",\"cnn\",\"world news\",\"mike pence\",\"cbs\",\"finance\",\"sanders\",\"russia\",\"latest news\",\"2016 election\",\"us election\",\"bill clinton\",\"paul ryan\",\"political\",\"government\",\"msnbc\",\"news today\",\"coverage\",\"libertarian\",\"headlines\",\"current affairs\",\"investigation\",\"associated press\",\"putin\",\"fiorina\",\"cruz\",\"democratic party\",\"associated press style\",\"presidential elections\",\"election day\",\"presidential election\",\"barack obama\",\"top news\",\"tyt\",\"ap online\",\"the young turks\",\"private server\",\"analysis\",\"congress\",\"voting\",\"wikileaks\",\"clinton private email\",\"government and politics\",\"youtube\",\"trt\",\"trt world\",\"trt news\",\"democratic\",\"economy\",\"states\",\"newsmaxtv\",\"senate\",\"independent\",\"protest\",\"new media\",\"newsmax media\",\"live tv\",\"newsmaxtv.com\",\"president-elect\",\"newsmax.com\",\"distributable\",\"reports\",\"trump 2016\",\"entertainment\",\"united\",\"mainstream media\",\"national elections\",\"north america\",\"vice president\",\"commentary\",\"immigration\",\"nbc\",\"bible\",\"radio\",\"tyt network\",\"victory\",\"racism\",\"fox\",\"new york\",\"antichrist\",\"syria\",\"abc\",\"prophecy\",\"trump wins\",\"cenk uygur\",\"666\",\"protests\",\"president elect trump\",\"nwo\",\"talk\",\"house of representatives\",\"television\",\"comey\",\"transition\",\"mike\",\"president elect\",\"polls\",\"interview\",\"thom hartmann program\",\"thom hartmann\",\"tom hartman\",\"china\",\"war\",\"world\",\"times\",\"rudy giuliani\",\"god\",\"elect\",\"pacifica\",\"tdps\",\"abc news\",\"united states presidential election\",\"email\",\"november\",\"reince priebus\",\"us elections\",\"florida\",\"gold\",\"obamacare\",\"national\",\"fox news\",\"california\",\"truth\",\"current events\",\"end times\",\"make america great again\",\"isis\",\"newt gingrich\",\"cabinet\",\"trump speech\",\"abc action news\",\"administration\",\"debate\",\"immigrants\",\"breaking\",\"dollar\"],[13.704,10.544,8.961,7.918,7.202,7.194,6.637,5.817,5.228,4.902,4.059,3.78,3.414,3.318,3.008,2.873,2.833,2.809,2.507,2.443,2.348,2.308,2.276,2.196,2.188,2.109,2.069,2.045,2.005,1.989,1.974,1.966,1.966,1.854,1.854,1.854,1.806,1.775,1.767,1.679,1.647,1.504,1.488,1.456,1.448,1.409,1.369,1.361,1.337,1.329,1.305,1.257,1.257,1.233,1.21,1.202,1.194,1.162,1.162,1.146,1.146,1.138,1.138,1.114,1.106,1.106,1.09,1.09,1.074,1.066,1.066,1.066,1.066,1.05,1.05,1.035,1.035,1.027,1.019,1.019,0.995,0.995,0.963,0.963,0.947,0.947,0.947,0.931,0.923,0.923,0.915,0.915,0.915,0.907,0.907,0.907,0.907,0.899,0.899,0.899,0.899,0.883,0.852,0.844,0.836,0.836,0.836,0.828,0.828,0.812,0.812,0.78,0.756,0.756,0.74,0.724,0.724,0.708,0.7,0.7,0.7,0.684,0.684,0.684,0.676,0.676,0.668,0.668,0.661,0.661,0.653,0.645,0.645,0.637,0.637,0.629,0.629,0.629,0.613,0.613,0.613,0.613,0.605,0.605,0.597,0.589,0.589,0.581,0.581,0.573,0.565,0.557,0.557,0.557,0.549,0.541,0.541,0.541,0.533,0.533,0.533,0.525,0.525,0.525,0.525,0.517,0.517,0.517,0.517,0.509,0.509,0.509,0.501,0.501,0.501,0.501]]},\"header\":{\"align\":\"left\",\"fill\":{\"color\":\"paleturquoise\"},\"values\":[\"Tag\",\"Ratio\"]},\"type\":\"table\"}],                        {\"template\":{\"data\":{\"bar\":[{\"error_x\":{\"color\":\"#2a3f5f\"},\"error_y\":{\"color\":\"#2a3f5f\"},\"marker\":{\"line\":{\"color\":\"#E5ECF6\",\"width\":0.5},\"pattern\":{\"fillmode\":\"overlay\",\"size\":10,\"solidity\":0.2}},\"type\":\"bar\"}],\"barpolar\":[{\"marker\":{\"line\":{\"color\":\"#E5ECF6\",\"width\":0.5},\"pattern\":{\"fillmode\":\"overlay\",\"size\":10,\"solidity\":0.2}},\"type\":\"barpolar\"}],\"carpet\":[{\"aaxis\":{\"endlinecolor\":\"#2a3f5f\",\"gridcolor\":\"white\",\"linecolor\":\"white\",\"minorgridcolor\":\"white\",\"startlinecolor\":\"#2a3f5f\"},\"baxis\":{\"endlinecolor\":\"#2a3f5f\",\"gridcolor\":\"white\",\"linecolor\":\"white\",\"minorgridcolor\":\"white\",\"startlinecolor\":\"#2a3f5f\"},\"type\":\"carpet\"}],\"choropleth\":[{\"colorbar\":{\"outlinewidth\":0,\"ticks\":\"\"},\"type\":\"choropleth\"}],\"contour\":[{\"colorbar\":{\"outlinewidth\":0,\"ticks\":\"\"},\"colorscale\":[[0.0,\"#0d0887\"],[0.1111111111111111,\"#46039f\"],[0.2222222222222222,\"#7201a8\"],[0.3333333333333333,\"#9c179e\"],[0.4444444444444444,\"#bd3786\"],[0.5555555555555556,\"#d8576b\"],[0.6666666666666666,\"#ed7953\"],[0.7777777777777778,\"#fb9f3a\"],[0.8888888888888888,\"#fdca26\"],[1.0,\"#f0f921\"]],\"type\":\"contour\"}],\"contourcarpet\":[{\"colorbar\":{\"outlinewidth\":0,\"ticks\":\"\"},\"type\":\"contourcarpet\"}],\"heatmap\":[{\"colorbar\":{\"outlinewidth\":0,\"ticks\":\"\"},\"colorscale\":[[0.0,\"#0d0887\"],[0.1111111111111111,\"#46039f\"],[0.2222222222222222,\"#7201a8\"],[0.3333333333333333,\"#9c179e\"],[0.4444444444444444,\"#bd3786\"],[0.5555555555555556,\"#d8576b\"],[0.6666666666666666,\"#ed7953\"],[0.7777777777777778,\"#fb9f3a\"],[0.8888888888888888,\"#fdca26\"],[1.0,\"#f0f921\"]],\"type\":\"heatmap\"}],\"heatmapgl\":[{\"colorbar\":{\"outlinewidth\":0,\"ticks\":\"\"},\"colorscale\":[[0.0,\"#0d0887\"],[0.1111111111111111,\"#46039f\"],[0.2222222222222222,\"#7201a8\"],[0.3333333333333333,\"#9c179e\"],[0.4444444444444444,\"#bd3786\"],[0.5555555555555556,\"#d8576b\"],[0.6666666666666666,\"#ed7953\"],[0.7777777777777778,\"#fb9f3a\"],[0.8888888888888888,\"#fdca26\"],[1.0,\"#f0f921\"]],\"type\":\"heatmapgl\"}],\"histogram\":[{\"marker\":{\"pattern\":{\"fillmode\":\"overlay\",\"size\":10,\"solidity\":0.2}},\"type\":\"histogram\"}],\"histogram2d\":[{\"colorbar\":{\"outlinewidth\":0,\"ticks\":\"\"},\"colorscale\":[[0.0,\"#0d0887\"],[0.1111111111111111,\"#46039f\"],[0.2222222222222222,\"#7201a8\"],[0.3333333333333333,\"#9c179e\"],[0.4444444444444444,\"#bd3786\"],[0.5555555555555556,\"#d8576b\"],[0.6666666666666666,\"#ed7953\"],[0.7777777777777778,\"#fb9f3a\"],[0.8888888888888888,\"#fdca26\"],[1.0,\"#f0f921\"]],\"type\":\"histogram2d\"}],\"histogram2dcontour\":[{\"colorbar\":{\"outlinewidth\":0,\"ticks\":\"\"},\"colorscale\":[[0.0,\"#0d0887\"],[0.1111111111111111,\"#46039f\"],[0.2222222222222222,\"#7201a8\"],[0.3333333333333333,\"#9c179e\"],[0.4444444444444444,\"#bd3786\"],[0.5555555555555556,\"#d8576b\"],[0.6666666666666666,\"#ed7953\"],[0.7777777777777778,\"#fb9f3a\"],[0.8888888888888888,\"#fdca26\"],[1.0,\"#f0f921\"]],\"type\":\"histogram2dcontour\"}],\"mesh3d\":[{\"colorbar\":{\"outlinewidth\":0,\"ticks\":\"\"},\"type\":\"mesh3d\"}],\"parcoords\":[{\"line\":{\"colorbar\":{\"outlinewidth\":0,\"ticks\":\"\"}},\"type\":\"parcoords\"}],\"pie\":[{\"automargin\":true,\"type\":\"pie\"}],\"scatter\":[{\"marker\":{\"colorbar\":{\"outlinewidth\":0,\"ticks\":\"\"}},\"type\":\"scatter\"}],\"scatter3d\":[{\"line\":{\"colorbar\":{\"outlinewidth\":0,\"ticks\":\"\"}},\"marker\":{\"colorbar\":{\"outlinewidth\":0,\"ticks\":\"\"}},\"type\":\"scatter3d\"}],\"scattercarpet\":[{\"marker\":{\"colorbar\":{\"outlinewidth\":0,\"ticks\":\"\"}},\"type\":\"scattercarpet\"}],\"scattergeo\":[{\"marker\":{\"colorbar\":{\"outlinewidth\":0,\"ticks\":\"\"}},\"type\":\"scattergeo\"}],\"scattergl\":[{\"marker\":{\"colorbar\":{\"outlinewidth\":0,\"ticks\":\"\"}},\"type\":\"scattergl\"}],\"scattermapbox\":[{\"marker\":{\"colorbar\":{\"outlinewidth\":0,\"ticks\":\"\"}},\"type\":\"scattermapbox\"}],\"scatterpolar\":[{\"marker\":{\"colorbar\":{\"outlinewidth\":0,\"ticks\":\"\"}},\"type\":\"scatterpolar\"}],\"scatterpolargl\":[{\"marker\":{\"colorbar\":{\"outlinewidth\":0,\"ticks\":\"\"}},\"type\":\"scatterpolargl\"}],\"scatterternary\":[{\"marker\":{\"colorbar\":{\"outlinewidth\":0,\"ticks\":\"\"}},\"type\":\"scatterternary\"}],\"surface\":[{\"colorbar\":{\"outlinewidth\":0,\"ticks\":\"\"},\"colorscale\":[[0.0,\"#0d0887\"],[0.1111111111111111,\"#46039f\"],[0.2222222222222222,\"#7201a8\"],[0.3333333333333333,\"#9c179e\"],[0.4444444444444444,\"#bd3786\"],[0.5555555555555556,\"#d8576b\"],[0.6666666666666666,\"#ed7953\"],[0.7777777777777778,\"#fb9f3a\"],[0.8888888888888888,\"#fdca26\"],[1.0,\"#f0f921\"]],\"type\":\"surface\"}],\"table\":[{\"cells\":{\"fill\":{\"color\":\"#EBF0F8\"},\"line\":{\"color\":\"white\"}},\"header\":{\"fill\":{\"color\":\"#C8D4E3\"},\"line\":{\"color\":\"white\"}},\"type\":\"table\"}]},\"layout\":{\"annotationdefaults\":{\"arrowcolor\":\"#2a3f5f\",\"arrowhead\":0,\"arrowwidth\":1},\"autotypenumbers\":\"strict\",\"coloraxis\":{\"colorbar\":{\"outlinewidth\":0,\"ticks\":\"\"}},\"colorscale\":{\"diverging\":[[0,\"#8e0152\"],[0.1,\"#c51b7d\"],[0.2,\"#de77ae\"],[0.3,\"#f1b6da\"],[0.4,\"#fde0ef\"],[0.5,\"#f7f7f7\"],[0.6,\"#e6f5d0\"],[0.7,\"#b8e186\"],[0.8,\"#7fbc41\"],[0.9,\"#4d9221\"],[1,\"#276419\"]],\"sequential\":[[0.0,\"#0d0887\"],[0.1111111111111111,\"#46039f\"],[0.2222222222222222,\"#7201a8\"],[0.3333333333333333,\"#9c179e\"],[0.4444444444444444,\"#bd3786\"],[0.5555555555555556,\"#d8576b\"],[0.6666666666666666,\"#ed7953\"],[0.7777777777777778,\"#fb9f3a\"],[0.8888888888888888,\"#fdca26\"],[1.0,\"#f0f921\"]],\"sequentialminus\":[[0.0,\"#0d0887\"],[0.1111111111111111,\"#46039f\"],[0.2222222222222222,\"#7201a8\"],[0.3333333333333333,\"#9c179e\"],[0.4444444444444444,\"#bd3786\"],[0.5555555555555556,\"#d8576b\"],[0.6666666666666666,\"#ed7953\"],[0.7777777777777778,\"#fb9f3a\"],[0.8888888888888888,\"#fdca26\"],[1.0,\"#f0f921\"]]},\"colorway\":[\"#636efa\",\"#EF553B\",\"#00cc96\",\"#ab63fa\",\"#FFA15A\",\"#19d3f3\",\"#FF6692\",\"#B6E880\",\"#FF97FF\",\"#FECB52\"],\"font\":{\"color\":\"#2a3f5f\"},\"geo\":{\"bgcolor\":\"white\",\"lakecolor\":\"white\",\"landcolor\":\"#E5ECF6\",\"showlakes\":true,\"showland\":true,\"subunitcolor\":\"white\"},\"hoverlabel\":{\"align\":\"left\"},\"hovermode\":\"closest\",\"mapbox\":{\"style\":\"light\"},\"paper_bgcolor\":\"white\",\"plot_bgcolor\":\"#E5ECF6\",\"polar\":{\"angularaxis\":{\"gridcolor\":\"white\",\"linecolor\":\"white\",\"ticks\":\"\"},\"bgcolor\":\"#E5ECF6\",\"radialaxis\":{\"gridcolor\":\"white\",\"linecolor\":\"white\",\"ticks\":\"\"}},\"scene\":{\"xaxis\":{\"backgroundcolor\":\"#E5ECF6\",\"gridcolor\":\"white\",\"gridwidth\":2,\"linecolor\":\"white\",\"showbackground\":true,\"ticks\":\"\",\"zerolinecolor\":\"white\"},\"yaxis\":{\"backgroundcolor\":\"#E5ECF6\",\"gridcolor\":\"white\",\"gridwidth\":2,\"linecolor\":\"white\",\"showbackground\":true,\"ticks\":\"\",\"zerolinecolor\":\"white\"},\"zaxis\":{\"backgroundcolor\":\"#E5ECF6\",\"gridcolor\":\"white\",\"gridwidth\":2,\"linecolor\":\"white\",\"showbackground\":true,\"ticks\":\"\",\"zerolinecolor\":\"white\"}},\"shapedefaults\":{\"line\":{\"color\":\"#2a3f5f\"}},\"ternary\":{\"aaxis\":{\"gridcolor\":\"white\",\"linecolor\":\"white\",\"ticks\":\"\"},\"baxis\":{\"gridcolor\":\"white\",\"linecolor\":\"white\",\"ticks\":\"\"},\"bgcolor\":\"#E5ECF6\",\"caxis\":{\"gridcolor\":\"white\",\"linecolor\":\"white\",\"ticks\":\"\"}},\"title\":{\"x\":0.05},\"xaxis\":{\"automargin\":true,\"gridcolor\":\"white\",\"linecolor\":\"white\",\"ticks\":\"\",\"title\":{\"standoff\":15},\"zerolinecolor\":\"white\",\"zerolinewidth\":2},\"yaxis\":{\"automargin\":true,\"gridcolor\":\"white\",\"linecolor\":\"white\",\"ticks\":\"\",\"title\":{\"standoff\":15},\"zerolinecolor\":\"white\",\"zerolinewidth\":2}}}},                        {\"responsive\": true}                    ).then(function(){\n",
              "                            \n",
              "var gd = document.getElementById('754a5e40-3034-4323-8c88-c2f36c9583c9');\n",
              "var x = new MutationObserver(function (mutations, observer) {{\n",
              "        var display = window.getComputedStyle(gd).display;\n",
              "        if (!display || display === 'none') {{\n",
              "            console.log([gd, 'removed!']);\n",
              "            Plotly.purge(gd);\n",
              "            observer.disconnect();\n",
              "        }}\n",
              "}});\n",
              "\n",
              "// Listen for the removal of the full notebook cells\n",
              "var notebookContainer = gd.closest('#notebook-container');\n",
              "if (notebookContainer) {{\n",
              "    x.observe(notebookContainer, {childList: true});\n",
              "}}\n",
              "\n",
              "// Listen for the clearing of the current output cell\n",
              "var outputEl = gd.closest('.output');\n",
              "if (outputEl) {{\n",
              "    x.observe(outputEl, {childList: true});\n",
              "}}\n",
              "\n",
              "                        })                };                            </script>        </div>\n",
              "</body>\n",
              "</html>"
            ]
          },
          "metadata": {}
        }
      ]
    },
    {
      "cell_type": "markdown",
      "source": [
        "To detect misuse, we find the videos that has the tag \"trump\" from other categories."
      ],
      "metadata": {
        "id": "x2gqs9JbnrbS"
      }
    },
    {
      "cell_type": "code",
      "source": [
        "other_cats = []\n",
        "for i,category_2 in enumerate(categories):\n",
        "    \n",
        "    if category_2 == category:\n",
        "      continue\n",
        "\n",
        "    temp = get_misuse_titles(category_2, tag, related_tags, date_range)\n",
        "    temp[\"category\"] = category_2\n",
        "    other_cats.append(temp)\n",
        "other_cats_df = pd.concat(other_cats)"
      ],
      "metadata": {
        "id": "2arxka83Bj4j"
      },
      "execution_count": null,
      "outputs": []
    },
    {
      "cell_type": "code",
      "source": [
        "#indicator whether the title has the tag \"trump\"\n",
        "other_cats_df[\"title_inc_trump\"] = other_cats_df.title.apply(does_it_include, tags=[\"trump\"])"
      ],
      "metadata": {
        "id": "xZf3yhXTBqSj"
      },
      "execution_count": null,
      "outputs": []
    },
    {
      "cell_type": "code",
      "source": [
        "# possible misuse cases\n",
        "other_cats_df_misuse = other_cats_df[(other_cats_df[\"title_inc\"]==0)]"
      ],
      "metadata": {
        "id": "AHgMK75bBwb2"
      },
      "execution_count": null,
      "outputs": []
    },
    {
      "cell_type": "markdown",
      "source": [
        "We sample around 20% of each category and label them manually.\n",
        "Our labelling results can be found [here.](https://docs.google.com/spreadsheets/d/1cK55fl4xL9sktpDxsKsMGiQ0cb6Nw_bDg4K7s_CbfGE/edit?usp=sharing)"
      ],
      "metadata": {
        "id": "kXUx1RH0oQWz"
      }
    },
    {
      "cell_type": "code",
      "source": [
        "other_cats_df_misuse.groupby('category').sample(frac = 0.2).to_csv(\"Other Categories_Possible Misuse.csv\")"
      ],
      "metadata": {
        "id": "Z9PghOuxBvHg"
      },
      "execution_count": null,
      "outputs": []
    },
    {
      "cell_type": "code",
      "source": [
        "import plotly.express as px\n",
        "data = dict(\n",
        "    types=[\"With Tag Trump\", \"Related Tags in Title\", \"Related Tags not in Title\",  \"Trump in Title\", \"Trump not in Title\"],\n",
        "    parent=[\"\", \"With Tag Trump\", \"With Tag Trump\", \"Related Tags in Title\" , \"Related Tags in Title\"],\n",
        "    example=[\"'THE FED TO HOLD THE HANDS OF ALL U.S. BANKS'\", \"'Dear Electoral College'\", \"'TYRANNY Gameplay #02 ARCHONS - Let's Play'\", \"'EPIC Reactions to Trump Winning US Presidential Election'\",\"Tackle-Buster Gator Bluefish!\"],\n",
        "    value=[len(other_cats_df), \n",
        "           len(other_cats_df[other_cats_df[\"title_inc\"] == 1]), \n",
        "           len(other_cats_df[other_cats_df[\"title_inc\"] == 0]), \n",
        "           len(other_cats_df[(other_cats_df[\"title_inc\"] == 1) & (other_cats_df[\"title_inc_trump\"] == 1)]),\n",
        "           len(other_cats_df[(other_cats_df[\"title_inc\"] == 1) & (other_cats_df[\"title_inc_trump\"] == 0)])\n",
        "           ])\n",
        "\n",
        "fig = px.sunburst(\n",
        "    data,\n",
        "    names='types',\n",
        "    parents='parent',\n",
        "    values='value',\n",
        "    branchvalues=\"total\",\n",
        "    hover_data={\"example\":True},\n",
        "    \n",
        ")\n",
        "\n",
        "fig.show()"
      ],
      "metadata": {
        "colab": {
          "base_uri": "https://localhost:8080/",
          "height": 542
        },
        "id": "XREznNnJ6brE",
        "outputId": "7c2227e5-deaa-4583-f818-827201e23c28"
      },
      "execution_count": null,
      "outputs": [
        {
          "output_type": "display_data",
          "data": {
            "text/html": [
              "<html>\n",
              "<head><meta charset=\"utf-8\" /></head>\n",
              "<body>\n",
              "    <div>            <script src=\"https://cdnjs.cloudflare.com/ajax/libs/mathjax/2.7.5/MathJax.js?config=TeX-AMS-MML_SVG\"></script><script type=\"text/javascript\">if (window.MathJax) {MathJax.Hub.Config({SVG: {font: \"STIX-Web\"}});}</script>                <script type=\"text/javascript\">window.PlotlyConfig = {MathJaxConfig: 'local'};</script>\n",
              "        <script src=\"https://cdn.plot.ly/plotly-2.8.3.min.js\"></script>                <div id=\"a3c518fc-ce55-483c-964f-00a5746690c3\" class=\"plotly-graph-div\" style=\"height:525px; width:100%;\"></div>            <script type=\"text/javascript\">                                    window.PLOTLYENV=window.PLOTLYENV || {};                                    if (document.getElementById(\"a3c518fc-ce55-483c-964f-00a5746690c3\")) {                    Plotly.newPlot(                        \"a3c518fc-ce55-483c-964f-00a5746690c3\",                        [{\"branchvalues\":\"total\",\"customdata\":[[\"'THE FED TO HOLD THE HANDS OF ALL U.S. BANKS'\"],[\"'Dear Electoral College'\"],[\"'TYRANNY Gameplay #02 ARCHONS - Let's Play'\"],[\"'EPIC Reactions to Trump Winning US Presidential Election'\"],[\"Tackle-Buster Gator Bluefish!\"]],\"domain\":{\"x\":[0.0,1.0],\"y\":[0.0,1.0]},\"hovertemplate\":\"types=%{label}<br>value=%{value}<br>parent=%{parent}<br>example=%{customdata[0]}<extra></extra>\",\"labels\":[\"With Tag Trump\",\"Related Tags in Title\",\"Related Tags not in Title\",\"Trump in Title\",\"Trump not in Title\"],\"name\":\"\",\"parents\":[\"\",\"With Tag Trump\",\"With Tag Trump\",\"Related Tags in Title\",\"Related Tags in Title\"],\"values\":[13312,8627,4685,4278,4349],\"type\":\"sunburst\"}],                        {\"template\":{\"data\":{\"bar\":[{\"error_x\":{\"color\":\"#2a3f5f\"},\"error_y\":{\"color\":\"#2a3f5f\"},\"marker\":{\"line\":{\"color\":\"#E5ECF6\",\"width\":0.5},\"pattern\":{\"fillmode\":\"overlay\",\"size\":10,\"solidity\":0.2}},\"type\":\"bar\"}],\"barpolar\":[{\"marker\":{\"line\":{\"color\":\"#E5ECF6\",\"width\":0.5},\"pattern\":{\"fillmode\":\"overlay\",\"size\":10,\"solidity\":0.2}},\"type\":\"barpolar\"}],\"carpet\":[{\"aaxis\":{\"endlinecolor\":\"#2a3f5f\",\"gridcolor\":\"white\",\"linecolor\":\"white\",\"minorgridcolor\":\"white\",\"startlinecolor\":\"#2a3f5f\"},\"baxis\":{\"endlinecolor\":\"#2a3f5f\",\"gridcolor\":\"white\",\"linecolor\":\"white\",\"minorgridcolor\":\"white\",\"startlinecolor\":\"#2a3f5f\"},\"type\":\"carpet\"}],\"choropleth\":[{\"colorbar\":{\"outlinewidth\":0,\"ticks\":\"\"},\"type\":\"choropleth\"}],\"contour\":[{\"colorbar\":{\"outlinewidth\":0,\"ticks\":\"\"},\"colorscale\":[[0.0,\"#0d0887\"],[0.1111111111111111,\"#46039f\"],[0.2222222222222222,\"#7201a8\"],[0.3333333333333333,\"#9c179e\"],[0.4444444444444444,\"#bd3786\"],[0.5555555555555556,\"#d8576b\"],[0.6666666666666666,\"#ed7953\"],[0.7777777777777778,\"#fb9f3a\"],[0.8888888888888888,\"#fdca26\"],[1.0,\"#f0f921\"]],\"type\":\"contour\"}],\"contourcarpet\":[{\"colorbar\":{\"outlinewidth\":0,\"ticks\":\"\"},\"type\":\"contourcarpet\"}],\"heatmap\":[{\"colorbar\":{\"outlinewidth\":0,\"ticks\":\"\"},\"colorscale\":[[0.0,\"#0d0887\"],[0.1111111111111111,\"#46039f\"],[0.2222222222222222,\"#7201a8\"],[0.3333333333333333,\"#9c179e\"],[0.4444444444444444,\"#bd3786\"],[0.5555555555555556,\"#d8576b\"],[0.6666666666666666,\"#ed7953\"],[0.7777777777777778,\"#fb9f3a\"],[0.8888888888888888,\"#fdca26\"],[1.0,\"#f0f921\"]],\"type\":\"heatmap\"}],\"heatmapgl\":[{\"colorbar\":{\"outlinewidth\":0,\"ticks\":\"\"},\"colorscale\":[[0.0,\"#0d0887\"],[0.1111111111111111,\"#46039f\"],[0.2222222222222222,\"#7201a8\"],[0.3333333333333333,\"#9c179e\"],[0.4444444444444444,\"#bd3786\"],[0.5555555555555556,\"#d8576b\"],[0.6666666666666666,\"#ed7953\"],[0.7777777777777778,\"#fb9f3a\"],[0.8888888888888888,\"#fdca26\"],[1.0,\"#f0f921\"]],\"type\":\"heatmapgl\"}],\"histogram\":[{\"marker\":{\"pattern\":{\"fillmode\":\"overlay\",\"size\":10,\"solidity\":0.2}},\"type\":\"histogram\"}],\"histogram2d\":[{\"colorbar\":{\"outlinewidth\":0,\"ticks\":\"\"},\"colorscale\":[[0.0,\"#0d0887\"],[0.1111111111111111,\"#46039f\"],[0.2222222222222222,\"#7201a8\"],[0.3333333333333333,\"#9c179e\"],[0.4444444444444444,\"#bd3786\"],[0.5555555555555556,\"#d8576b\"],[0.6666666666666666,\"#ed7953\"],[0.7777777777777778,\"#fb9f3a\"],[0.8888888888888888,\"#fdca26\"],[1.0,\"#f0f921\"]],\"type\":\"histogram2d\"}],\"histogram2dcontour\":[{\"colorbar\":{\"outlinewidth\":0,\"ticks\":\"\"},\"colorscale\":[[0.0,\"#0d0887\"],[0.1111111111111111,\"#46039f\"],[0.2222222222222222,\"#7201a8\"],[0.3333333333333333,\"#9c179e\"],[0.4444444444444444,\"#bd3786\"],[0.5555555555555556,\"#d8576b\"],[0.6666666666666666,\"#ed7953\"],[0.7777777777777778,\"#fb9f3a\"],[0.8888888888888888,\"#fdca26\"],[1.0,\"#f0f921\"]],\"type\":\"histogram2dcontour\"}],\"mesh3d\":[{\"colorbar\":{\"outlinewidth\":0,\"ticks\":\"\"},\"type\":\"mesh3d\"}],\"parcoords\":[{\"line\":{\"colorbar\":{\"outlinewidth\":0,\"ticks\":\"\"}},\"type\":\"parcoords\"}],\"pie\":[{\"automargin\":true,\"type\":\"pie\"}],\"scatter\":[{\"marker\":{\"colorbar\":{\"outlinewidth\":0,\"ticks\":\"\"}},\"type\":\"scatter\"}],\"scatter3d\":[{\"line\":{\"colorbar\":{\"outlinewidth\":0,\"ticks\":\"\"}},\"marker\":{\"colorbar\":{\"outlinewidth\":0,\"ticks\":\"\"}},\"type\":\"scatter3d\"}],\"scattercarpet\":[{\"marker\":{\"colorbar\":{\"outlinewidth\":0,\"ticks\":\"\"}},\"type\":\"scattercarpet\"}],\"scattergeo\":[{\"marker\":{\"colorbar\":{\"outlinewidth\":0,\"ticks\":\"\"}},\"type\":\"scattergeo\"}],\"scattergl\":[{\"marker\":{\"colorbar\":{\"outlinewidth\":0,\"ticks\":\"\"}},\"type\":\"scattergl\"}],\"scattermapbox\":[{\"marker\":{\"colorbar\":{\"outlinewidth\":0,\"ticks\":\"\"}},\"type\":\"scattermapbox\"}],\"scatterpolar\":[{\"marker\":{\"colorbar\":{\"outlinewidth\":0,\"ticks\":\"\"}},\"type\":\"scatterpolar\"}],\"scatterpolargl\":[{\"marker\":{\"colorbar\":{\"outlinewidth\":0,\"ticks\":\"\"}},\"type\":\"scatterpolargl\"}],\"scatterternary\":[{\"marker\":{\"colorbar\":{\"outlinewidth\":0,\"ticks\":\"\"}},\"type\":\"scatterternary\"}],\"surface\":[{\"colorbar\":{\"outlinewidth\":0,\"ticks\":\"\"},\"colorscale\":[[0.0,\"#0d0887\"],[0.1111111111111111,\"#46039f\"],[0.2222222222222222,\"#7201a8\"],[0.3333333333333333,\"#9c179e\"],[0.4444444444444444,\"#bd3786\"],[0.5555555555555556,\"#d8576b\"],[0.6666666666666666,\"#ed7953\"],[0.7777777777777778,\"#fb9f3a\"],[0.8888888888888888,\"#fdca26\"],[1.0,\"#f0f921\"]],\"type\":\"surface\"}],\"table\":[{\"cells\":{\"fill\":{\"color\":\"#EBF0F8\"},\"line\":{\"color\":\"white\"}},\"header\":{\"fill\":{\"color\":\"#C8D4E3\"},\"line\":{\"color\":\"white\"}},\"type\":\"table\"}]},\"layout\":{\"annotationdefaults\":{\"arrowcolor\":\"#2a3f5f\",\"arrowhead\":0,\"arrowwidth\":1},\"autotypenumbers\":\"strict\",\"coloraxis\":{\"colorbar\":{\"outlinewidth\":0,\"ticks\":\"\"}},\"colorscale\":{\"diverging\":[[0,\"#8e0152\"],[0.1,\"#c51b7d\"],[0.2,\"#de77ae\"],[0.3,\"#f1b6da\"],[0.4,\"#fde0ef\"],[0.5,\"#f7f7f7\"],[0.6,\"#e6f5d0\"],[0.7,\"#b8e186\"],[0.8,\"#7fbc41\"],[0.9,\"#4d9221\"],[1,\"#276419\"]],\"sequential\":[[0.0,\"#0d0887\"],[0.1111111111111111,\"#46039f\"],[0.2222222222222222,\"#7201a8\"],[0.3333333333333333,\"#9c179e\"],[0.4444444444444444,\"#bd3786\"],[0.5555555555555556,\"#d8576b\"],[0.6666666666666666,\"#ed7953\"],[0.7777777777777778,\"#fb9f3a\"],[0.8888888888888888,\"#fdca26\"],[1.0,\"#f0f921\"]],\"sequentialminus\":[[0.0,\"#0d0887\"],[0.1111111111111111,\"#46039f\"],[0.2222222222222222,\"#7201a8\"],[0.3333333333333333,\"#9c179e\"],[0.4444444444444444,\"#bd3786\"],[0.5555555555555556,\"#d8576b\"],[0.6666666666666666,\"#ed7953\"],[0.7777777777777778,\"#fb9f3a\"],[0.8888888888888888,\"#fdca26\"],[1.0,\"#f0f921\"]]},\"colorway\":[\"#636efa\",\"#EF553B\",\"#00cc96\",\"#ab63fa\",\"#FFA15A\",\"#19d3f3\",\"#FF6692\",\"#B6E880\",\"#FF97FF\",\"#FECB52\"],\"font\":{\"color\":\"#2a3f5f\"},\"geo\":{\"bgcolor\":\"white\",\"lakecolor\":\"white\",\"landcolor\":\"#E5ECF6\",\"showlakes\":true,\"showland\":true,\"subunitcolor\":\"white\"},\"hoverlabel\":{\"align\":\"left\"},\"hovermode\":\"closest\",\"mapbox\":{\"style\":\"light\"},\"paper_bgcolor\":\"white\",\"plot_bgcolor\":\"#E5ECF6\",\"polar\":{\"angularaxis\":{\"gridcolor\":\"white\",\"linecolor\":\"white\",\"ticks\":\"\"},\"bgcolor\":\"#E5ECF6\",\"radialaxis\":{\"gridcolor\":\"white\",\"linecolor\":\"white\",\"ticks\":\"\"}},\"scene\":{\"xaxis\":{\"backgroundcolor\":\"#E5ECF6\",\"gridcolor\":\"white\",\"gridwidth\":2,\"linecolor\":\"white\",\"showbackground\":true,\"ticks\":\"\",\"zerolinecolor\":\"white\"},\"yaxis\":{\"backgroundcolor\":\"#E5ECF6\",\"gridcolor\":\"white\",\"gridwidth\":2,\"linecolor\":\"white\",\"showbackground\":true,\"ticks\":\"\",\"zerolinecolor\":\"white\"},\"zaxis\":{\"backgroundcolor\":\"#E5ECF6\",\"gridcolor\":\"white\",\"gridwidth\":2,\"linecolor\":\"white\",\"showbackground\":true,\"ticks\":\"\",\"zerolinecolor\":\"white\"}},\"shapedefaults\":{\"line\":{\"color\":\"#2a3f5f\"}},\"ternary\":{\"aaxis\":{\"gridcolor\":\"white\",\"linecolor\":\"white\",\"ticks\":\"\"},\"baxis\":{\"gridcolor\":\"white\",\"linecolor\":\"white\",\"ticks\":\"\"},\"bgcolor\":\"#E5ECF6\",\"caxis\":{\"gridcolor\":\"white\",\"linecolor\":\"white\",\"ticks\":\"\"}},\"title\":{\"x\":0.05},\"xaxis\":{\"automargin\":true,\"gridcolor\":\"white\",\"linecolor\":\"white\",\"ticks\":\"\",\"title\":{\"standoff\":15},\"zerolinecolor\":\"white\",\"zerolinewidth\":2},\"yaxis\":{\"automargin\":true,\"gridcolor\":\"white\",\"linecolor\":\"white\",\"ticks\":\"\",\"title\":{\"standoff\":15},\"zerolinecolor\":\"white\",\"zerolinewidth\":2}}},\"legend\":{\"tracegroupgap\":0},\"margin\":{\"t\":60}},                        {\"responsive\": true}                    ).then(function(){\n",
              "                            \n",
              "var gd = document.getElementById('a3c518fc-ce55-483c-964f-00a5746690c3');\n",
              "var x = new MutationObserver(function (mutations, observer) {{\n",
              "        var display = window.getComputedStyle(gd).display;\n",
              "        if (!display || display === 'none') {{\n",
              "            console.log([gd, 'removed!']);\n",
              "            Plotly.purge(gd);\n",
              "            observer.disconnect();\n",
              "        }}\n",
              "}});\n",
              "\n",
              "// Listen for the removal of the full notebook cells\n",
              "var notebookContainer = gd.closest('#notebook-container');\n",
              "if (notebookContainer) {{\n",
              "    x.observe(notebookContainer, {childList: true});\n",
              "}}\n",
              "\n",
              "// Listen for the clearing of the current output cell\n",
              "var outputEl = gd.closest('.output');\n",
              "if (outputEl) {{\n",
              "    x.observe(outputEl, {childList: true});\n",
              "}}\n",
              "\n",
              "                        })                };                            </script>        </div>\n",
              "</body>\n",
              "</html>"
            ]
          },
          "metadata": {}
        }
      ]
    },
    {
      "cell_type": "markdown",
      "source": [
        "We now analyze the manual labeling results."
      ],
      "metadata": {
        "id": "yCbKtpbCo2CB"
      }
    },
    {
      "cell_type": "code",
      "source": [
        "def percentage(row):\n",
        "  return row[0.0] /(row[1.0] + row[0.0] + row[\"N/A\"])"
      ],
      "metadata": {
        "id": "PATDRMCXCxIe"
      },
      "execution_count": null,
      "outputs": []
    },
    {
      "cell_type": "code",
      "source": [
        "# load the labeled dataset.\n",
        "labeled_dataset = pd.read_csv(\"./label_out/Other Categories_Possible Misuse.csv\")\n",
        "labeled_dataset = labeled_dataset.fillna(\"N/A\")\n",
        "\n",
        "# group by category\n",
        "grouped = labeled_dataset.groupby(['category', 'is it related to trump? 1:yes 0:no']).size().unstack(fill_value=0)"
      ],
      "metadata": {
        "id": "DCP4aatLB-Qe"
      },
      "execution_count": null,
      "outputs": []
    },
    {
      "cell_type": "code",
      "source": [
        "grouped[\"Percentage\"] = grouped.apply(percentage, axis = 1)\n",
        "grouped = grouped.sort_values(\"Percentage\", ascending=False)"
      ],
      "metadata": {
        "id": "xdHcO2noCwyk"
      },
      "execution_count": null,
      "outputs": []
    },
    {
      "cell_type": "code",
      "source": [
        "import plotly.express as px\n",
        "\n",
        "config = {'displaylogo': False}\n",
        "default_cat = \"Total\"\n",
        "\n",
        "figs =dict()\n",
        "\n",
        "data = dict(\n",
        "    label=[\"Related\", \"Misuse\", \"N/A\"],\n",
        "    count=[labeled_dataset[labeled_dataset[\"is it related to trump? 1:yes 0:no\"] == 1.0], \n",
        "           labeled_dataset[labeled_dataset[\"is it related to trump? 1:yes 0:no\"] == 0.0], \n",
        "           labeled_dataset[labeled_dataset[\"is it related to trump? 1:yes 0:no\"] == \"N/A\"]])\n",
        "fig2 = px.pie(\n",
        "      data,\n",
        "      names='label',\n",
        "      values='count',  \n",
        "      title=(f\"<b> Total </b>\"),   \n",
        "  ).update_traces(\n",
        "        name=\"Total\", visible=False)\n",
        "figs[\"Total\"] = fig2\n",
        "\n",
        "\n",
        "for category in grouped.index:\n",
        "  data = dict(\n",
        "    label=[\"Related\", \"Misuse\", \"N/A\"],\n",
        "    count=[grouped.loc[category][1.0], grouped.loc[category][0.0], grouped.loc[category][\"N/A\"]])\n",
        "  fig2 = px.pie(\n",
        "        data,\n",
        "        names='label',\n",
        "        values='count',  \n",
        "        title=(f\"<b>{category} </b>\"),   \n",
        "    ).update_traces(\n",
        "         name=category, visible=False)\n",
        "  figs[category] = fig2\n",
        "\n",
        "\n",
        "# integrate figures per date into one figure\n",
        "fig = figs[default_cat].update_traces(visible=True)\n",
        "for k in figs.keys():\n",
        "    if k != default_cat:\n",
        "      fig.add_traces(figs[k].data)\n",
        " \n",
        "\n",
        "# finally build dropdown menu\n",
        "fig.update_layout(\n",
        "    updatemenus=[\n",
        "        {\n",
        "            \"buttons\": [\n",
        "                {\n",
        "                    \"label\": k,\n",
        "                    \"method\": \"update\",\n",
        "                    # list comprehension for which traces are visible\n",
        "                    \"args\": [{\"visible\": [kk == k for kk in figs.keys()]},\n",
        "                             {\"title\": (f\"<b>{k} </b>\")} # update\n",
        "                             ]\n",
        "                 \n",
        "             \n",
        "                }\n",
        "                for k in figs.keys()\n",
        "             ],\n",
        "             \"direction\": \"down\", \"x\": 0.07, \"y\": 1.15, \"bgcolor\":'#1F2F40', \n",
        "             \"bordercolor\":\"#1F2F40\"\n",
        "        }\n",
        "    ]\n",
        " )\n",
        "\n",
        "fig.update_layout(\n",
        "           title={\n",
        "           'x':0.5,\n",
        "           'xanchor': 'center'\n",
        "        })\n",
        "\n",
        "fig.update_layout(paper_bgcolor='rgba(0,0,0,0)', plot_bgcolor='rgba(0,0,0,0)', \n",
        "font=dict(color='#CACFD3'))\n",
        "fig.update_traces(textposition='inside', textinfo='percent+label')\n",
        "fig.show()"
      ],
      "metadata": {
        "colab": {
          "base_uri": "https://localhost:8080/",
          "height": 542
        },
        "id": "s-ktoEYbi8iF",
        "outputId": "5c34371d-b6bb-4f07-811e-eaf16b08cc55"
      },
      "execution_count": null,
      "outputs": [
        {
          "output_type": "display_data",
          "data": {
            "text/html": [
              "<html>\n",
              "<head><meta charset=\"utf-8\" /></head>\n",
              "<body>\n",
              "    <div>            <script src=\"https://cdnjs.cloudflare.com/ajax/libs/mathjax/2.7.5/MathJax.js?config=TeX-AMS-MML_SVG\"></script><script type=\"text/javascript\">if (window.MathJax) {MathJax.Hub.Config({SVG: {font: \"STIX-Web\"}});}</script>                <script type=\"text/javascript\">window.PlotlyConfig = {MathJaxConfig: 'local'};</script>\n",
              "        <script src=\"https://cdn.plot.ly/plotly-2.8.3.min.js\"></script>                <div id=\"5e5379b5-b3bd-4d9a-8926-9b03ce47191d\" class=\"plotly-graph-div\" style=\"height:525px; width:100%;\"></div>            <script type=\"text/javascript\">                                    window.PLOTLYENV=window.PLOTLYENV || {};                                    if (document.getElementById(\"5e5379b5-b3bd-4d9a-8926-9b03ce47191d\")) {                    Plotly.newPlot(                        \"5e5379b5-b3bd-4d9a-8926-9b03ce47191d\",                        [{\"domain\":{\"x\":[0.0,1.0],\"y\":[0.0,1.0]},\"hovertemplate\":\"label=%{label}<br>count=%{value}<extra></extra>\",\"labels\":[\"Related\",\"Misuse\",\"N/A\"],\"legendgroup\":\"\",\"name\":\"Total\",\"showlegend\":true,\"values\":[120,362,130],\"type\":\"pie\",\"visible\":true,\"textinfo\":\"percent+label\",\"textposition\":\"inside\"},{\"domain\":{\"x\":[0.0,1.0],\"y\":[0.0,1.0]},\"hovertemplate\":\"label=%{label}<br>count=%{value}<extra></extra>\",\"labels\":[\"Related\",\"Misuse\",\"N/A\"],\"legendgroup\":\"\",\"name\":\"Sports\",\"showlegend\":true,\"values\":[2.0,16.0,1.0],\"visible\":false,\"type\":\"pie\",\"textinfo\":\"percent+label\",\"textposition\":\"inside\"},{\"domain\":{\"x\":[0.0,1.0],\"y\":[0.0,1.0]},\"hovertemplate\":\"label=%{label}<br>count=%{value}<extra></extra>\",\"labels\":[\"Related\",\"Misuse\",\"N/A\"],\"legendgroup\":\"\",\"name\":\"Autos & Vehicles\",\"showlegend\":true,\"values\":[2.0,10.0,0.0],\"visible\":false,\"type\":\"pie\",\"textinfo\":\"percent+label\",\"textposition\":\"inside\"},{\"domain\":{\"x\":[0.0,1.0],\"y\":[0.0,1.0]},\"hovertemplate\":\"label=%{label}<br>count=%{value}<extra></extra>\",\"labels\":[\"Related\",\"Misuse\",\"N/A\"],\"legendgroup\":\"\",\"name\":\"Nonprofits & Activism\",\"showlegend\":true,\"values\":[1.0,13.0,3.0],\"visible\":false,\"type\":\"pie\",\"textinfo\":\"percent+label\",\"textposition\":\"inside\"},{\"domain\":{\"x\":[0.0,1.0],\"y\":[0.0,1.0]},\"hovertemplate\":\"label=%{label}<br>count=%{value}<extra></extra>\",\"labels\":[\"Related\",\"Misuse\",\"N/A\"],\"legendgroup\":\"\",\"name\":\"Howto & Style\",\"showlegend\":true,\"values\":[2.0,15.0,3.0],\"visible\":false,\"type\":\"pie\",\"textinfo\":\"percent+label\",\"textposition\":\"inside\"},{\"domain\":{\"x\":[0.0,1.0],\"y\":[0.0,1.0]},\"hovertemplate\":\"label=%{label}<br>count=%{value}<extra></extra>\",\"labels\":[\"Related\",\"Misuse\",\"N/A\"],\"legendgroup\":\"\",\"name\":\"Gaming\",\"showlegend\":true,\"values\":[3.0,38.0,11.0],\"visible\":false,\"type\":\"pie\",\"textinfo\":\"percent+label\",\"textposition\":\"inside\"},{\"domain\":{\"x\":[0.0,1.0],\"y\":[0.0,1.0]},\"hovertemplate\":\"label=%{label}<br>count=%{value}<extra></extra>\",\"labels\":[\"Related\",\"Misuse\",\"N/A\"],\"legendgroup\":\"\",\"name\":\"Film & Animation\",\"showlegend\":true,\"values\":[5.0,13.0,0.0],\"visible\":false,\"type\":\"pie\",\"textinfo\":\"percent+label\",\"textposition\":\"inside\"},{\"domain\":{\"x\":[0.0,1.0],\"y\":[0.0,1.0]},\"hovertemplate\":\"label=%{label}<br>count=%{value}<extra></extra>\",\"labels\":[\"Related\",\"Misuse\",\"N/A\"],\"legendgroup\":\"\",\"name\":\"Science & Technology\",\"showlegend\":true,\"values\":[3.0,15.0,3.0],\"visible\":false,\"type\":\"pie\",\"textinfo\":\"percent+label\",\"textposition\":\"inside\"},{\"domain\":{\"x\":[0.0,1.0],\"y\":[0.0,1.0]},\"hovertemplate\":\"label=%{label}<br>count=%{value}<extra></extra>\",\"labels\":[\"Related\",\"Misuse\",\"N/A\"],\"legendgroup\":\"\",\"name\":\"Pets & Animals\",\"showlegend\":true,\"values\":[3.0,6.0,0.0],\"visible\":false,\"type\":\"pie\",\"textinfo\":\"percent+label\",\"textposition\":\"inside\"},{\"domain\":{\"x\":[0.0,1.0],\"y\":[0.0,1.0]},\"hovertemplate\":\"label=%{label}<br>count=%{value}<extra></extra>\",\"labels\":[\"Related\",\"Misuse\",\"N/A\"],\"legendgroup\":\"\",\"name\":\"Travel & Events\",\"showlegend\":true,\"values\":[3.0,6.0,0.0],\"visible\":false,\"type\":\"pie\",\"textinfo\":\"percent+label\",\"textposition\":\"inside\"},{\"domain\":{\"x\":[0.0,1.0],\"y\":[0.0,1.0]},\"hovertemplate\":\"label=%{label}<br>count=%{value}<extra></extra>\",\"labels\":[\"Related\",\"Misuse\",\"N/A\"],\"legendgroup\":\"\",\"name\":\"Music\",\"showlegend\":true,\"values\":[10.0,21.0,2.0],\"visible\":false,\"type\":\"pie\",\"textinfo\":\"percent+label\",\"textposition\":\"inside\"},{\"domain\":{\"x\":[0.0,1.0],\"y\":[0.0,1.0]},\"hovertemplate\":\"label=%{label}<br>count=%{value}<extra></extra>\",\"labels\":[\"Related\",\"Misuse\",\"N/A\"],\"legendgroup\":\"\",\"name\":\"Comedy\",\"showlegend\":true,\"values\":[12.0,26.0,6.0],\"visible\":false,\"type\":\"pie\",\"textinfo\":\"percent+label\",\"textposition\":\"inside\"},{\"domain\":{\"x\":[0.0,1.0],\"y\":[0.0,1.0]},\"hovertemplate\":\"label=%{label}<br>count=%{value}<extra></extra>\",\"labels\":[\"Related\",\"Misuse\",\"N/A\"],\"legendgroup\":\"\",\"name\":\"Entertainment\",\"showlegend\":true,\"values\":[24.0,90.0,41.0],\"visible\":false,\"type\":\"pie\",\"textinfo\":\"percent+label\",\"textposition\":\"inside\"},{\"domain\":{\"x\":[0.0,1.0],\"y\":[0.0,1.0]},\"hovertemplate\":\"label=%{label}<br>count=%{value}<extra></extra>\",\"labels\":[\"Related\",\"Misuse\",\"N/A\"],\"legendgroup\":\"\",\"name\":\"People & Blogs\",\"showlegend\":true,\"values\":[38.0,72.0,47.0],\"visible\":false,\"type\":\"pie\",\"textinfo\":\"percent+label\",\"textposition\":\"inside\"},{\"domain\":{\"x\":[0.0,1.0],\"y\":[0.0,1.0]},\"hovertemplate\":\"label=%{label}<br>count=%{value}<extra></extra>\",\"labels\":[\"Related\",\"Misuse\",\"N/A\"],\"legendgroup\":\"\",\"name\":\"Education\",\"showlegend\":true,\"values\":[12.0,21.0,13.0],\"visible\":false,\"type\":\"pie\",\"textinfo\":\"percent+label\",\"textposition\":\"inside\"}],                        {\"template\":{\"data\":{\"bar\":[{\"error_x\":{\"color\":\"#2a3f5f\"},\"error_y\":{\"color\":\"#2a3f5f\"},\"marker\":{\"line\":{\"color\":\"#E5ECF6\",\"width\":0.5},\"pattern\":{\"fillmode\":\"overlay\",\"size\":10,\"solidity\":0.2}},\"type\":\"bar\"}],\"barpolar\":[{\"marker\":{\"line\":{\"color\":\"#E5ECF6\",\"width\":0.5},\"pattern\":{\"fillmode\":\"overlay\",\"size\":10,\"solidity\":0.2}},\"type\":\"barpolar\"}],\"carpet\":[{\"aaxis\":{\"endlinecolor\":\"#2a3f5f\",\"gridcolor\":\"white\",\"linecolor\":\"white\",\"minorgridcolor\":\"white\",\"startlinecolor\":\"#2a3f5f\"},\"baxis\":{\"endlinecolor\":\"#2a3f5f\",\"gridcolor\":\"white\",\"linecolor\":\"white\",\"minorgridcolor\":\"white\",\"startlinecolor\":\"#2a3f5f\"},\"type\":\"carpet\"}],\"choropleth\":[{\"colorbar\":{\"outlinewidth\":0,\"ticks\":\"\"},\"type\":\"choropleth\"}],\"contour\":[{\"colorbar\":{\"outlinewidth\":0,\"ticks\":\"\"},\"colorscale\":[[0.0,\"#0d0887\"],[0.1111111111111111,\"#46039f\"],[0.2222222222222222,\"#7201a8\"],[0.3333333333333333,\"#9c179e\"],[0.4444444444444444,\"#bd3786\"],[0.5555555555555556,\"#d8576b\"],[0.6666666666666666,\"#ed7953\"],[0.7777777777777778,\"#fb9f3a\"],[0.8888888888888888,\"#fdca26\"],[1.0,\"#f0f921\"]],\"type\":\"contour\"}],\"contourcarpet\":[{\"colorbar\":{\"outlinewidth\":0,\"ticks\":\"\"},\"type\":\"contourcarpet\"}],\"heatmap\":[{\"colorbar\":{\"outlinewidth\":0,\"ticks\":\"\"},\"colorscale\":[[0.0,\"#0d0887\"],[0.1111111111111111,\"#46039f\"],[0.2222222222222222,\"#7201a8\"],[0.3333333333333333,\"#9c179e\"],[0.4444444444444444,\"#bd3786\"],[0.5555555555555556,\"#d8576b\"],[0.6666666666666666,\"#ed7953\"],[0.7777777777777778,\"#fb9f3a\"],[0.8888888888888888,\"#fdca26\"],[1.0,\"#f0f921\"]],\"type\":\"heatmap\"}],\"heatmapgl\":[{\"colorbar\":{\"outlinewidth\":0,\"ticks\":\"\"},\"colorscale\":[[0.0,\"#0d0887\"],[0.1111111111111111,\"#46039f\"],[0.2222222222222222,\"#7201a8\"],[0.3333333333333333,\"#9c179e\"],[0.4444444444444444,\"#bd3786\"],[0.5555555555555556,\"#d8576b\"],[0.6666666666666666,\"#ed7953\"],[0.7777777777777778,\"#fb9f3a\"],[0.8888888888888888,\"#fdca26\"],[1.0,\"#f0f921\"]],\"type\":\"heatmapgl\"}],\"histogram\":[{\"marker\":{\"pattern\":{\"fillmode\":\"overlay\",\"size\":10,\"solidity\":0.2}},\"type\":\"histogram\"}],\"histogram2d\":[{\"colorbar\":{\"outlinewidth\":0,\"ticks\":\"\"},\"colorscale\":[[0.0,\"#0d0887\"],[0.1111111111111111,\"#46039f\"],[0.2222222222222222,\"#7201a8\"],[0.3333333333333333,\"#9c179e\"],[0.4444444444444444,\"#bd3786\"],[0.5555555555555556,\"#d8576b\"],[0.6666666666666666,\"#ed7953\"],[0.7777777777777778,\"#fb9f3a\"],[0.8888888888888888,\"#fdca26\"],[1.0,\"#f0f921\"]],\"type\":\"histogram2d\"}],\"histogram2dcontour\":[{\"colorbar\":{\"outlinewidth\":0,\"ticks\":\"\"},\"colorscale\":[[0.0,\"#0d0887\"],[0.1111111111111111,\"#46039f\"],[0.2222222222222222,\"#7201a8\"],[0.3333333333333333,\"#9c179e\"],[0.4444444444444444,\"#bd3786\"],[0.5555555555555556,\"#d8576b\"],[0.6666666666666666,\"#ed7953\"],[0.7777777777777778,\"#fb9f3a\"],[0.8888888888888888,\"#fdca26\"],[1.0,\"#f0f921\"]],\"type\":\"histogram2dcontour\"}],\"mesh3d\":[{\"colorbar\":{\"outlinewidth\":0,\"ticks\":\"\"},\"type\":\"mesh3d\"}],\"parcoords\":[{\"line\":{\"colorbar\":{\"outlinewidth\":0,\"ticks\":\"\"}},\"type\":\"parcoords\"}],\"pie\":[{\"automargin\":true,\"type\":\"pie\"}],\"scatter\":[{\"marker\":{\"colorbar\":{\"outlinewidth\":0,\"ticks\":\"\"}},\"type\":\"scatter\"}],\"scatter3d\":[{\"line\":{\"colorbar\":{\"outlinewidth\":0,\"ticks\":\"\"}},\"marker\":{\"colorbar\":{\"outlinewidth\":0,\"ticks\":\"\"}},\"type\":\"scatter3d\"}],\"scattercarpet\":[{\"marker\":{\"colorbar\":{\"outlinewidth\":0,\"ticks\":\"\"}},\"type\":\"scattercarpet\"}],\"scattergeo\":[{\"marker\":{\"colorbar\":{\"outlinewidth\":0,\"ticks\":\"\"}},\"type\":\"scattergeo\"}],\"scattergl\":[{\"marker\":{\"colorbar\":{\"outlinewidth\":0,\"ticks\":\"\"}},\"type\":\"scattergl\"}],\"scattermapbox\":[{\"marker\":{\"colorbar\":{\"outlinewidth\":0,\"ticks\":\"\"}},\"type\":\"scattermapbox\"}],\"scatterpolar\":[{\"marker\":{\"colorbar\":{\"outlinewidth\":0,\"ticks\":\"\"}},\"type\":\"scatterpolar\"}],\"scatterpolargl\":[{\"marker\":{\"colorbar\":{\"outlinewidth\":0,\"ticks\":\"\"}},\"type\":\"scatterpolargl\"}],\"scatterternary\":[{\"marker\":{\"colorbar\":{\"outlinewidth\":0,\"ticks\":\"\"}},\"type\":\"scatterternary\"}],\"surface\":[{\"colorbar\":{\"outlinewidth\":0,\"ticks\":\"\"},\"colorscale\":[[0.0,\"#0d0887\"],[0.1111111111111111,\"#46039f\"],[0.2222222222222222,\"#7201a8\"],[0.3333333333333333,\"#9c179e\"],[0.4444444444444444,\"#bd3786\"],[0.5555555555555556,\"#d8576b\"],[0.6666666666666666,\"#ed7953\"],[0.7777777777777778,\"#fb9f3a\"],[0.8888888888888888,\"#fdca26\"],[1.0,\"#f0f921\"]],\"type\":\"surface\"}],\"table\":[{\"cells\":{\"fill\":{\"color\":\"#EBF0F8\"},\"line\":{\"color\":\"white\"}},\"header\":{\"fill\":{\"color\":\"#C8D4E3\"},\"line\":{\"color\":\"white\"}},\"type\":\"table\"}]},\"layout\":{\"annotationdefaults\":{\"arrowcolor\":\"#2a3f5f\",\"arrowhead\":0,\"arrowwidth\":1},\"autotypenumbers\":\"strict\",\"coloraxis\":{\"colorbar\":{\"outlinewidth\":0,\"ticks\":\"\"}},\"colorscale\":{\"diverging\":[[0,\"#8e0152\"],[0.1,\"#c51b7d\"],[0.2,\"#de77ae\"],[0.3,\"#f1b6da\"],[0.4,\"#fde0ef\"],[0.5,\"#f7f7f7\"],[0.6,\"#e6f5d0\"],[0.7,\"#b8e186\"],[0.8,\"#7fbc41\"],[0.9,\"#4d9221\"],[1,\"#276419\"]],\"sequential\":[[0.0,\"#0d0887\"],[0.1111111111111111,\"#46039f\"],[0.2222222222222222,\"#7201a8\"],[0.3333333333333333,\"#9c179e\"],[0.4444444444444444,\"#bd3786\"],[0.5555555555555556,\"#d8576b\"],[0.6666666666666666,\"#ed7953\"],[0.7777777777777778,\"#fb9f3a\"],[0.8888888888888888,\"#fdca26\"],[1.0,\"#f0f921\"]],\"sequentialminus\":[[0.0,\"#0d0887\"],[0.1111111111111111,\"#46039f\"],[0.2222222222222222,\"#7201a8\"],[0.3333333333333333,\"#9c179e\"],[0.4444444444444444,\"#bd3786\"],[0.5555555555555556,\"#d8576b\"],[0.6666666666666666,\"#ed7953\"],[0.7777777777777778,\"#fb9f3a\"],[0.8888888888888888,\"#fdca26\"],[1.0,\"#f0f921\"]]},\"colorway\":[\"#636efa\",\"#EF553B\",\"#00cc96\",\"#ab63fa\",\"#FFA15A\",\"#19d3f3\",\"#FF6692\",\"#B6E880\",\"#FF97FF\",\"#FECB52\"],\"font\":{\"color\":\"#2a3f5f\"},\"geo\":{\"bgcolor\":\"white\",\"lakecolor\":\"white\",\"landcolor\":\"#E5ECF6\",\"showlakes\":true,\"showland\":true,\"subunitcolor\":\"white\"},\"hoverlabel\":{\"align\":\"left\"},\"hovermode\":\"closest\",\"mapbox\":{\"style\":\"light\"},\"paper_bgcolor\":\"white\",\"plot_bgcolor\":\"#E5ECF6\",\"polar\":{\"angularaxis\":{\"gridcolor\":\"white\",\"linecolor\":\"white\",\"ticks\":\"\"},\"bgcolor\":\"#E5ECF6\",\"radialaxis\":{\"gridcolor\":\"white\",\"linecolor\":\"white\",\"ticks\":\"\"}},\"scene\":{\"xaxis\":{\"backgroundcolor\":\"#E5ECF6\",\"gridcolor\":\"white\",\"gridwidth\":2,\"linecolor\":\"white\",\"showbackground\":true,\"ticks\":\"\",\"zerolinecolor\":\"white\"},\"yaxis\":{\"backgroundcolor\":\"#E5ECF6\",\"gridcolor\":\"white\",\"gridwidth\":2,\"linecolor\":\"white\",\"showbackground\":true,\"ticks\":\"\",\"zerolinecolor\":\"white\"},\"zaxis\":{\"backgroundcolor\":\"#E5ECF6\",\"gridcolor\":\"white\",\"gridwidth\":2,\"linecolor\":\"white\",\"showbackground\":true,\"ticks\":\"\",\"zerolinecolor\":\"white\"}},\"shapedefaults\":{\"line\":{\"color\":\"#2a3f5f\"}},\"ternary\":{\"aaxis\":{\"gridcolor\":\"white\",\"linecolor\":\"white\",\"ticks\":\"\"},\"baxis\":{\"gridcolor\":\"white\",\"linecolor\":\"white\",\"ticks\":\"\"},\"bgcolor\":\"#E5ECF6\",\"caxis\":{\"gridcolor\":\"white\",\"linecolor\":\"white\",\"ticks\":\"\"}},\"title\":{\"x\":0.05},\"xaxis\":{\"automargin\":true,\"gridcolor\":\"white\",\"linecolor\":\"white\",\"ticks\":\"\",\"title\":{\"standoff\":15},\"zerolinecolor\":\"white\",\"zerolinewidth\":2},\"yaxis\":{\"automargin\":true,\"gridcolor\":\"white\",\"linecolor\":\"white\",\"ticks\":\"\",\"title\":{\"standoff\":15},\"zerolinecolor\":\"white\",\"zerolinewidth\":2}}},\"legend\":{\"tracegroupgap\":0},\"title\":{\"text\":\"<b> Total </b>\",\"x\":0.5,\"xanchor\":\"center\"},\"updatemenus\":[{\"bgcolor\":\"#1F2F40\",\"bordercolor\":\"#1F2F40\",\"buttons\":[{\"args\":[{\"visible\":[true,false,false,false,false,false,false,false,false,false,false,false,false,false,false]},{\"title\":\"<b>Total </b>\"}],\"label\":\"Total\",\"method\":\"update\"},{\"args\":[{\"visible\":[false,true,false,false,false,false,false,false,false,false,false,false,false,false,false]},{\"title\":\"<b>Sports </b>\"}],\"label\":\"Sports\",\"method\":\"update\"},{\"args\":[{\"visible\":[false,false,true,false,false,false,false,false,false,false,false,false,false,false,false]},{\"title\":\"<b>Autos & Vehicles </b>\"}],\"label\":\"Autos & Vehicles\",\"method\":\"update\"},{\"args\":[{\"visible\":[false,false,false,true,false,false,false,false,false,false,false,false,false,false,false]},{\"title\":\"<b>Nonprofits & Activism </b>\"}],\"label\":\"Nonprofits & Activism\",\"method\":\"update\"},{\"args\":[{\"visible\":[false,false,false,false,true,false,false,false,false,false,false,false,false,false,false]},{\"title\":\"<b>Howto & Style </b>\"}],\"label\":\"Howto & Style\",\"method\":\"update\"},{\"args\":[{\"visible\":[false,false,false,false,false,true,false,false,false,false,false,false,false,false,false]},{\"title\":\"<b>Gaming </b>\"}],\"label\":\"Gaming\",\"method\":\"update\"},{\"args\":[{\"visible\":[false,false,false,false,false,false,true,false,false,false,false,false,false,false,false]},{\"title\":\"<b>Film & Animation </b>\"}],\"label\":\"Film & Animation\",\"method\":\"update\"},{\"args\":[{\"visible\":[false,false,false,false,false,false,false,true,false,false,false,false,false,false,false]},{\"title\":\"<b>Science & Technology </b>\"}],\"label\":\"Science & Technology\",\"method\":\"update\"},{\"args\":[{\"visible\":[false,false,false,false,false,false,false,false,true,false,false,false,false,false,false]},{\"title\":\"<b>Pets & Animals </b>\"}],\"label\":\"Pets & Animals\",\"method\":\"update\"},{\"args\":[{\"visible\":[false,false,false,false,false,false,false,false,false,true,false,false,false,false,false]},{\"title\":\"<b>Travel & Events </b>\"}],\"label\":\"Travel & Events\",\"method\":\"update\"},{\"args\":[{\"visible\":[false,false,false,false,false,false,false,false,false,false,true,false,false,false,false]},{\"title\":\"<b>Music </b>\"}],\"label\":\"Music\",\"method\":\"update\"},{\"args\":[{\"visible\":[false,false,false,false,false,false,false,false,false,false,false,true,false,false,false]},{\"title\":\"<b>Comedy </b>\"}],\"label\":\"Comedy\",\"method\":\"update\"},{\"args\":[{\"visible\":[false,false,false,false,false,false,false,false,false,false,false,false,true,false,false]},{\"title\":\"<b>Entertainment </b>\"}],\"label\":\"Entertainment\",\"method\":\"update\"},{\"args\":[{\"visible\":[false,false,false,false,false,false,false,false,false,false,false,false,false,true,false]},{\"title\":\"<b>People & Blogs </b>\"}],\"label\":\"People & Blogs\",\"method\":\"update\"},{\"args\":[{\"visible\":[false,false,false,false,false,false,false,false,false,false,false,false,false,false,true]},{\"title\":\"<b>Education </b>\"}],\"label\":\"Education\",\"method\":\"update\"}],\"direction\":\"down\",\"x\":0.07,\"y\":1.15}],\"font\":{\"color\":\"#CACFD3\"},\"paper_bgcolor\":\"rgba(0,0,0,0)\",\"plot_bgcolor\":\"rgba(0,0,0,0)\"},                        {\"responsive\": true}                    ).then(function(){\n",
              "                            \n",
              "var gd = document.getElementById('5e5379b5-b3bd-4d9a-8926-9b03ce47191d');\n",
              "var x = new MutationObserver(function (mutations, observer) {{\n",
              "        var display = window.getComputedStyle(gd).display;\n",
              "        if (!display || display === 'none') {{\n",
              "            console.log([gd, 'removed!']);\n",
              "            Plotly.purge(gd);\n",
              "            observer.disconnect();\n",
              "        }}\n",
              "}});\n",
              "\n",
              "// Listen for the removal of the full notebook cells\n",
              "var notebookContainer = gd.closest('#notebook-container');\n",
              "if (notebookContainer) {{\n",
              "    x.observe(notebookContainer, {childList: true});\n",
              "}}\n",
              "\n",
              "// Listen for the clearing of the current output cell\n",
              "var outputEl = gd.closest('.output');\n",
              "if (outputEl) {{\n",
              "    x.observe(outputEl, {childList: true});\n",
              "}}\n",
              "\n",
              "                        })                };                            </script>        </div>\n",
              "</body>\n",
              "</html>"
            ]
          },
          "metadata": {}
        }
      ]
    },
    {
      "cell_type": "markdown",
      "source": [
        "We now check how misused tag usage change with time."
      ],
      "metadata": {
        "id": "Adxt_Ey-pmfy"
      }
    },
    {
      "cell_type": "code",
      "source": [
        "# Percentage without N/A\n",
        "def percentage2(row):\n",
        "  return row[0.0] /(row[1.0] + row[0.0])"
      ],
      "metadata": {
        "id": "5dzpBAiLC5A1"
      },
      "execution_count": null,
      "outputs": []
    },
    {
      "cell_type": "code",
      "source": [
        "grouped_date = labeled_dataset.groupby(['upload_date', 'is it related to trump? 1:yes 0:no']).size().unstack(fill_value=0)"
      ],
      "metadata": {
        "id": "DaYC7uUKC5Dj"
      },
      "execution_count": null,
      "outputs": []
    },
    {
      "cell_type": "code",
      "source": [
        "grouped_date[\"Ratio\"] = grouped_date.apply(percentage2, axis = 1)\n",
        "grouped_date['Upload Date'] = grouped_date.index\n",
        "grouped_date['Upload Date'] = grouped_date['Upload Date'].str.slice(0,7)"
      ],
      "metadata": {
        "id": "VhCTHVeuC7gz"
      },
      "execution_count": null,
      "outputs": []
    },
    {
      "cell_type": "code",
      "source": [
        "grouped_date['Percentage of Videos'] = grouped_date.apply(num_vid, axis = 1)"
      ],
      "metadata": {
        "id": "pae3tMWbC7cg"
      },
      "execution_count": null,
      "outputs": []
    },
    {
      "cell_type": "code",
      "source": [
        "import plotly.express as px\n",
        "\n",
        "import plotly.graph_objects as go\n",
        "\n",
        "fig = go.Figure()\n",
        "\n",
        "fig = px.line(grouped_date, x=\"Upload Date\", y=\"Ratio\", title='<b>Ratio of Misused Videos </b>', markers=True)\n",
        "fig.update_layout(xaxis=dict(tickformat=\"%m\"))\n",
        "fig.update_layout(xaxis={'type': 'category'})\n",
        "\n",
        "fig.show()"
      ],
      "metadata": {
        "colab": {
          "base_uri": "https://localhost:8080/",
          "height": 542
        },
        "id": "B82-69bgr0rs",
        "outputId": "8b86f893-5886-4659-b884-589398998d89"
      },
      "execution_count": null,
      "outputs": [
        {
          "output_type": "display_data",
          "data": {
            "text/html": [
              "<html>\n",
              "<head><meta charset=\"utf-8\" /></head>\n",
              "<body>\n",
              "    <div>            <script src=\"https://cdnjs.cloudflare.com/ajax/libs/mathjax/2.7.5/MathJax.js?config=TeX-AMS-MML_SVG\"></script><script type=\"text/javascript\">if (window.MathJax) {MathJax.Hub.Config({SVG: {font: \"STIX-Web\"}});}</script>                <script type=\"text/javascript\">window.PlotlyConfig = {MathJaxConfig: 'local'};</script>\n",
              "        <script src=\"https://cdn.plot.ly/plotly-2.8.3.min.js\"></script>                <div id=\"ab7e9488-332d-4e74-9e8d-7dc0da0605ba\" class=\"plotly-graph-div\" style=\"height:525px; width:100%;\"></div>            <script type=\"text/javascript\">                                    window.PLOTLYENV=window.PLOTLYENV || {};                                    if (document.getElementById(\"ab7e9488-332d-4e74-9e8d-7dc0da0605ba\")) {                    Plotly.newPlot(                        \"ab7e9488-332d-4e74-9e8d-7dc0da0605ba\",                        [{\"hovertemplate\":\"Upload Date=%{x}<br>Ratio=%{y}<extra></extra>\",\"legendgroup\":\"\",\"line\":{\"color\":\"#636efa\",\"dash\":\"solid\"},\"marker\":{\"symbol\":\"circle\"},\"mode\":\"markers+lines\",\"name\":\"\",\"orientation\":\"v\",\"showlegend\":false,\"x\":[\"2016-09\",\"2016-10\",\"2016-11\",\"2016-12\",\"2017-01\"],\"xaxis\":\"x\",\"y\":[0.7704918032786885,0.6949152542372882,0.7983193277310925,0.8144329896907216,0.684931506849315],\"yaxis\":\"y\",\"type\":\"scatter\"}],                        {\"template\":{\"data\":{\"bar\":[{\"error_x\":{\"color\":\"#2a3f5f\"},\"error_y\":{\"color\":\"#2a3f5f\"},\"marker\":{\"line\":{\"color\":\"#E5ECF6\",\"width\":0.5},\"pattern\":{\"fillmode\":\"overlay\",\"size\":10,\"solidity\":0.2}},\"type\":\"bar\"}],\"barpolar\":[{\"marker\":{\"line\":{\"color\":\"#E5ECF6\",\"width\":0.5},\"pattern\":{\"fillmode\":\"overlay\",\"size\":10,\"solidity\":0.2}},\"type\":\"barpolar\"}],\"carpet\":[{\"aaxis\":{\"endlinecolor\":\"#2a3f5f\",\"gridcolor\":\"white\",\"linecolor\":\"white\",\"minorgridcolor\":\"white\",\"startlinecolor\":\"#2a3f5f\"},\"baxis\":{\"endlinecolor\":\"#2a3f5f\",\"gridcolor\":\"white\",\"linecolor\":\"white\",\"minorgridcolor\":\"white\",\"startlinecolor\":\"#2a3f5f\"},\"type\":\"carpet\"}],\"choropleth\":[{\"colorbar\":{\"outlinewidth\":0,\"ticks\":\"\"},\"type\":\"choropleth\"}],\"contour\":[{\"colorbar\":{\"outlinewidth\":0,\"ticks\":\"\"},\"colorscale\":[[0.0,\"#0d0887\"],[0.1111111111111111,\"#46039f\"],[0.2222222222222222,\"#7201a8\"],[0.3333333333333333,\"#9c179e\"],[0.4444444444444444,\"#bd3786\"],[0.5555555555555556,\"#d8576b\"],[0.6666666666666666,\"#ed7953\"],[0.7777777777777778,\"#fb9f3a\"],[0.8888888888888888,\"#fdca26\"],[1.0,\"#f0f921\"]],\"type\":\"contour\"}],\"contourcarpet\":[{\"colorbar\":{\"outlinewidth\":0,\"ticks\":\"\"},\"type\":\"contourcarpet\"}],\"heatmap\":[{\"colorbar\":{\"outlinewidth\":0,\"ticks\":\"\"},\"colorscale\":[[0.0,\"#0d0887\"],[0.1111111111111111,\"#46039f\"],[0.2222222222222222,\"#7201a8\"],[0.3333333333333333,\"#9c179e\"],[0.4444444444444444,\"#bd3786\"],[0.5555555555555556,\"#d8576b\"],[0.6666666666666666,\"#ed7953\"],[0.7777777777777778,\"#fb9f3a\"],[0.8888888888888888,\"#fdca26\"],[1.0,\"#f0f921\"]],\"type\":\"heatmap\"}],\"heatmapgl\":[{\"colorbar\":{\"outlinewidth\":0,\"ticks\":\"\"},\"colorscale\":[[0.0,\"#0d0887\"],[0.1111111111111111,\"#46039f\"],[0.2222222222222222,\"#7201a8\"],[0.3333333333333333,\"#9c179e\"],[0.4444444444444444,\"#bd3786\"],[0.5555555555555556,\"#d8576b\"],[0.6666666666666666,\"#ed7953\"],[0.7777777777777778,\"#fb9f3a\"],[0.8888888888888888,\"#fdca26\"],[1.0,\"#f0f921\"]],\"type\":\"heatmapgl\"}],\"histogram\":[{\"marker\":{\"pattern\":{\"fillmode\":\"overlay\",\"size\":10,\"solidity\":0.2}},\"type\":\"histogram\"}],\"histogram2d\":[{\"colorbar\":{\"outlinewidth\":0,\"ticks\":\"\"},\"colorscale\":[[0.0,\"#0d0887\"],[0.1111111111111111,\"#46039f\"],[0.2222222222222222,\"#7201a8\"],[0.3333333333333333,\"#9c179e\"],[0.4444444444444444,\"#bd3786\"],[0.5555555555555556,\"#d8576b\"],[0.6666666666666666,\"#ed7953\"],[0.7777777777777778,\"#fb9f3a\"],[0.8888888888888888,\"#fdca26\"],[1.0,\"#f0f921\"]],\"type\":\"histogram2d\"}],\"histogram2dcontour\":[{\"colorbar\":{\"outlinewidth\":0,\"ticks\":\"\"},\"colorscale\":[[0.0,\"#0d0887\"],[0.1111111111111111,\"#46039f\"],[0.2222222222222222,\"#7201a8\"],[0.3333333333333333,\"#9c179e\"],[0.4444444444444444,\"#bd3786\"],[0.5555555555555556,\"#d8576b\"],[0.6666666666666666,\"#ed7953\"],[0.7777777777777778,\"#fb9f3a\"],[0.8888888888888888,\"#fdca26\"],[1.0,\"#f0f921\"]],\"type\":\"histogram2dcontour\"}],\"mesh3d\":[{\"colorbar\":{\"outlinewidth\":0,\"ticks\":\"\"},\"type\":\"mesh3d\"}],\"parcoords\":[{\"line\":{\"colorbar\":{\"outlinewidth\":0,\"ticks\":\"\"}},\"type\":\"parcoords\"}],\"pie\":[{\"automargin\":true,\"type\":\"pie\"}],\"scatter\":[{\"marker\":{\"colorbar\":{\"outlinewidth\":0,\"ticks\":\"\"}},\"type\":\"scatter\"}],\"scatter3d\":[{\"line\":{\"colorbar\":{\"outlinewidth\":0,\"ticks\":\"\"}},\"marker\":{\"colorbar\":{\"outlinewidth\":0,\"ticks\":\"\"}},\"type\":\"scatter3d\"}],\"scattercarpet\":[{\"marker\":{\"colorbar\":{\"outlinewidth\":0,\"ticks\":\"\"}},\"type\":\"scattercarpet\"}],\"scattergeo\":[{\"marker\":{\"colorbar\":{\"outlinewidth\":0,\"ticks\":\"\"}},\"type\":\"scattergeo\"}],\"scattergl\":[{\"marker\":{\"colorbar\":{\"outlinewidth\":0,\"ticks\":\"\"}},\"type\":\"scattergl\"}],\"scattermapbox\":[{\"marker\":{\"colorbar\":{\"outlinewidth\":0,\"ticks\":\"\"}},\"type\":\"scattermapbox\"}],\"scatterpolar\":[{\"marker\":{\"colorbar\":{\"outlinewidth\":0,\"ticks\":\"\"}},\"type\":\"scatterpolar\"}],\"scatterpolargl\":[{\"marker\":{\"colorbar\":{\"outlinewidth\":0,\"ticks\":\"\"}},\"type\":\"scatterpolargl\"}],\"scatterternary\":[{\"marker\":{\"colorbar\":{\"outlinewidth\":0,\"ticks\":\"\"}},\"type\":\"scatterternary\"}],\"surface\":[{\"colorbar\":{\"outlinewidth\":0,\"ticks\":\"\"},\"colorscale\":[[0.0,\"#0d0887\"],[0.1111111111111111,\"#46039f\"],[0.2222222222222222,\"#7201a8\"],[0.3333333333333333,\"#9c179e\"],[0.4444444444444444,\"#bd3786\"],[0.5555555555555556,\"#d8576b\"],[0.6666666666666666,\"#ed7953\"],[0.7777777777777778,\"#fb9f3a\"],[0.8888888888888888,\"#fdca26\"],[1.0,\"#f0f921\"]],\"type\":\"surface\"}],\"table\":[{\"cells\":{\"fill\":{\"color\":\"#EBF0F8\"},\"line\":{\"color\":\"white\"}},\"header\":{\"fill\":{\"color\":\"#C8D4E3\"},\"line\":{\"color\":\"white\"}},\"type\":\"table\"}]},\"layout\":{\"annotationdefaults\":{\"arrowcolor\":\"#2a3f5f\",\"arrowhead\":0,\"arrowwidth\":1},\"autotypenumbers\":\"strict\",\"coloraxis\":{\"colorbar\":{\"outlinewidth\":0,\"ticks\":\"\"}},\"colorscale\":{\"diverging\":[[0,\"#8e0152\"],[0.1,\"#c51b7d\"],[0.2,\"#de77ae\"],[0.3,\"#f1b6da\"],[0.4,\"#fde0ef\"],[0.5,\"#f7f7f7\"],[0.6,\"#e6f5d0\"],[0.7,\"#b8e186\"],[0.8,\"#7fbc41\"],[0.9,\"#4d9221\"],[1,\"#276419\"]],\"sequential\":[[0.0,\"#0d0887\"],[0.1111111111111111,\"#46039f\"],[0.2222222222222222,\"#7201a8\"],[0.3333333333333333,\"#9c179e\"],[0.4444444444444444,\"#bd3786\"],[0.5555555555555556,\"#d8576b\"],[0.6666666666666666,\"#ed7953\"],[0.7777777777777778,\"#fb9f3a\"],[0.8888888888888888,\"#fdca26\"],[1.0,\"#f0f921\"]],\"sequentialminus\":[[0.0,\"#0d0887\"],[0.1111111111111111,\"#46039f\"],[0.2222222222222222,\"#7201a8\"],[0.3333333333333333,\"#9c179e\"],[0.4444444444444444,\"#bd3786\"],[0.5555555555555556,\"#d8576b\"],[0.6666666666666666,\"#ed7953\"],[0.7777777777777778,\"#fb9f3a\"],[0.8888888888888888,\"#fdca26\"],[1.0,\"#f0f921\"]]},\"colorway\":[\"#636efa\",\"#EF553B\",\"#00cc96\",\"#ab63fa\",\"#FFA15A\",\"#19d3f3\",\"#FF6692\",\"#B6E880\",\"#FF97FF\",\"#FECB52\"],\"font\":{\"color\":\"#2a3f5f\"},\"geo\":{\"bgcolor\":\"white\",\"lakecolor\":\"white\",\"landcolor\":\"#E5ECF6\",\"showlakes\":true,\"showland\":true,\"subunitcolor\":\"white\"},\"hoverlabel\":{\"align\":\"left\"},\"hovermode\":\"closest\",\"mapbox\":{\"style\":\"light\"},\"paper_bgcolor\":\"white\",\"plot_bgcolor\":\"#E5ECF6\",\"polar\":{\"angularaxis\":{\"gridcolor\":\"white\",\"linecolor\":\"white\",\"ticks\":\"\"},\"bgcolor\":\"#E5ECF6\",\"radialaxis\":{\"gridcolor\":\"white\",\"linecolor\":\"white\",\"ticks\":\"\"}},\"scene\":{\"xaxis\":{\"backgroundcolor\":\"#E5ECF6\",\"gridcolor\":\"white\",\"gridwidth\":2,\"linecolor\":\"white\",\"showbackground\":true,\"ticks\":\"\",\"zerolinecolor\":\"white\"},\"yaxis\":{\"backgroundcolor\":\"#E5ECF6\",\"gridcolor\":\"white\",\"gridwidth\":2,\"linecolor\":\"white\",\"showbackground\":true,\"ticks\":\"\",\"zerolinecolor\":\"white\"},\"zaxis\":{\"backgroundcolor\":\"#E5ECF6\",\"gridcolor\":\"white\",\"gridwidth\":2,\"linecolor\":\"white\",\"showbackground\":true,\"ticks\":\"\",\"zerolinecolor\":\"white\"}},\"shapedefaults\":{\"line\":{\"color\":\"#2a3f5f\"}},\"ternary\":{\"aaxis\":{\"gridcolor\":\"white\",\"linecolor\":\"white\",\"ticks\":\"\"},\"baxis\":{\"gridcolor\":\"white\",\"linecolor\":\"white\",\"ticks\":\"\"},\"bgcolor\":\"#E5ECF6\",\"caxis\":{\"gridcolor\":\"white\",\"linecolor\":\"white\",\"ticks\":\"\"}},\"title\":{\"x\":0.05},\"xaxis\":{\"automargin\":true,\"gridcolor\":\"white\",\"linecolor\":\"white\",\"ticks\":\"\",\"title\":{\"standoff\":15},\"zerolinecolor\":\"white\",\"zerolinewidth\":2},\"yaxis\":{\"automargin\":true,\"gridcolor\":\"white\",\"linecolor\":\"white\",\"ticks\":\"\",\"title\":{\"standoff\":15},\"zerolinecolor\":\"white\",\"zerolinewidth\":2}}},\"xaxis\":{\"anchor\":\"y\",\"domain\":[0.0,1.0],\"title\":{\"text\":\"Upload Date\"},\"tickformat\":\"%m\",\"type\":\"category\"},\"yaxis\":{\"anchor\":\"x\",\"domain\":[0.0,1.0],\"title\":{\"text\":\"Ratio\"}},\"legend\":{\"tracegroupgap\":0},\"title\":{\"text\":\"<b>Ratio of Misused Videos </b>\"}},                        {\"responsive\": true}                    ).then(function(){\n",
              "                            \n",
              "var gd = document.getElementById('ab7e9488-332d-4e74-9e8d-7dc0da0605ba');\n",
              "var x = new MutationObserver(function (mutations, observer) {{\n",
              "        var display = window.getComputedStyle(gd).display;\n",
              "        if (!display || display === 'none') {{\n",
              "            console.log([gd, 'removed!']);\n",
              "            Plotly.purge(gd);\n",
              "            observer.disconnect();\n",
              "        }}\n",
              "}});\n",
              "\n",
              "// Listen for the removal of the full notebook cells\n",
              "var notebookContainer = gd.closest('#notebook-container');\n",
              "if (notebookContainer) {{\n",
              "    x.observe(notebookContainer, {childList: true});\n",
              "}}\n",
              "\n",
              "// Listen for the clearing of the current output cell\n",
              "var outputEl = gd.closest('.output');\n",
              "if (outputEl) {{\n",
              "    x.observe(outputEl, {childList: true});\n",
              "}}\n",
              "\n",
              "                        })                };                            </script>        </div>\n",
              "</body>\n",
              "</html>"
            ]
          },
          "metadata": {}
        }
      ]
    }
  ]
}